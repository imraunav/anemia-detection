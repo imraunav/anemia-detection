{
  "cells": [
    {
      "cell_type": "code",
      "execution_count": null,
      "metadata": {
        "colab": {
          "base_uri": "https://localhost:8080/"
        },
        "id": "am2R5CiaM0UR",
        "outputId": "9511c869-a690-4bdf-e890-930a4a9570e3"
      },
      "outputs": [
        {
          "output_type": "stream",
          "name": "stdout",
          "text": [
            "  % Total    % Received % Xferd  Average Speed   Time    Time     Time  Current\n",
            "                                 Dload  Upload   Total   Spent    Left  Speed\n",
            "100  231M  100  231M    0     0  13.9M      0  0:00:16  0:00:16 --:--:-- 16.1M\n",
            "Archive:  dataset.zip\n",
            "  inflating: Anemia Detection using Palpable Palm Image Datasets from Ghana/Palm.rar  \n"
          ]
        }
      ],
      "source": [
        "!curl -o dataset.zip https://prod-dcd-datasets-cache-zipfiles.s3.eu-west-1.amazonaws.com/ccr8cm22vz-1.zip\n",
        "!unzip dataset.zip\n",
        "!unrar x \"/content/Anemia Detection using Palpable Palm Image Datasets from Ghana/Palm.rar\" > op"
      ]
    },
    {
      "cell_type": "code",
      "execution_count": null,
      "metadata": {
        "id": "if8hLVRuYIcF"
      },
      "outputs": [],
      "source": [
        "import os\n",
        "import cv2\n",
        "import numpy as np\n",
        "from tqdm import tqdm\n",
        "\n",
        "anemic = []\n",
        "non_anemic = []\n",
        "for filename in os.listdir('/content/Palm/'):\n",
        "  if 'Non' in filename:\n",
        "    non_anemic.append(filename)\n",
        "  else:\n",
        "    anemic.append(filename)\n"
      ]
    },
    {
      "cell_type": "code",
      "execution_count": null,
      "metadata": {
        "id": "g6KD6F1wYr2e"
      },
      "outputs": [],
      "source": [
        "def read_img(filepath):\n",
        "  img = cv2.imread(filepath)\n",
        "  img = cv2.resize(img, (227, 227))\n",
        "  # img = cv2.cvtColor(img, cv2.COLOR_BGR2LAB)\n",
        "  # l, a, b = img[:, :, 0], img[:, :, 1], img[:, :, 2]\n",
        "  # return b\n",
        "  return img"
      ]
    },
    {
      "cell_type": "code",
      "execution_count": null,
      "metadata": {
        "colab": {
          "base_uri": "https://localhost:8080/"
        },
        "id": "dAqYzns_YuIX",
        "outputId": "73ae3020-ba37-4feb-c992-dbb85b173738"
      },
      "outputs": [
        {
          "output_type": "stream",
          "name": "stderr",
          "text": [
            "100%|██████████| 2562/2562 [00:10<00:00, 242.94it/s]\n",
            "100%|██████████| 1698/1698 [00:03<00:00, 464.46it/s]\n"
          ]
        }
      ],
      "source": [
        "dataset = []\n",
        "labels = []\n",
        "path = '/content/Palm/'\n",
        "for filename in tqdm(anemic):\n",
        "  labels.append(0)\n",
        "  img = read_img(os.path.join(path, filename))\n",
        "  dataset.append(img)\n",
        "for filename in tqdm(non_anemic):\n",
        "  labels.append(1)\n",
        "  img = read_img(os.path.join(path, filename))\n",
        "  dataset.append(img)\n",
        "dataset = np.array(dataset)\n",
        "labels = np.array(labels)"
      ]
    },
    {
      "cell_type": "code",
      "execution_count": null,
      "metadata": {
        "id": "z-nQvZlIZFaC"
      },
      "outputs": [],
      "source": [
        "from tensorflow import keras"
      ]
    },
    {
      "cell_type": "code",
      "execution_count": null,
      "metadata": {
        "id": "gDAuoNF1ZN2E"
      },
      "outputs": [],
      "source": [
        "from sklearn.model_selection import train_test_split\n",
        "import tensorflow as tf\n",
        "\n",
        "train_x, test_x, train_y, test_y = train_test_split(dataset, labels, test_size=0.2, random_state=2)\n",
        "train_x = tf.data.Dataset.from_tensor_slices(train_x)\n",
        "test_x = tf.data.Dataset.from_tensor_slices(test_x)\n",
        "train_y = tf.data.Dataset.from_tensor_slices(train_y)\n",
        "test_y = tf.data.Dataset.from_tensor_slices(test_y)\n",
        "\n",
        "train_ds = tf.data.Dataset.zip((train_x, train_y))\n",
        "test_ds = tf.data.Dataset.zip((test_x, test_y))\n"
      ]
    },
    {
      "cell_type": "code",
      "execution_count": null,
      "metadata": {
        "id": "OB4VytQOZLNw"
      },
      "outputs": [],
      "source": [
        "def build_alexnet(in_shape, classes):\n",
        "  inputs = keras.Input(shape=(in_shape))\n",
        "  inputs = keras.layers.Rescaling(scale=1/255)(inputs)\n",
        "\n",
        "  c1 = keras.layers.Conv2D(filters=96, kernel_size=(11,11), strides=(4,4), input_shape=in_shape)(inputs)\n",
        "  c1 = keras.layers.PReLU()(c1)\n",
        "  c1 = keras.layers.BatchNormalization()(c1)\n",
        "  c1 = keras.layers.MaxPool2D(pool_size=(3,3), strides=(2,2))(c1)\n",
        "\n",
        "  c2 = keras.layers.Conv2D(filters=256, kernel_size=(5,5), strides=(1,1), padding=\"same\")(c1)\n",
        "  c2 = keras.layers.PReLU()(c2)\n",
        "  c2 = keras.layers.BatchNormalization()(c2)\n",
        "  c2 = keras.layers.MaxPool2D(pool_size=(3,3), strides=(2,2))(c2)\n",
        "\n",
        "  c3 = keras.layers.Conv2D(filters=384, kernel_size=(3,3), strides=(1,1), padding=\"same\")(c2)\n",
        "  c3 = keras.layers.PReLU()(c3)\n",
        "  c3 = keras.layers.BatchNormalization()(c3)\n",
        "\n",
        "  c4 = keras.layers.Conv2D(filters=384, kernel_size=(1,1), strides=(1,1), padding=\"same\")(c3)\n",
        "  c4 = keras.layers.PReLU()(c4)\n",
        "  c4 = keras.layers.BatchNormalization()(c4)\n",
        "\n",
        "  c5 = keras.layers.Conv2D(filters=256, kernel_size=(1,1), strides=(1,1), padding=\"same\")(c4)\n",
        "  c5 = keras.layers.PReLU()(c5)\n",
        "  c5 = keras.layers.BatchNormalization()(c5)\n",
        "  c5 = keras.layers.MaxPool2D(pool_size=(2,2))(c5)\n",
        "\n",
        "  attn = keras.layers.GlobalAveragePooling2D()(c5)\n",
        "  attn = keras.layers.Flatten()(attn)\n",
        "  attn = keras.layers.Dense(512, kernel_regularizer='l1_l2', activation='sigmoid')(attn)\n",
        "  attn = keras.layers.Dense(256, kernel_regularizer='l1_l2', activation='sigmoid')(attn)\n",
        "  c5 = keras.layers.Multiply()([c5, attn]) # across channel attention\n",
        "\n",
        "  f1 = keras.layers.Flatten()(c5)\n",
        "  # f2 = keras.layers.Multiply()([c1_branch, f1])\n",
        "  # f = keras.layers.Add()([f1, f2])\n",
        "  l1 = keras.layers.Dense(1024,activation='relu')(f1)\n",
        "  l1 = keras.layers.Dropout(0.5)(l1)\n",
        "  l2 = keras.layers.Dense(1024,activation='relu')(l1)\n",
        "  l2 = keras.layers.Dropout(0.5)(l2)\n",
        "  l3 = keras.layers.Dense(classes,activation='softmax')(l2)\n",
        "\n",
        "  model = keras.Model(inputs=[inputs], outputs=[l3])\n",
        "  return model"
      ]
    },
    {
      "cell_type": "code",
      "execution_count": null,
      "metadata": {
        "colab": {
          "base_uri": "https://localhost:8080/"
        },
        "id": "LCZvgVu3ZPxj",
        "outputId": "5d77a1f3-16d4-45e4-a2c8-d8764c2a80ff"
      },
      "outputs": [
        {
          "output_type": "stream",
          "name": "stdout",
          "text": [
            "Model: \"model\"\n",
            "__________________________________________________________________________________________________\n",
            " Layer (type)                   Output Shape         Param #     Connected to                     \n",
            "==================================================================================================\n",
            " input_2 (InputLayer)           [(None, 227, 227, 3  0           []                               \n",
            "                                )]                                                                \n",
            "                                                                                                  \n",
            " conv2d (Conv2D)                (None, 55, 55, 96)   34944       ['input_2[0][0]']                \n",
            "                                                                                                  \n",
            " p_re_lu (PReLU)                (None, 55, 55, 96)   290400      ['conv2d[1][0]']                 \n",
            "                                                                                                  \n",
            " batch_normalization (BatchNorm  (None, 55, 55, 96)  384         ['p_re_lu[1][0]']                \n",
            " alization)                                                                                       \n",
            "                                                                                                  \n",
            " max_pooling2d (MaxPooling2D)   (None, 27, 27, 96)   0           ['batch_normalization[1][0]']    \n",
            "                                                                                                  \n",
            " conv2d_1 (Conv2D)              (None, 27, 27, 256)  614656      ['max_pooling2d[1][0]']          \n",
            "                                                                                                  \n",
            " p_re_lu_1 (PReLU)              (None, 27, 27, 256)  186624      ['conv2d_1[1][0]']               \n",
            "                                                                                                  \n",
            " batch_normalization_1 (BatchNo  (None, 27, 27, 256)  1024       ['p_re_lu_1[1][0]']              \n",
            " rmalization)                                                                                     \n",
            "                                                                                                  \n",
            " max_pooling2d_1 (MaxPooling2D)  (None, 13, 13, 256)  0          ['batch_normalization_1[1][0]']  \n",
            "                                                                                                  \n",
            " conv2d_2 (Conv2D)              (None, 13, 13, 384)  885120      ['max_pooling2d_1[1][0]']        \n",
            "                                                                                                  \n",
            " p_re_lu_2 (PReLU)              (None, 13, 13, 384)  64896       ['conv2d_2[1][0]']               \n",
            "                                                                                                  \n",
            " batch_normalization_2 (BatchNo  (None, 13, 13, 384)  1536       ['p_re_lu_2[1][0]']              \n",
            " rmalization)                                                                                     \n",
            "                                                                                                  \n",
            " conv2d_3 (Conv2D)              (None, 13, 13, 384)  147840      ['batch_normalization_2[1][0]']  \n",
            "                                                                                                  \n",
            " p_re_lu_3 (PReLU)              (None, 13, 13, 384)  64896       ['conv2d_3[1][0]']               \n",
            "                                                                                                  \n",
            " batch_normalization_3 (BatchNo  (None, 13, 13, 384)  1536       ['p_re_lu_3[1][0]']              \n",
            " rmalization)                                                                                     \n",
            "                                                                                                  \n",
            " conv2d_4 (Conv2D)              (None, 13, 13, 256)  98560       ['batch_normalization_3[1][0]']  \n",
            "                                                                                                  \n",
            " p_re_lu_4 (PReLU)              (None, 13, 13, 256)  43264       ['conv2d_4[1][0]']               \n",
            "                                                                                                  \n",
            " batch_normalization_4 (BatchNo  (None, 13, 13, 256)  1024       ['p_re_lu_4[1][0]']              \n",
            " rmalization)                                                                                     \n",
            "                                                                                                  \n",
            " max_pooling2d_2 (MaxPooling2D)  (None, 6, 6, 256)   0           ['batch_normalization_4[1][0]']  \n",
            "                                                                                                  \n",
            " global_average_pooling2d (Glob  (None, 256)         0           ['max_pooling2d_2[1][0]']        \n",
            " alAveragePooling2D)                                                                              \n",
            "                                                                                                  \n",
            " flatten (Flatten)              (None, 256)          0           ['global_average_pooling2d[1][0]'\n",
            "                                                                 ]                                \n",
            "                                                                                                  \n",
            " dense (Dense)                  (None, 512)          131584      ['flatten[1][0]']                \n",
            "                                                                                                  \n",
            " dense_1 (Dense)                (None, 256)          131328      ['dense[1][0]']                  \n",
            "                                                                                                  \n",
            " multiply (Multiply)            (None, 6, 6, 256)    0           ['max_pooling2d_2[1][0]',        \n",
            "                                                                  'dense_1[1][0]']                \n",
            "                                                                                                  \n",
            " flatten_1 (Flatten)            (None, 9216)         0           ['multiply[1][0]']               \n",
            "                                                                                                  \n",
            " dense_2 (Dense)                (None, 1024)         9438208     ['flatten_1[1][0]']              \n",
            "                                                                                                  \n",
            " dropout (Dropout)              (None, 1024)         0           ['dense_2[1][0]']                \n",
            "                                                                                                  \n",
            " dense_3 (Dense)                (None, 1024)         1049600     ['dropout[1][0]']                \n",
            "                                                                                                  \n",
            " dropout_1 (Dropout)            (None, 1024)         0           ['dense_3[1][0]']                \n",
            "                                                                                                  \n",
            " dense_4 (Dense)                (None, 2)            2050        ['dropout_1[1][0]']              \n",
            "                                                                                                  \n",
            "==================================================================================================\n",
            "Total params: 13,189,474\n",
            "Trainable params: 13,186,722\n",
            "Non-trainable params: 2,752\n",
            "__________________________________________________________________________________________________\n"
          ]
        }
      ],
      "source": [
        "alexnet = build_alexnet((227, 227, 3), classes=2)\n",
        "alexnet.summary()"
      ]
    },
    {
      "cell_type": "code",
      "execution_count": null,
      "metadata": {
        "colab": {
          "base_uri": "https://localhost:8080/"
        },
        "id": "7kw5GBYpZQbx",
        "outputId": "bd8ef15e-8e12-4033-d7d7-bed79fb24323"
      },
      "outputs": [
        {
          "output_type": "stream",
          "name": "stdout",
          "text": [
            "Epoch 1/100\n",
            "213/213 - 24s - loss: 20.3489 - accuracy: 0.5493 - val_loss: 1.0001 - val_accuracy: 0.5892 - 24s/epoch - 113ms/step\n",
            "Epoch 2/100\n",
            "213/213 - 6s - loss: 0.9902 - accuracy: 0.6030 - val_loss: 0.9973 - val_accuracy: 0.4965 - 6s/epoch - 27ms/step\n",
            "Epoch 3/100\n",
            "213/213 - 6s - loss: 0.9600 - accuracy: 0.6147 - val_loss: 0.9456 - val_accuracy: 0.6080 - 6s/epoch - 27ms/step\n",
            "Epoch 4/100\n",
            "213/213 - 6s - loss: 0.9424 - accuracy: 0.6262 - val_loss: 1.0929 - val_accuracy: 0.5822 - 6s/epoch - 28ms/step\n",
            "Epoch 5/100\n",
            "213/213 - 6s - loss: 0.9269 - accuracy: 0.6482 - val_loss: 1.1366 - val_accuracy: 0.5493 - 6s/epoch - 28ms/step\n",
            "Epoch 6/100\n",
            "213/213 - 6s - loss: 0.9200 - accuracy: 0.6552 - val_loss: 1.0083 - val_accuracy: 0.5258 - 6s/epoch - 28ms/step\n",
            "Epoch 7/100\n",
            "213/213 - 6s - loss: 0.9111 - accuracy: 0.6620 - val_loss: 0.9776 - val_accuracy: 0.6397 - 6s/epoch - 28ms/step\n",
            "Epoch 8/100\n",
            "213/213 - 6s - loss: 0.8930 - accuracy: 0.6731 - val_loss: 1.0361 - val_accuracy: 0.6420 - 6s/epoch - 27ms/step\n",
            "Epoch 9/100\n",
            "213/213 - 6s - loss: 0.8878 - accuracy: 0.6860 - val_loss: 1.0942 - val_accuracy: 0.5516 - 6s/epoch - 28ms/step\n",
            "Epoch 10/100\n",
            "213/213 - 6s - loss: 0.8790 - accuracy: 0.6963 - val_loss: 0.9414 - val_accuracy: 0.6491 - 6s/epoch - 27ms/step\n",
            "Epoch 11/100\n",
            "213/213 - 6s - loss: 0.8634 - accuracy: 0.7086 - val_loss: 0.9225 - val_accuracy: 0.6549 - 6s/epoch - 28ms/step\n",
            "Epoch 12/100\n",
            "213/213 - 6s - loss: 0.8499 - accuracy: 0.7136 - val_loss: 0.9739 - val_accuracy: 0.6256 - 6s/epoch - 27ms/step\n",
            "Epoch 13/100\n",
            "213/213 - 6s - loss: 0.8271 - accuracy: 0.7368 - val_loss: 0.8861 - val_accuracy: 0.6796 - 6s/epoch - 28ms/step\n",
            "Epoch 14/100\n",
            "213/213 - 6s - loss: 0.8079 - accuracy: 0.7471 - val_loss: 0.9614 - val_accuracy: 0.6021 - 6s/epoch - 27ms/step\n",
            "Epoch 15/100\n",
            "213/213 - 6s - loss: 0.7869 - accuracy: 0.7664 - val_loss: 1.0073 - val_accuracy: 0.6491 - 6s/epoch - 28ms/step\n",
            "Epoch 16/100\n",
            "213/213 - 6s - loss: 0.7454 - accuracy: 0.7893 - val_loss: 1.0324 - val_accuracy: 0.6573 - 6s/epoch - 28ms/step\n",
            "Epoch 17/100\n",
            "213/213 - 6s - loss: 0.7138 - accuracy: 0.8122 - val_loss: 1.0795 - val_accuracy: 0.6643 - 6s/epoch - 27ms/step\n",
            "Epoch 18/100\n",
            "213/213 - 6s - loss: 0.7175 - accuracy: 0.8187 - val_loss: 1.2256 - val_accuracy: 0.5939 - 6s/epoch - 28ms/step\n",
            "Epoch 19/100\n",
            "213/213 - 6s - loss: 0.6564 - accuracy: 0.8480 - val_loss: 0.9860 - val_accuracy: 0.7160 - 6s/epoch - 28ms/step\n",
            "Epoch 20/100\n",
            "213/213 - 6s - loss: 0.6423 - accuracy: 0.8656 - val_loss: 1.1767 - val_accuracy: 0.6937 - 6s/epoch - 28ms/step\n",
            "Epoch 21/100\n",
            "213/213 - 6s - loss: 0.6023 - accuracy: 0.8888 - val_loss: 0.9143 - val_accuracy: 0.7770 - 6s/epoch - 27ms/step\n",
            "Epoch 22/100\n",
            "213/213 - 6s - loss: 0.5511 - accuracy: 0.9093 - val_loss: 1.0040 - val_accuracy: 0.7183 - 6s/epoch - 28ms/step\n",
            "Epoch 23/100\n",
            "213/213 - 6s - loss: 0.5682 - accuracy: 0.9120 - val_loss: 1.0174 - val_accuracy: 0.7629 - 6s/epoch - 28ms/step\n",
            "Epoch 24/100\n",
            "213/213 - 6s - loss: 0.5198 - accuracy: 0.9313 - val_loss: 0.8606 - val_accuracy: 0.8345 - 6s/epoch - 28ms/step\n",
            "Epoch 25/100\n",
            "213/213 - 6s - loss: 0.5172 - accuracy: 0.9310 - val_loss: 0.8621 - val_accuracy: 0.8521 - 6s/epoch - 28ms/step\n",
            "Epoch 26/100\n",
            "213/213 - 6s - loss: 0.4696 - accuracy: 0.9501 - val_loss: 1.1404 - val_accuracy: 0.7700 - 6s/epoch - 27ms/step\n",
            "Epoch 27/100\n",
            "213/213 - 6s - loss: 0.4677 - accuracy: 0.9545 - val_loss: 0.8575 - val_accuracy: 0.8615 - 6s/epoch - 28ms/step\n",
            "Epoch 28/100\n",
            "213/213 - 6s - loss: 0.4526 - accuracy: 0.9572 - val_loss: 1.3982 - val_accuracy: 0.7477 - 6s/epoch - 28ms/step\n",
            "Epoch 29/100\n",
            "213/213 - 6s - loss: 0.4200 - accuracy: 0.9710 - val_loss: 0.7438 - val_accuracy: 0.8744 - 6s/epoch - 28ms/step\n",
            "Epoch 30/100\n",
            "213/213 - 6s - loss: 0.4238 - accuracy: 0.9677 - val_loss: 0.9113 - val_accuracy: 0.8333 - 6s/epoch - 28ms/step\n",
            "Epoch 31/100\n",
            "213/213 - 6s - loss: 0.4700 - accuracy: 0.9601 - val_loss: 0.9244 - val_accuracy: 0.8638 - 6s/epoch - 28ms/step\n",
            "Epoch 32/100\n",
            "213/213 - 6s - loss: 0.3948 - accuracy: 0.9771 - val_loss: 0.9462 - val_accuracy: 0.8545 - 6s/epoch - 27ms/step\n",
            "Epoch 33/100\n",
            "213/213 - 6s - loss: 0.4181 - accuracy: 0.9765 - val_loss: 0.9391 - val_accuracy: 0.8603 - 6s/epoch - 28ms/step\n",
            "Epoch 34/100\n",
            "213/213 - 6s - loss: 0.3874 - accuracy: 0.9815 - val_loss: 0.7564 - val_accuracy: 0.8756 - 6s/epoch - 28ms/step\n",
            "Epoch 35/100\n",
            "213/213 - 6s - loss: 0.4050 - accuracy: 0.9768 - val_loss: 0.9985 - val_accuracy: 0.8568 - 6s/epoch - 28ms/step\n",
            "Epoch 36/100\n",
            "213/213 - 6s - loss: 0.4291 - accuracy: 0.9715 - val_loss: 1.3657 - val_accuracy: 0.7864 - 6s/epoch - 28ms/step\n",
            "Epoch 37/100\n",
            "213/213 - 6s - loss: 0.3669 - accuracy: 0.9853 - val_loss: 0.8070 - val_accuracy: 0.8979 - 6s/epoch - 27ms/step\n",
            "Epoch 38/100\n",
            "213/213 - 6s - loss: 0.3966 - accuracy: 0.9803 - val_loss: 0.9699 - val_accuracy: 0.8580 - 6s/epoch - 27ms/step\n",
            "Epoch 39/100\n",
            "213/213 - 6s - loss: 0.3778 - accuracy: 0.9839 - val_loss: 1.3721 - val_accuracy: 0.7993 - 6s/epoch - 27ms/step\n",
            "Epoch 40/100\n",
            "213/213 - 6s - loss: 0.3926 - accuracy: 0.9792 - val_loss: 1.1805 - val_accuracy: 0.8028 - 6s/epoch - 28ms/step\n",
            "Epoch 41/100\n",
            "213/213 - 6s - loss: 0.4195 - accuracy: 0.9756 - val_loss: 0.7284 - val_accuracy: 0.9038 - 6s/epoch - 28ms/step\n",
            "Epoch 42/100\n",
            "213/213 - 6s - loss: 0.3787 - accuracy: 0.9839 - val_loss: 1.2204 - val_accuracy: 0.8498 - 6s/epoch - 27ms/step\n",
            "Epoch 43/100\n",
            "213/213 - 6s - loss: 0.3934 - accuracy: 0.9798 - val_loss: 0.9969 - val_accuracy: 0.8474 - 6s/epoch - 27ms/step\n",
            "Epoch 44/100\n",
            "213/213 - 6s - loss: 0.3631 - accuracy: 0.9856 - val_loss: 1.0017 - val_accuracy: 0.8838 - 6s/epoch - 28ms/step\n",
            "Epoch 45/100\n",
            "213/213 - 6s - loss: 0.3698 - accuracy: 0.9865 - val_loss: 0.8269 - val_accuracy: 0.9026 - 6s/epoch - 27ms/step\n",
            "Epoch 46/100\n",
            "Restoring model weights from the end of the best epoch: 41.\n",
            "213/213 - 6s - loss: 0.3687 - accuracy: 0.9862 - val_loss: 0.9267 - val_accuracy: 0.8650 - 6s/epoch - 28ms/step\n",
            "Epoch 46: early stopping\n"
          ]
        }
      ],
      "source": [
        " alexnet.compile(\n",
        "    loss='sparse_categorical_crossentropy',\n",
        "    optimizer='adam',\n",
        "    metrics=['accuracy']\n",
        ")\n",
        "model_callbacks = [keras.callbacks.EarlyStopping(\n",
        "    monitor=\"val_loss\",\n",
        "    min_delta=1e-4,\n",
        "    patience=5,\n",
        "    verbose=1,\n",
        "    mode=\"auto\",\n",
        "    restore_best_weights=True,\n",
        "    start_from_epoch=40,\n",
        ")]\n",
        "batch_size = 16\n",
        "log = alexnet.fit(train_ds.batch(batch_size), epochs=100, verbose=2, validation_data=test_ds.batch(batch_size),\n",
        "                  callbacks=model_callbacks)"
      ]
    },
    {
      "cell_type": "code",
      "execution_count": null,
      "metadata": {
        "id": "2pel9GM8ZVS6",
        "colab": {
          "base_uri": "https://localhost:8080/",
          "height": 663
        },
        "outputId": "ecac61b8-ceb9-4959-dae2-756cb1e3ceaa"
      },
      "outputs": [
        {
          "output_type": "display_data",
          "data": {
            "text/plain": [
              "<Figure size 640x480 with 1 Axes>"
            ],
            "image/png": "[encoded data removed]"
          },
          "metadata": {}
        },
        {
          "output_type": "stream",
          "name": "stdout",
          "text": [
            "Model performance on test dataset: \n",
            "Loss: 0.7284280061721802\n",
            "Accuracy: 0.9037558436393738\n",
            "54/54 [==============================] - 1s 10ms/step\n",
            "[[493  37]\n",
            " [ 45 277]]\n",
            "Model performance on train dataset: \n",
            "Loss: 0.36699819564819336\n",
            "Accuracy: 0.9873826503753662\n",
            "213/213 [==============================] - 2s 10ms/step\n",
            "[[2020   12]\n",
            " [  31 1345]]\n"
          ]
        }
      ],
      "source": [
        "from matplotlib import pyplot as plt\n",
        "plt.plot(log.history['loss'])\n",
        "plt.plot(log.history['val_loss'])\n",
        "plt.xlabel(\"Epochs\")\n",
        "plt.ylabel(\"Loss\")\n",
        "plt.legend([\"Train loss\", \"Val loss\"])\n",
        "plt.show()\n",
        "\n",
        "loss, acc = alexnet.evaluate(test_ds.batch(batch_size), verbose=0)\n",
        "print(\"Model performance on test dataset: \")\n",
        "print(f\"Loss: {loss}\")\n",
        "print(f\"Accuracy: {acc}\")\n",
        "\n",
        "y_pred = alexnet.predict(test_x.batch(batch_size))\n",
        "y_pred = tf.math.argmax(\n",
        "    y_pred,\n",
        "    axis=1)\n",
        "y_test_list = list(test_y.as_numpy_iterator())\n",
        "cm = tf.math.confusion_matrix(y_test_list, y_pred).numpy()\n",
        "print(cm)\n",
        "\n",
        "loss, acc = alexnet.evaluate(train_ds.batch(batch_size), verbose=0)\n",
        "print(\"Model performance on train dataset: \")\n",
        "print(f\"Loss: {loss}\")\n",
        "print(f\"Accuracy: {acc}\")\n",
        "\n",
        "y_pred = alexnet.predict(train_x.batch(batch_size))\n",
        "y_pred = tf.math.argmax(\n",
        "    y_pred,\n",
        "    axis=1)\n",
        "y_train_list = list(train_y.as_numpy_iterator())\n",
        "cm = tf.math.confusion_matrix(y_train_list, y_pred).numpy()\n",
        "print(cm)"
      ]
    },
    {
      "cell_type": "code",
      "source": [
        "plt.plot(log.history['accuracy'])\n",
        "plt.plot(log.history['val_accuracy'])\n",
        "plt.xlabel(\"Epochs\")\n",
        "plt.ylabel(\"Accuracy\")\n",
        "plt.legend([\"Train acc.\", \"Val acc.\"])\n",
        "plt.show()"
      ],
      "metadata": {
        "colab": {
          "base_uri": "https://localhost:8080/",
          "height": 449
        },
        "id": "6zJXzzSnPpFa",
        "outputId": "843af328-6258-4fa2-8af7-13e6a7a393ea"
      },
      "execution_count": null,
      "outputs": [
        {
          "output_type": "display_data",
          "data": {
            "text/plain": [
              "<Figure size 640x480 with 1 Axes>"
            ],
            "image/png": "[encoded data removed]"
          },
          "metadata": {}
        }
      ]
    },
    {
      "cell_type": "code",
      "source": [
        "from google.colab import drive\n",
        "drive.mount('/content/drive')"
      ],
      "metadata": {
        "id": "IqJLM0xOEK6s",
        "colab": {
          "base_uri": "https://localhost:8080/"
        },
        "outputId": "0a57c048-bb69-43b2-e607-a29f4c262ec6"
      },
      "execution_count": null,
      "outputs": [
        {
          "output_type": "stream",
          "name": "stdout",
          "text": [
            "Mounted at /content/drive\n"
          ]
        }
      ]
    },
    {
      "cell_type": "code",
      "source": [
        "alexnet.save('./drive/MyDrive/ch-attn-alexnet.h5')"
      ],
      "metadata": {
        "id": "KyGu03qsE8qk"
      },
      "execution_count": null,
      "outputs": []
    },
    {
      "cell_type": "code",
      "source": [],
      "metadata": {
        "id": "ZS94ErYxIphV"
      },
      "execution_count": null,
      "outputs": []
    }
  ],
  "metadata": {
    "accelerator": "GPU",
    "colab": {
      "provenance": [],
      "gpuType": "T4"
    },
    "kernelspec": {
      "display_name": "Python 3",
      "name": "python3"
    },
    "language_info": {
      "name": "python"
    }
  },
  "nbformat": 4,
  "nbformat_minor": 0
}