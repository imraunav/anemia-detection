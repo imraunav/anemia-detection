{
  "cells": [
    {
      "cell_type": "markdown",
      "metadata": {
        "id": "view-in-github",
        "colab_type": "text"
      },
      "source": [
        "<a href=\"https://colab.research.google.com/github/imraunav/anemia-detection/blob/main/anemia_cnn_with_ch_attention.ipynb\" target=\"_parent\"><img src=\"https://colab.research.google.com/assets/colab-badge.svg\" alt=\"Open In Colab\"/></a>"
      ]
    },
    {
      "cell_type": "code",
      "execution_count": 1,
      "metadata": {
        "colab": {
          "base_uri": "https://localhost:8080/"
        },
        "id": "am2R5CiaM0UR",
        "outputId": "c57acb4e-56f4-4f64-b37c-6a3e3da492c0"
      },
      "outputs": [
        {
          "output_type": "stream",
          "name": "stdout",
          "text": [
            "  % Total    % Received % Xferd  Average Speed   Time    Time     Time  Current\n",
            "                                 Dload  Upload   Total   Spent    Left  Speed\n",
            "100  231M  100  231M    0     0  28.2M      0  0:00:08  0:00:08 --:--:-- 34.3M\n",
            "Archive:  dataset.zip\n",
            "  inflating: Anemia Detection using Palpable Palm Image Datasets from Ghana/Palm.rar  \n"
          ]
        }
      ],
      "source": [
        "!curl -o dataset.zip https://prod-dcd-datasets-cache-zipfiles.s3.eu-west-1.amazonaws.com/ccr8cm22vz-1.zip\n",
        "!unzip dataset.zip\n",
        "!unrar x \"/content/Anemia Detection using Palpable Palm Image Datasets from Ghana/Palm.rar\" > op"
      ]
    },
    {
      "cell_type": "code",
      "execution_count": 2,
      "metadata": {
        "id": "if8hLVRuYIcF"
      },
      "outputs": [],
      "source": [
        "import os\n",
        "import cv2\n",
        "import numpy as np\n",
        "from tqdm import tqdm\n",
        "\n",
        "anemic = []\n",
        "non_anemic = []\n",
        "for filename in os.listdir('/content/Palm/'):\n",
        "  if 'Non' in filename:\n",
        "    non_anemic.append(filename)\n",
        "  else:\n",
        "    anemic.append(filename)\n"
      ]
    },
    {
      "cell_type": "code",
      "execution_count": 3,
      "metadata": {
        "id": "g6KD6F1wYr2e"
      },
      "outputs": [],
      "source": [
        "def read_img(filepath):\n",
        "  img = cv2.imread(filepath)\n",
        "  img = cv2.resize(img, (227, 227))\n",
        "  # img = cv2.cvtColor(img, cv2.COLOR_BGR2LAB)\n",
        "  # l, a, b = img[:, :, 0], img[:, :, 1], img[:, :, 2]\n",
        "  # return b\n",
        "  return img"
      ]
    },
    {
      "cell_type": "code",
      "execution_count": 4,
      "metadata": {
        "colab": {
          "base_uri": "https://localhost:8080/"
        },
        "id": "dAqYzns_YuIX",
        "outputId": "23461535-7c96-44df-8f4e-e93b70fad653"
      },
      "outputs": [
        {
          "output_type": "stream",
          "name": "stderr",
          "text": [
            "100%|██████████| 2562/2562 [00:09<00:00, 256.41it/s]\n",
            "100%|██████████| 1698/1698 [00:06<00:00, 252.18it/s]\n"
          ]
        }
      ],
      "source": [
        "dataset = []\n",
        "labels = []\n",
        "path = '/content/Palm/'\n",
        "for filename in tqdm(anemic):\n",
        "  labels.append(0)\n",
        "  img = read_img(os.path.join(path, filename))\n",
        "  dataset.append(img)\n",
        "for filename in tqdm(non_anemic):\n",
        "  labels.append(1)\n",
        "  img = read_img(os.path.join(path, filename))\n",
        "  dataset.append(img)\n",
        "dataset = np.array(dataset)\n",
        "labels = np.array(labels)"
      ]
    },
    {
      "cell_type": "code",
      "execution_count": 5,
      "metadata": {
        "id": "z-nQvZlIZFaC"
      },
      "outputs": [],
      "source": [
        "from tensorflow import keras"
      ]
    },
    {
      "cell_type": "code",
      "execution_count": 6,
      "metadata": {
        "id": "gDAuoNF1ZN2E",
        "colab": {
          "base_uri": "https://localhost:8080/"
        },
        "outputId": "80cc0562-9888-4bf7-81dc-3bbdf355fcfe"
      },
      "outputs": [
        {
          "output_type": "stream",
          "name": "stdout",
          "text": [
            "(3067, 227, 227, 3) (852, 227, 227, 3) (341, 227, 227, 3)\n",
            "(3067,) (852,) (341,)\n"
          ]
        }
      ],
      "source": [
        "from sklearn.model_selection import train_test_split\n",
        "import tensorflow as tf\n",
        "\n",
        "\n",
        "train_x, test_x, train_y, test_y = train_test_split(dataset, labels, test_size=0.2, random_state=2)\n",
        "train_x, val_x, train_y, val_y = train_test_split(train_x, train_y, test_size=0.1, random_state=5)\n",
        "print(train_x.shape, test_x.shape, val_x.shape)\n",
        "print(train_y.shape, test_y.shape, val_y.shape)\n",
        "\n",
        "train_x = tf.data.Dataset.from_tensor_slices(train_x)\n",
        "test_x = tf.data.Dataset.from_tensor_slices(test_x)\n",
        "val_x = tf.data.Dataset.from_tensor_slices(val_x)\n",
        "\n",
        "train_y = tf.data.Dataset.from_tensor_slices(train_y)\n",
        "test_y = tf.data.Dataset.from_tensor_slices(test_y)\n",
        "val_y = tf.data.Dataset.from_tensor_slices(val_y)\n",
        "\n",
        "train_ds = tf.data.Dataset.zip((train_x, train_y))\n",
        "test_ds = tf.data.Dataset.zip((test_x, test_y))\n",
        "val_ds = tf.data.Dataset.zip((val_x, val_y))\n"
      ]
    },
    {
      "cell_type": "code",
      "execution_count": 7,
      "metadata": {
        "id": "OB4VytQOZLNw"
      },
      "outputs": [],
      "source": [
        "def build_alexnet(in_shape, classes):\n",
        "  inputs = keras.Input(shape=(in_shape))\n",
        "  inputs = keras.layers.Rescaling(scale=1/255)(inputs)\n",
        "\n",
        "  c1 = keras.layers.Conv2D(filters=96, kernel_size=(11,11), strides=(4,4), input_shape=in_shape)(inputs)\n",
        "  c1 = keras.layers.PReLU()(c1)\n",
        "  c1 = keras.layers.BatchNormalization()(c1)\n",
        "  c1 = keras.layers.MaxPool2D(pool_size=(3,3), strides=(2,2))(c1)\n",
        "\n",
        "  c2 = keras.layers.Conv2D(filters=256, kernel_size=(5,5), strides=(1,1), padding=\"same\")(c1)\n",
        "  c2 = keras.layers.PReLU()(c2)\n",
        "  c2 = keras.layers.BatchNormalization()(c2)\n",
        "  c2 = keras.layers.MaxPool2D(pool_size=(3,3), strides=(2,2))(c2)\n",
        "\n",
        "  c3 = keras.layers.Conv2D(filters=384, kernel_size=(3,3), strides=(1,1), padding=\"same\")(c2)\n",
        "  c3 = keras.layers.PReLU()(c3)\n",
        "  c3 = keras.layers.BatchNormalization()(c3)\n",
        "\n",
        "  c4 = keras.layers.Conv2D(filters=384, kernel_size=(1,1), strides=(1,1), padding=\"same\")(c3)\n",
        "  c4 = keras.layers.PReLU()(c4)\n",
        "  c4 = keras.layers.BatchNormalization()(c4)\n",
        "\n",
        "  c5 = keras.layers.Conv2D(filters=256, kernel_size=(1,1), strides=(1,1), padding=\"same\")(c4)\n",
        "  c5 = keras.layers.PReLU()(c5)\n",
        "  c5 = keras.layers.BatchNormalization()(c5)\n",
        "  c5 = keras.layers.MaxPool2D(pool_size=(2,2))(c5)\n",
        "\n",
        "  attn = keras.layers.GlobalAveragePooling2D()(c5)\n",
        "  attn = keras.layers.Flatten()(attn)\n",
        "  attn = keras.layers.Dense(512, kernel_regularizer='l1_l2', activation='sigmoid')(attn)\n",
        "  attn = keras.layers.Dense(256, kernel_regularizer='l1_l2', activation='sigmoid')(attn)\n",
        "  c5 = keras.layers.Multiply()([c5, attn]) # across channel attention\n",
        "\n",
        "  f1 = keras.layers.Flatten()(c5)\n",
        "  # f2 = keras.layers.Multiply()([c1_branch, f1])\n",
        "  # f = keras.layers.Add()([f1, f2])\n",
        "  l1 = keras.layers.Dense(1024,activation='relu')(f1)\n",
        "  l1 = keras.layers.Dropout(0.5)(l1)\n",
        "  l2 = keras.layers.Dense(1024,activation='relu')(l1)\n",
        "  l2 = keras.layers.Dropout(0.5)(l2)\n",
        "  l3 = keras.layers.Dense(classes,activation='softmax')(l2)\n",
        "\n",
        "  model = keras.Model(inputs=[inputs], outputs=[l3])\n",
        "  return model"
      ]
    },
    {
      "cell_type": "code",
      "execution_count": 10,
      "metadata": {
        "colab": {
          "base_uri": "https://localhost:8080/"
        },
        "id": "LCZvgVu3ZPxj",
        "outputId": "21870887-06b5-4311-fd9f-e8bae351ee83"
      },
      "outputs": [
        {
          "output_type": "stream",
          "name": "stdout",
          "text": [
            "Model: \"model_1\"\n",
            "__________________________________________________________________________________________________\n",
            " Layer (type)                Output Shape                 Param #   Connected to                  \n",
            "==================================================================================================\n",
            " input_4 (InputLayer)        [(None, 227, 227, 3)]        0         []                            \n",
            "                                                                                                  \n",
            " conv2d_5 (Conv2D)           (None, 55, 55, 96)           34944     ['input_4[0][0]']             \n",
            "                                                                                                  \n",
            " p_re_lu_5 (PReLU)           (None, 55, 55, 96)           290400    ['conv2d_5[1][0]']            \n",
            "                                                                                                  \n",
            " batch_normalization_5 (Bat  (None, 55, 55, 96)           384       ['p_re_lu_5[1][0]']           \n",
            " chNormalization)                                                                                 \n",
            "                                                                                                  \n",
            " max_pooling2d_3 (MaxPoolin  (None, 27, 27, 96)           0         ['batch_normalization_5[1][0]'\n",
            " g2D)                                                               ]                             \n",
            "                                                                                                  \n",
            " conv2d_6 (Conv2D)           (None, 27, 27, 256)          614656    ['max_pooling2d_3[1][0]']     \n",
            "                                                                                                  \n",
            " p_re_lu_6 (PReLU)           (None, 27, 27, 256)          186624    ['conv2d_6[1][0]']            \n",
            "                                                                                                  \n",
            " batch_normalization_6 (Bat  (None, 27, 27, 256)          1024      ['p_re_lu_6[1][0]']           \n",
            " chNormalization)                                                                                 \n",
            "                                                                                                  \n",
            " max_pooling2d_4 (MaxPoolin  (None, 13, 13, 256)          0         ['batch_normalization_6[1][0]'\n",
            " g2D)                                                               ]                             \n",
            "                                                                                                  \n",
            " conv2d_7 (Conv2D)           (None, 13, 13, 384)          885120    ['max_pooling2d_4[1][0]']     \n",
            "                                                                                                  \n",
            " p_re_lu_7 (PReLU)           (None, 13, 13, 384)          64896     ['conv2d_7[1][0]']            \n",
            "                                                                                                  \n",
            " batch_normalization_7 (Bat  (None, 13, 13, 384)          1536      ['p_re_lu_7[1][0]']           \n",
            " chNormalization)                                                                                 \n",
            "                                                                                                  \n",
            " conv2d_8 (Conv2D)           (None, 13, 13, 384)          147840    ['batch_normalization_7[1][0]'\n",
            "                                                                    ]                             \n",
            "                                                                                                  \n",
            " p_re_lu_8 (PReLU)           (None, 13, 13, 384)          64896     ['conv2d_8[1][0]']            \n",
            "                                                                                                  \n",
            " batch_normalization_8 (Bat  (None, 13, 13, 384)          1536      ['p_re_lu_8[1][0]']           \n",
            " chNormalization)                                                                                 \n",
            "                                                                                                  \n",
            " conv2d_9 (Conv2D)           (None, 13, 13, 256)          98560     ['batch_normalization_8[1][0]'\n",
            "                                                                    ]                             \n",
            "                                                                                                  \n",
            " p_re_lu_9 (PReLU)           (None, 13, 13, 256)          43264     ['conv2d_9[1][0]']            \n",
            "                                                                                                  \n",
            " batch_normalization_9 (Bat  (None, 13, 13, 256)          1024      ['p_re_lu_9[1][0]']           \n",
            " chNormalization)                                                                                 \n",
            "                                                                                                  \n",
            " max_pooling2d_5 (MaxPoolin  (None, 6, 6, 256)            0         ['batch_normalization_9[1][0]'\n",
            " g2D)                                                               ]                             \n",
            "                                                                                                  \n",
            " global_average_pooling2d_1  (None, 256)                  0         ['max_pooling2d_5[1][0]']     \n",
            "  (GlobalAveragePooling2D)                                                                        \n",
            "                                                                                                  \n",
            " flatten_2 (Flatten)         (None, 256)                  0         ['global_average_pooling2d_1[1\n",
            "                                                                    ][0]']                        \n",
            "                                                                                                  \n",
            " dense_5 (Dense)             (None, 512)                  131584    ['flatten_2[1][0]']           \n",
            "                                                                                                  \n",
            " dense_6 (Dense)             (None, 256)                  131328    ['dense_5[1][0]']             \n",
            "                                                                                                  \n",
            " multiply_1 (Multiply)       (None, 6, 6, 256)            0         ['max_pooling2d_5[1][0]',     \n",
            "                                                                     'dense_6[1][0]']             \n",
            "                                                                                                  \n",
            " flatten_3 (Flatten)         (None, 9216)                 0         ['multiply_1[1][0]']          \n",
            "                                                                                                  \n",
            " dense_7 (Dense)             (None, 1024)                 9438208   ['flatten_3[1][0]']           \n",
            "                                                                                                  \n",
            " dropout_2 (Dropout)         (None, 1024)                 0         ['dense_7[1][0]']             \n",
            "                                                                                                  \n",
            " dense_8 (Dense)             (None, 1024)                 1049600   ['dropout_2[1][0]']           \n",
            "                                                                                                  \n",
            " dropout_3 (Dropout)         (None, 1024)                 0         ['dense_8[1][0]']             \n",
            "                                                                                                  \n",
            " dense_9 (Dense)             (None, 2)                    2050      ['dropout_3[1][0]']           \n",
            "                                                                                                  \n",
            "==================================================================================================\n",
            "Total params: 13189474 (50.31 MB)\n",
            "Trainable params: 13186722 (50.30 MB)\n",
            "Non-trainable params: 2752 (10.75 KB)\n",
            "__________________________________________________________________________________________________\n"
          ]
        }
      ],
      "source": [
        "alexnet = build_alexnet((227, 227, 3), classes=2)\n",
        "alexnet.summary()"
      ]
    },
    {
      "cell_type": "code",
      "execution_count": 11,
      "metadata": {
        "colab": {
          "base_uri": "https://localhost:8080/"
        },
        "id": "7kw5GBYpZQbx",
        "outputId": "c83f019e-ded6-4494-fb92-7e0b7553ab84"
      },
      "outputs": [
        {
          "output_type": "stream",
          "name": "stdout",
          "text": [
            "Epoch 1/100\n",
            "192/192 - 16s - loss: 22.6565 - accuracy: 0.5540 - val_loss: 1.0351 - val_accuracy: 0.4839 - 16s/epoch - 83ms/step\n",
            "Epoch 2/100\n",
            "192/192 - 6s - loss: 0.9947 - accuracy: 0.5869 - val_loss: 0.9834 - val_accuracy: 0.5924 - 6s/epoch - 30ms/step\n",
            "Epoch 3/100\n",
            "192/192 - 5s - loss: 0.9640 - accuracy: 0.6107 - val_loss: 1.1532 - val_accuracy: 0.5894 - 5s/epoch - 27ms/step\n",
            "Epoch 4/100\n",
            "192/192 - 5s - loss: 0.9482 - accuracy: 0.6296 - val_loss: 0.9719 - val_accuracy: 0.6129 - 5s/epoch - 27ms/step\n",
            "Epoch 5/100\n",
            "192/192 - 5s - loss: 0.9233 - accuracy: 0.6440 - val_loss: 0.9500 - val_accuracy: 0.6129 - 5s/epoch - 26ms/step\n",
            "Epoch 6/100\n",
            "192/192 - 5s - loss: 0.9163 - accuracy: 0.6482 - val_loss: 1.4060 - val_accuracy: 0.6012 - 5s/epoch - 27ms/step\n",
            "Epoch 7/100\n",
            "192/192 - 5s - loss: 0.9070 - accuracy: 0.6609 - val_loss: 1.0195 - val_accuracy: 0.6070 - 5s/epoch - 26ms/step\n",
            "Epoch 8/100\n",
            "192/192 - 5s - loss: 0.9000 - accuracy: 0.6713 - val_loss: 1.1207 - val_accuracy: 0.6100 - 5s/epoch - 27ms/step\n",
            "Epoch 9/100\n",
            "192/192 - 5s - loss: 0.8909 - accuracy: 0.6818 - val_loss: 1.0996 - val_accuracy: 0.6188 - 5s/epoch - 26ms/step\n",
            "Epoch 10/100\n",
            "192/192 - 5s - loss: 0.8831 - accuracy: 0.6912 - val_loss: 1.3615 - val_accuracy: 0.6070 - 5s/epoch - 26ms/step\n",
            "Epoch 11/100\n",
            "192/192 - 5s - loss: 0.8605 - accuracy: 0.7072 - val_loss: 1.3759 - val_accuracy: 0.6070 - 5s/epoch - 26ms/step\n",
            "Epoch 12/100\n",
            "192/192 - 5s - loss: 0.8660 - accuracy: 0.7108 - val_loss: 1.4484 - val_accuracy: 0.6129 - 5s/epoch - 26ms/step\n",
            "Epoch 13/100\n",
            "192/192 - 5s - loss: 0.8342 - accuracy: 0.7261 - val_loss: 1.8615 - val_accuracy: 0.6012 - 5s/epoch - 26ms/step\n",
            "Epoch 14/100\n",
            "192/192 - 5s - loss: 0.8129 - accuracy: 0.7437 - val_loss: 0.9366 - val_accuracy: 0.6628 - 5s/epoch - 26ms/step\n",
            "Epoch 15/100\n",
            "192/192 - 5s - loss: 0.7903 - accuracy: 0.7600 - val_loss: 0.9983 - val_accuracy: 0.6628 - 5s/epoch - 27ms/step\n",
            "Epoch 16/100\n",
            "192/192 - 5s - loss: 0.7845 - accuracy: 0.7721 - val_loss: 1.1849 - val_accuracy: 0.6334 - 5s/epoch - 26ms/step\n",
            "Epoch 17/100\n",
            "192/192 - 5s - loss: 0.7586 - accuracy: 0.7894 - val_loss: 1.3347 - val_accuracy: 0.6188 - 5s/epoch - 26ms/step\n",
            "Epoch 18/100\n",
            "192/192 - 6s - loss: 0.7171 - accuracy: 0.8164 - val_loss: 1.4897 - val_accuracy: 0.6422 - 6s/epoch - 31ms/step\n",
            "Epoch 19/100\n",
            "192/192 - 5s - loss: 0.7246 - accuracy: 0.8128 - val_loss: 0.9680 - val_accuracy: 0.7273 - 5s/epoch - 26ms/step\n",
            "Epoch 20/100\n",
            "192/192 - 5s - loss: 0.6697 - accuracy: 0.8458 - val_loss: 1.3140 - val_accuracy: 0.6598 - 5s/epoch - 26ms/step\n",
            "Epoch 21/100\n",
            "192/192 - 5s - loss: 0.6269 - accuracy: 0.8745 - val_loss: 0.8832 - val_accuracy: 0.7507 - 5s/epoch - 26ms/step\n",
            "Epoch 22/100\n",
            "192/192 - 5s - loss: 0.6316 - accuracy: 0.8712 - val_loss: 1.5349 - val_accuracy: 0.6393 - 5s/epoch - 27ms/step\n",
            "Epoch 23/100\n",
            "192/192 - 5s - loss: 0.5562 - accuracy: 0.9087 - val_loss: 1.1037 - val_accuracy: 0.7889 - 5s/epoch - 26ms/step\n",
            "Epoch 24/100\n",
            "192/192 - 5s - loss: 0.5774 - accuracy: 0.9054 - val_loss: 1.1583 - val_accuracy: 0.7243 - 5s/epoch - 28ms/step\n",
            "Epoch 25/100\n",
            "192/192 - 5s - loss: 0.5114 - accuracy: 0.9276 - val_loss: 1.0361 - val_accuracy: 0.7537 - 5s/epoch - 26ms/step\n",
            "Epoch 26/100\n",
            "192/192 - 5s - loss: 0.5279 - accuracy: 0.9260 - val_loss: 1.2076 - val_accuracy: 0.7683 - 5s/epoch - 26ms/step\n",
            "Epoch 27/100\n",
            "192/192 - 5s - loss: 0.4765 - accuracy: 0.9459 - val_loss: 2.6012 - val_accuracy: 0.6540 - 5s/epoch - 26ms/step\n",
            "Epoch 28/100\n",
            "192/192 - 5s - loss: 0.4740 - accuracy: 0.9495 - val_loss: 1.4983 - val_accuracy: 0.7947 - 5s/epoch - 26ms/step\n",
            "Epoch 29/100\n",
            "192/192 - 5s - loss: 0.4658 - accuracy: 0.9563 - val_loss: 1.0632 - val_accuracy: 0.8270 - 5s/epoch - 27ms/step\n",
            "Epoch 30/100\n",
            "192/192 - 5s - loss: 0.4372 - accuracy: 0.9638 - val_loss: 1.2025 - val_accuracy: 0.7625 - 5s/epoch - 27ms/step\n",
            "Epoch 31/100\n",
            "192/192 - 5s - loss: 0.4685 - accuracy: 0.9570 - val_loss: 0.9764 - val_accuracy: 0.8416 - 5s/epoch - 26ms/step\n",
            "Epoch 32/100\n",
            "192/192 - 5s - loss: 0.4274 - accuracy: 0.9677 - val_loss: 0.8124 - val_accuracy: 0.8270 - 5s/epoch - 27ms/step\n",
            "Epoch 33/100\n",
            "192/192 - 5s - loss: 0.4405 - accuracy: 0.9684 - val_loss: 0.8538 - val_accuracy: 0.8534 - 5s/epoch - 26ms/step\n",
            "Epoch 34/100\n",
            "192/192 - 5s - loss: 0.4127 - accuracy: 0.9736 - val_loss: 1.0329 - val_accuracy: 0.8299 - 5s/epoch - 27ms/step\n",
            "Epoch 35/100\n",
            "192/192 - 5s - loss: 0.4083 - accuracy: 0.9782 - val_loss: 0.9008 - val_accuracy: 0.8622 - 5s/epoch - 26ms/step\n",
            "Epoch 36/100\n",
            "192/192 - 5s - loss: 0.4163 - accuracy: 0.9769 - val_loss: 0.9322 - val_accuracy: 0.8504 - 5s/epoch - 27ms/step\n",
            "Epoch 37/100\n",
            "192/192 - 5s - loss: 0.4064 - accuracy: 0.9762 - val_loss: 0.9574 - val_accuracy: 0.8974 - 5s/epoch - 26ms/step\n",
            "Epoch 38/100\n",
            "192/192 - 5s - loss: 0.4076 - accuracy: 0.9788 - val_loss: 1.4411 - val_accuracy: 0.8270 - 5s/epoch - 26ms/step\n",
            "Epoch 39/100\n",
            "192/192 - 5s - loss: 0.3839 - accuracy: 0.9801 - val_loss: 0.8810 - val_accuracy: 0.8886 - 5s/epoch - 27ms/step\n",
            "Epoch 40/100\n",
            "192/192 - 5s - loss: 0.3854 - accuracy: 0.9834 - val_loss: 1.4856 - val_accuracy: 0.7977 - 5s/epoch - 27ms/step\n",
            "Epoch 41/100\n",
            "192/192 - 5s - loss: 0.3919 - accuracy: 0.9804 - val_loss: 1.1824 - val_accuracy: 0.8152 - 5s/epoch - 26ms/step\n",
            "Epoch 42/100\n",
            "192/192 - 5s - loss: 0.4919 - accuracy: 0.9661 - val_loss: 0.7995 - val_accuracy: 0.8592 - 5s/epoch - 27ms/step\n",
            "Epoch 43/100\n",
            "192/192 - 5s - loss: 0.3608 - accuracy: 0.9879 - val_loss: 0.8003 - val_accuracy: 0.8856 - 5s/epoch - 26ms/step\n",
            "Epoch 44/100\n",
            "192/192 - 5s - loss: 0.3688 - accuracy: 0.9850 - val_loss: 1.1048 - val_accuracy: 0.8416 - 5s/epoch - 26ms/step\n",
            "Epoch 45/100\n",
            "192/192 - 5s - loss: 0.3741 - accuracy: 0.9889 - val_loss: 1.0192 - val_accuracy: 0.8680 - 5s/epoch - 27ms/step\n",
            "Epoch 46/100\n",
            "192/192 - 5s - loss: 0.3908 - accuracy: 0.9834 - val_loss: 1.0120 - val_accuracy: 0.8768 - 5s/epoch - 26ms/step\n",
            "Epoch 47/100\n",
            "Restoring model weights from the end of the best epoch: 42.\n",
            "192/192 - 5s - loss: 0.3740 - accuracy: 0.9873 - val_loss: 0.9229 - val_accuracy: 0.8886 - 5s/epoch - 27ms/step\n",
            "Epoch 47: early stopping\n"
          ]
        }
      ],
      "source": [
        "alexnet.compile(\n",
        "    loss='sparse_categorical_crossentropy',\n",
        "    optimizer='adam',\n",
        "    metrics=['accuracy']\n",
        ")\n",
        "model_callbacks = [keras.callbacks.EarlyStopping(\n",
        "    monitor=\"val_loss\",\n",
        "    min_delta=1e-4,\n",
        "    patience=5,\n",
        "    verbose=1,\n",
        "    mode=\"auto\",\n",
        "    restore_best_weights=True,\n",
        "    start_from_epoch=40,\n",
        ")]\n",
        "batch_size = 16\n",
        "log = alexnet.fit(train_ds.batch(batch_size), epochs=100, verbose=2, validation_data=val_ds.batch(batch_size),\n",
        "                  callbacks=model_callbacks)"
      ]
    },
    {
      "cell_type": "code",
      "execution_count": 12,
      "metadata": {
        "id": "2pel9GM8ZVS6",
        "colab": {
          "base_uri": "https://localhost:8080/",
          "height": 663
        },
        "outputId": "228dbc0c-c74c-4bad-f304-b70f2f0caaab"
      },
      "outputs": [
        {
          "output_type": "display_data",
          "data": {
            "text/plain": [
              "<Figure size 640x480 with 1 Axes>"
            ],
            "image/png": "[encoded data removed]"
          },
          "metadata": {}
        },
        {
          "output_type": "stream",
          "name": "stdout",
          "text": [
            "Model performance on test dataset: \n",
            "Loss: 0.9132669568061829\n",
            "Accuracy: 0.8650234937667847\n",
            "54/54 [==============================] - 1s 10ms/step\n",
            "[[484  46]\n",
            " [ 69 253]]\n",
            "Model performance on train dataset: \n",
            "Loss: 0.4624432921409607\n",
            "Accuracy: 0.9611998796463013\n",
            "192/192 [==============================] - 2s 10ms/step\n",
            "[[1800   33]\n",
            " [  86 1148]]\n"
          ]
        }
      ],
      "source": [
        "from matplotlib import pyplot as plt\n",
        "plt.plot(log.history['loss'])\n",
        "plt.plot(log.history['val_loss'])\n",
        "plt.xlabel(\"Epochs\")\n",
        "plt.ylabel(\"Loss\")\n",
        "plt.legend([\"Train loss\", \"Val loss\"])\n",
        "plt.show()\n",
        "\n",
        "loss, acc = alexnet.evaluate(test_ds.batch(batch_size), verbose=0)\n",
        "print(\"Model performance on test dataset: \")\n",
        "print(f\"Loss: {loss}\")\n",
        "print(f\"Accuracy: {acc}\")\n",
        "\n",
        "y_pred = alexnet.predict(test_x.batch(batch_size))\n",
        "y_pred = tf.math.argmax(\n",
        "    y_pred,\n",
        "    axis=1)\n",
        "y_test_list = list(test_y.as_numpy_iterator())\n",
        "cm = tf.math.confusion_matrix(y_test_list, y_pred).numpy()\n",
        "print(cm)\n",
        "\n",
        "loss, acc = alexnet.evaluate(train_ds.batch(batch_size), verbose=0)\n",
        "print(\"Model performance on train dataset: \")\n",
        "print(f\"Loss: {loss}\")\n",
        "print(f\"Accuracy: {acc}\")\n",
        "\n",
        "y_pred = alexnet.predict(train_x.batch(batch_size))\n",
        "y_pred = tf.math.argmax(\n",
        "    y_pred,\n",
        "    axis=1)\n",
        "y_train_list = list(train_y.as_numpy_iterator())\n",
        "cm = tf.math.confusion_matrix(y_train_list, y_pred).numpy()\n",
        "print(cm)"
      ]
    },
    {
      "cell_type": "code",
      "source": [
        "plt.plot(log.history['accuracy'])\n",
        "plt.plot(log.history['val_accuracy'])\n",
        "plt.xlabel(\"Epochs\")\n",
        "plt.ylabel(\"Accuracy\")\n",
        "plt.legend([\"Train acc.\", \"Val acc.\"])\n",
        "plt.show()"
      ],
      "metadata": {
        "colab": {
          "base_uri": "https://localhost:8080/",
          "height": 449
        },
        "id": "6zJXzzSnPpFa",
        "outputId": "100ca03c-b904-4617-842c-f5339b683976"
      },
      "execution_count": 13,
      "outputs": [
        {
          "output_type": "display_data",
          "data": {
            "text/plain": [
              "<Figure size 640x480 with 1 Axes>"
            ],
            "image/png": "[encoded data removed]"
          },
          "metadata": {}
        }
      ]
    },
    {
      "cell_type": "code",
      "source": [
        "from google.colab import drive\n",
        "drive.mount('/content/drive')"
      ],
      "metadata": {
        "id": "IqJLM0xOEK6s",
        "colab": {
          "base_uri": "https://localhost:8080/"
        },
        "outputId": "02e79a8c-1965-4226-a2b9-b9e1e91fd9d2"
      },
      "execution_count": 14,
      "outputs": [
        {
          "output_type": "stream",
          "name": "stdout",
          "text": [
            "Mounted at /content/drive\n"
          ]
        }
      ]
    },
    {
      "cell_type": "code",
      "source": [
        "alexnet.save('./drive/MyDrive/ch-attn-alexnet.h5')"
      ],
      "metadata": {
        "id": "KyGu03qsE8qk",
        "colab": {
          "base_uri": "https://localhost:8080/"
        },
        "outputId": "c432a66a-e41b-4a11-e2f3-959db647ef82"
      },
      "execution_count": 15,
      "outputs": [
        {
          "output_type": "stream",
          "name": "stderr",
          "text": [
            "/usr/local/lib/python3.10/dist-packages/keras/src/engine/training.py:3000: UserWarning: You are saving your model as an HDF5 file via `model.save()`. This file format is considered legacy. We recommend using instead the native Keras format, e.g. `model.save('my_model.keras')`.\n",
            "  saving_api.save_model(\n"
          ]
        }
      ]
    },
    {
      "cell_type": "code",
      "source": [],
      "metadata": {
        "id": "ZS94ErYxIphV"
      },
      "execution_count": null,
      "outputs": []
    }
  ],
  "metadata": {
    "accelerator": "GPU",
    "colab": {
      "provenance": [],
      "gpuType": "T4",
      "include_colab_link": true
    },
    "kernelspec": {
      "display_name": "Python 3",
      "name": "python3"
    },
    "language_info": {
      "name": "python"
    }
  },
  "nbformat": 4,
  "nbformat_minor": 0
}