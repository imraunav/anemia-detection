{
  "nbformat": 4,
  "nbformat_minor": 0,
  "metadata": {
    "colab": {
      "provenance": [],
      "gpuType": "T4",
      "authorship_tag": "ABX9TyMtwD1GJcQ0WBzM9Wb60k9B",
      "include_colab_link": true
    },
    "kernelspec": {
      "name": "python3",
      "display_name": "Python 3"
    },
    "language_info": {
      "name": "python"
    },
    "accelerator": "GPU"
  },
  "cells": [
    {
      "cell_type": "markdown",
      "metadata": {
        "id": "view-in-github",
        "colab_type": "text"
      },
      "source": [
        "<a href=\"https://colab.research.google.com/github/imraunav/anemia-detection/blob/main/anemia_ConvNeXtTiny.ipynb\" target=\"_parent\"><img src=\"https://colab.research.google.com/assets/colab-badge.svg\" alt=\"Open In Colab\"/></a>"
      ]
    },
    {
      "cell_type": "code",
      "execution_count": 1,
      "metadata": {
        "colab": {
          "base_uri": "https://localhost:8080/"
        },
        "id": "J0whl5sXEXZn",
        "outputId": "6c0e469a-d885-4e35-d738-cda9861bc545"
      },
      "outputs": [
        {
          "output_type": "stream",
          "name": "stdout",
          "text": [
            "  % Total    % Received % Xferd  Average Speed   Time    Time     Time  Current\n",
            "                                 Dload  Upload   Total   Spent    Left  Speed\n",
            "100  231M  100  231M    0     0  14.6M      0  0:00:15  0:00:15 --:--:-- 17.9M\n",
            "Archive:  dataset.zip\n",
            "  inflating: Anemia Detection using Palpable Palm Image Datasets from Ghana/Palm.rar  \n"
          ]
        }
      ],
      "source": [
        "!curl -o dataset.zip https://prod-dcd-datasets-cache-zipfiles.s3.eu-west-1.amazonaws.com/ccr8cm22vz-1.zip\n",
        "!unzip dataset.zip\n",
        "!unrar x \"/content/Anemia Detection using Palpable Palm Image Datasets from Ghana/Palm.rar\" > op"
      ]
    },
    {
      "cell_type": "code",
      "execution_count": 2,
      "metadata": {
        "id": "JGCFLyBDdM0g"
      },
      "outputs": [],
      "source": [
        "import os\n",
        "import cv2\n",
        "import numpy as np\n",
        "from tqdm import tqdm\n",
        "\n",
        "anemic = []\n",
        "non_anemic = []\n",
        "for filename in os.listdir('/content/Palm/'):\n",
        "  if 'Non' in filename:\n",
        "    non_anemic.append(filename)\n",
        "  else:\n",
        "    anemic.append(filename)"
      ]
    },
    {
      "cell_type": "code",
      "execution_count": 3,
      "metadata": {
        "id": "-YciqCt7dnQU"
      },
      "outputs": [],
      "source": [
        "def read_img(filepath):\n",
        "  img = cv2.imread(filepath)\n",
        "  img = cv2.resize(img, (227, 227))\n",
        "  # img = cv2.cvtColor(img, cv2.COLOR_BGR2LAB)\n",
        "  # l, a, b = img[:, :, 0], img[:, :, 1], img[:, :, 2]\n",
        "  # return b\n",
        "  return img"
      ]
    },
    {
      "cell_type": "code",
      "execution_count": 4,
      "metadata": {
        "colab": {
          "base_uri": "https://localhost:8080/"
        },
        "id": "IZGRiiKTdoeH",
        "outputId": "3f93fe75-9a95-4019-d122-283fc99a2ef2"
      },
      "outputs": [
        {
          "output_type": "stream",
          "name": "stderr",
          "text": [
            "100%|██████████| 2562/2562 [00:14<00:00, 170.91it/s]\n",
            "100%|██████████| 1698/1698 [00:06<00:00, 264.42it/s]\n"
          ]
        }
      ],
      "source": [
        "dataset = []\n",
        "labels = []\n",
        "path = '/content/Palm/'\n",
        "for filename in tqdm(anemic):\n",
        "  labels.append(0)\n",
        "  img = read_img(os.path.join(path, filename))\n",
        "  dataset.append(img)\n",
        "for filename in tqdm(non_anemic):\n",
        "  labels.append(1)\n",
        "  img = read_img(os.path.join(path, filename))\n",
        "  dataset.append(img)\n",
        "dataset = np.array(dataset)\n",
        "labels = np.array(labels)"
      ]
    },
    {
      "cell_type": "code",
      "execution_count": 5,
      "metadata": {
        "id": "5UYgCZZNdp2V",
        "colab": {
          "base_uri": "https://localhost:8080/"
        },
        "outputId": "dd8ba8d1-bde5-45f0-eaad-66c1d6bc60f0"
      },
      "outputs": [
        {
          "output_type": "stream",
          "name": "stdout",
          "text": [
            "(3067, 227, 227, 3) (852, 227, 227, 3) (341, 227, 227, 3)\n",
            "(3067,) (852,) (341,)\n"
          ]
        }
      ],
      "source": [
        "from sklearn.model_selection import train_test_split\n",
        "import tensorflow as tf\n",
        "\n",
        "\n",
        "train_x, test_x, train_y, test_y = train_test_split(dataset, labels, test_size=0.2, random_state=2)\n",
        "train_x, val_x, train_y, val_y = train_test_split(train_x, train_y, test_size=0.1, random_state=5)\n",
        "print(train_x.shape, test_x.shape, val_x.shape)\n",
        "print(train_y.shape, test_y.shape, val_y.shape)\n",
        "\n",
        "train_x = tf.data.Dataset.from_tensor_slices(train_x)\n",
        "test_x = tf.data.Dataset.from_tensor_slices(test_x)\n",
        "val_x = tf.data.Dataset.from_tensor_slices(val_x)\n",
        "\n",
        "train_y = tf.data.Dataset.from_tensor_slices(train_y)\n",
        "test_y = tf.data.Dataset.from_tensor_slices(test_y)\n",
        "val_y = tf.data.Dataset.from_tensor_slices(val_y)\n",
        "\n",
        "train_ds = tf.data.Dataset.zip((train_x, train_y))\n",
        "test_ds = tf.data.Dataset.zip((test_x, test_y))\n",
        "val_ds = tf.data.Dataset.zip((val_x, val_y))\n"
      ]
    },
    {
      "cell_type": "code",
      "execution_count": 6,
      "metadata": {
        "id": "WuQC5mxOdrpN"
      },
      "outputs": [],
      "source": [
        "from tensorflow import keras"
      ]
    },
    {
      "cell_type": "code",
      "source": [
        "# cnn = keras.applications.ConvNeXtXLarge(\n",
        "#     model_name=\"convnext_xlarge\",\n",
        "#     include_top=True,\n",
        "#     include_preprocessing=True,\n",
        "#     weights=\"imagenet\",\n",
        "#     # input_shape=(227, 227),\n",
        "# )\n",
        "# cnn.summary()"
      ],
      "metadata": {
        "id": "VifoloGEHt2g"
      },
      "execution_count": 11,
      "outputs": []
    },
    {
      "cell_type": "code",
      "execution_count": 14,
      "metadata": {
        "colab": {
          "base_uri": "https://localhost:8080/"
        },
        "id": "YsI63SPudtOO",
        "outputId": "7ef0ea81-ba79-4168-ce64-a7b920b7cfb3"
      },
      "outputs": [
        {
          "output_type": "stream",
          "name": "stdout",
          "text": [
            "Downloading data from https://storage.googleapis.com/tensorflow/keras-applications/convnext/convnext_tiny_notop.h5\n",
            "111650432/111650432 [==============================] - 5s 0us/step\n",
            "Model: \"classifier\"\n",
            "_________________________________________________________________\n",
            " Layer (type)                Output Shape              Param #   \n",
            "=================================================================\n",
            " global_average_pooling2d_1  (None, 768)               0         \n",
            "  (GlobalAveragePooling2D)                                       \n",
            "                                                                 \n",
            " dense_3 (Dense)             (None, 1024)              787456    \n",
            "                                                                 \n",
            " dense_4 (Dense)             (None, 1024)              1049600   \n",
            "                                                                 \n",
            " dense_5 (Dense)             (None, 2)                 2050      \n",
            "                                                                 \n",
            "=================================================================\n",
            "Total params: 1839106 (7.02 MB)\n",
            "Trainable params: 1839106 (7.02 MB)\n",
            "Non-trainable params: 0 (0.00 Byte)\n",
            "_________________________________________________________________\n",
            "Model: \"sequential_1\"\n",
            "_________________________________________________________________\n",
            " Layer (type)                Output Shape              Param #   \n",
            "=================================================================\n",
            " convnext_tiny (Functional)  (None, 7, 7, 768)         27820128  \n",
            "                                                                 \n",
            " classifier (Sequential)     (None, 2)                 1839106   \n",
            "                                                                 \n",
            "=================================================================\n",
            "Total params: 29659234 (113.14 MB)\n",
            "Trainable params: 1839106 (7.02 MB)\n",
            "Non-trainable params: 27820128 (106.13 MB)\n",
            "_________________________________________________________________\n"
          ]
        }
      ],
      "source": [
        "cnn = keras.applications.ConvNeXtTiny(\n",
        "    model_name=\"convnext_tiny\",\n",
        "    include_top=False,\n",
        "    include_preprocessing=True,\n",
        "    weights=\"imagenet\",\n",
        "    input_shape=(227, 227, 3),\n",
        ")\n",
        "cnn.trainable = False\n",
        "classifier = keras.models.Sequential(\n",
        "    [\n",
        "        keras.layers.GlobalAveragePooling2D(),\n",
        "        keras.layers.Dense(1024, activation='relu'),\n",
        "        # keras.layers.BatchNormalization(),\n",
        "        keras.layers.Dense(1024, activation='relu'),\n",
        "        # keras.layers.BatchNormalization(),\n",
        "        keras.layers.Dense(2, activation='softmax'),\n",
        "    ],\n",
        "    name='classifier'\n",
        ")\n",
        "model = keras.models.Sequential(\n",
        "    [\n",
        "        cnn,\n",
        "        classifier,\n",
        "    ]\n",
        ")\n",
        "classifier.summary()\n",
        "model.summary()"
      ]
    },
    {
      "cell_type": "code",
      "execution_count": 15,
      "metadata": {
        "colab": {
          "base_uri": "https://localhost:8080/"
        },
        "id": "S898Cv_geRT6",
        "outputId": "8e119c80-9169-4336-bfce-aca367472f93"
      },
      "outputs": [
        {
          "output_type": "stream",
          "name": "stdout",
          "text": [
            "Epoch 1/100\n",
            "192/192 - 45s - loss: 0.5830 - accuracy: 0.7052 - val_loss: 0.4271 - val_accuracy: 0.8123 - 45s/epoch - 233ms/step\n",
            "Epoch 2/100\n",
            "192/192 - 26s - loss: 0.3196 - accuracy: 0.8572 - val_loss: 0.3049 - val_accuracy: 0.8798 - 26s/epoch - 136ms/step\n",
            "Epoch 3/100\n",
            "192/192 - 26s - loss: 0.1827 - accuracy: 0.9237 - val_loss: 0.3206 - val_accuracy: 0.9062 - 26s/epoch - 138ms/step\n",
            "Epoch 4/100\n",
            "192/192 - 26s - loss: 0.1205 - accuracy: 0.9504 - val_loss: 0.1848 - val_accuracy: 0.9413 - 26s/epoch - 138ms/step\n",
            "Epoch 5/100\n",
            "192/192 - 29s - loss: 0.0991 - accuracy: 0.9641 - val_loss: 0.1327 - val_accuracy: 0.9413 - 29s/epoch - 149ms/step\n",
            "Epoch 6/100\n",
            "192/192 - 26s - loss: 0.0695 - accuracy: 0.9729 - val_loss: 0.1842 - val_accuracy: 0.9384 - 26s/epoch - 136ms/step\n",
            "Epoch 7/100\n",
            "192/192 - 26s - loss: 0.0626 - accuracy: 0.9769 - val_loss: 0.1216 - val_accuracy: 0.9531 - 26s/epoch - 136ms/step\n",
            "Epoch 8/100\n",
            "192/192 - 26s - loss: 0.0540 - accuracy: 0.9830 - val_loss: 0.1557 - val_accuracy: 0.9619 - 26s/epoch - 136ms/step\n",
            "Epoch 9/100\n",
            "192/192 - 26s - loss: 0.0470 - accuracy: 0.9824 - val_loss: 0.1078 - val_accuracy: 0.9765 - 26s/epoch - 136ms/step\n",
            "Epoch 10/100\n",
            "192/192 - 26s - loss: 0.0205 - accuracy: 0.9941 - val_loss: 0.0623 - val_accuracy: 0.9824 - 26s/epoch - 136ms/step\n",
            "Epoch 11/100\n",
            "192/192 - 26s - loss: 0.0092 - accuracy: 0.9967 - val_loss: 0.0467 - val_accuracy: 0.9853 - 26s/epoch - 135ms/step\n",
            "Epoch 12/100\n",
            "192/192 - 26s - loss: 0.0268 - accuracy: 0.9915 - val_loss: 0.0502 - val_accuracy: 0.9912 - 26s/epoch - 134ms/step\n",
            "Epoch 13/100\n",
            "192/192 - 29s - loss: 0.0559 - accuracy: 0.9791 - val_loss: 0.0753 - val_accuracy: 0.9795 - 29s/epoch - 149ms/step\n",
            "Epoch 14/100\n",
            "192/192 - 26s - loss: 0.0349 - accuracy: 0.9873 - val_loss: 0.0664 - val_accuracy: 0.9824 - 26s/epoch - 136ms/step\n",
            "Epoch 15/100\n",
            "192/192 - 26s - loss: 0.0237 - accuracy: 0.9938 - val_loss: 0.0959 - val_accuracy: 0.9765 - 26s/epoch - 137ms/step\n",
            "Epoch 16/100\n",
            "192/192 - 29s - loss: 0.0138 - accuracy: 0.9958 - val_loss: 0.0499 - val_accuracy: 0.9883 - 29s/epoch - 149ms/step\n",
            "Epoch 17/100\n",
            "192/192 - 26s - loss: 0.0042 - accuracy: 0.9980 - val_loss: 0.0565 - val_accuracy: 0.9883 - 26s/epoch - 135ms/step\n",
            "Epoch 18/100\n",
            "192/192 - 26s - loss: 0.0038 - accuracy: 0.9984 - val_loss: 0.0563 - val_accuracy: 0.9883 - 26s/epoch - 136ms/step\n",
            "Epoch 19/100\n",
            "192/192 - 26s - loss: 0.0035 - accuracy: 0.9984 - val_loss: 0.0616 - val_accuracy: 0.9883 - 26s/epoch - 136ms/step\n",
            "Epoch 20/100\n",
            "192/192 - 28s - loss: 0.0034 - accuracy: 0.9984 - val_loss: 0.0643 - val_accuracy: 0.9883 - 28s/epoch - 148ms/step\n",
            "Epoch 21/100\n",
            "192/192 - 26s - loss: 0.0034 - accuracy: 0.9984 - val_loss: 0.0678 - val_accuracy: 0.9883 - 26s/epoch - 136ms/step\n",
            "Epoch 22/100\n",
            "192/192 - 26s - loss: 0.0034 - accuracy: 0.9984 - val_loss: 0.0697 - val_accuracy: 0.9883 - 26s/epoch - 137ms/step\n",
            "Epoch 23/100\n",
            "192/192 - 26s - loss: 0.0034 - accuracy: 0.9984 - val_loss: 0.0722 - val_accuracy: 0.9883 - 26s/epoch - 136ms/step\n",
            "Epoch 24/100\n",
            "192/192 - 26s - loss: 0.0034 - accuracy: 0.9984 - val_loss: 0.0716 - val_accuracy: 0.9883 - 26s/epoch - 136ms/step\n",
            "Epoch 25/100\n",
            "192/192 - 29s - loss: 0.0033 - accuracy: 0.9984 - val_loss: 0.0741 - val_accuracy: 0.9883 - 29s/epoch - 149ms/step\n",
            "Epoch 26/100\n",
            "192/192 - 26s - loss: 0.0033 - accuracy: 0.9984 - val_loss: 0.0769 - val_accuracy: 0.9883 - 26s/epoch - 135ms/step\n",
            "Epoch 27/100\n",
            "192/192 - 26s - loss: 0.0033 - accuracy: 0.9984 - val_loss: 0.0727 - val_accuracy: 0.9883 - 26s/epoch - 136ms/step\n",
            "Epoch 28/100\n",
            "192/192 - 26s - loss: 0.0033 - accuracy: 0.9984 - val_loss: 0.0743 - val_accuracy: 0.9883 - 26s/epoch - 136ms/step\n",
            "Epoch 29/100\n",
            "192/192 - 26s - loss: 0.0033 - accuracy: 0.9984 - val_loss: 0.0748 - val_accuracy: 0.9883 - 26s/epoch - 136ms/step\n",
            "Epoch 30/100\n",
            "192/192 - 29s - loss: 0.0033 - accuracy: 0.9984 - val_loss: 0.0747 - val_accuracy: 0.9883 - 29s/epoch - 149ms/step\n",
            "Epoch 31/100\n",
            "192/192 - 26s - loss: 0.0033 - accuracy: 0.9984 - val_loss: 0.0774 - val_accuracy: 0.9883 - 26s/epoch - 136ms/step\n",
            "Epoch 32/100\n",
            "192/192 - 26s - loss: 0.0033 - accuracy: 0.9984 - val_loss: 0.0793 - val_accuracy: 0.9883 - 26s/epoch - 136ms/step\n",
            "Epoch 33/100\n",
            "192/192 - 26s - loss: 0.0033 - accuracy: 0.9984 - val_loss: 0.0767 - val_accuracy: 0.9883 - 26s/epoch - 135ms/step\n",
            "Epoch 34/100\n",
            "192/192 - 26s - loss: 0.0033 - accuracy: 0.9984 - val_loss: 0.0811 - val_accuracy: 0.9883 - 26s/epoch - 135ms/step\n",
            "Epoch 35/100\n",
            "192/192 - 26s - loss: 0.0116 - accuracy: 0.9964 - val_loss: 0.2951 - val_accuracy: 0.9296 - 26s/epoch - 136ms/step\n",
            "Epoch 36/100\n",
            "192/192 - 26s - loss: 0.1673 - accuracy: 0.9377 - val_loss: 0.0732 - val_accuracy: 0.9707 - 26s/epoch - 136ms/step\n",
            "Epoch 37/100\n",
            "192/192 - 26s - loss: 0.0608 - accuracy: 0.9791 - val_loss: 0.1074 - val_accuracy: 0.9648 - 26s/epoch - 135ms/step\n",
            "Epoch 38/100\n",
            "192/192 - 26s - loss: 0.0204 - accuracy: 0.9935 - val_loss: 0.0813 - val_accuracy: 0.9765 - 26s/epoch - 135ms/step\n",
            "Epoch 39/100\n",
            "192/192 - 28s - loss: 0.0211 - accuracy: 0.9925 - val_loss: 0.0998 - val_accuracy: 0.9677 - 28s/epoch - 148ms/step\n",
            "Epoch 40/100\n",
            "192/192 - 26s - loss: 0.0150 - accuracy: 0.9945 - val_loss: 0.0585 - val_accuracy: 0.9765 - 26s/epoch - 135ms/step\n",
            "Epoch 41/100\n",
            "192/192 - 26s - loss: 0.0184 - accuracy: 0.9922 - val_loss: 0.0604 - val_accuracy: 0.9853 - 26s/epoch - 137ms/step\n",
            "Epoch 42/100\n",
            "192/192 - 28s - loss: 0.0060 - accuracy: 0.9984 - val_loss: 0.0613 - val_accuracy: 0.9853 - 28s/epoch - 148ms/step\n",
            "Epoch 43/100\n",
            "192/192 - 26s - loss: 0.0039 - accuracy: 0.9984 - val_loss: 0.0468 - val_accuracy: 0.9883 - 26s/epoch - 137ms/step\n",
            "Epoch 44/100\n",
            "192/192 - 26s - loss: 0.0035 - accuracy: 0.9984 - val_loss: 0.0512 - val_accuracy: 0.9883 - 26s/epoch - 135ms/step\n",
            "Epoch 45/100\n",
            "192/192 - 29s - loss: 0.0034 - accuracy: 0.9984 - val_loss: 0.0510 - val_accuracy: 0.9912 - 29s/epoch - 150ms/step\n",
            "Epoch 46/100\n",
            "192/192 - 26s - loss: 0.0034 - accuracy: 0.9984 - val_loss: 0.0546 - val_accuracy: 0.9853 - 26s/epoch - 135ms/step\n",
            "Epoch 47/100\n",
            "192/192 - 26s - loss: 0.0034 - accuracy: 0.9984 - val_loss: 0.0530 - val_accuracy: 0.9853 - 26s/epoch - 134ms/step\n",
            "Epoch 48/100\n",
            "Restoring model weights from the end of the best epoch: 43.\n",
            "192/192 - 29s - loss: 0.0033 - accuracy: 0.9984 - val_loss: 0.0556 - val_accuracy: 0.9883 - 29s/epoch - 150ms/step\n",
            "Epoch 48: early stopping\n"
          ]
        }
      ],
      "source": [
        "model.compile(\n",
        "    loss='sparse_categorical_crossentropy',\n",
        "    optimizer='adam',\n",
        "    metrics=['accuracy']\n",
        ")\n",
        "model_callbacks = [keras.callbacks.EarlyStopping(\n",
        "    monitor=\"val_loss\",\n",
        "    min_delta=1e-4,\n",
        "    patience=5,\n",
        "    verbose=1,\n",
        "    mode=\"auto\",\n",
        "    restore_best_weights=True,\n",
        "    start_from_epoch=40,\n",
        ")]\n",
        "batch_size = 16\n",
        "log = model.fit(train_ds.batch(batch_size), epochs=100, verbose=2, validation_data=val_ds.batch(batch_size),\n",
        "                  callbacks=model_callbacks)"
      ]
    },
    {
      "cell_type": "code",
      "execution_count": 16,
      "metadata": {
        "colab": {
          "base_uri": "https://localhost:8080/",
          "height": 663
        },
        "id": "X2KPTVTse5Gq",
        "outputId": "30667774-bd97-4c7f-cbdc-84c546c99057"
      },
      "outputs": [
        {
          "output_type": "display_data",
          "data": {
            "text/plain": [
              "<Figure size 640x480 with 1 Axes>"
            ],
            "image/png": "[encoded data removed]"
          },
          "metadata": {}
        },
        {
          "output_type": "stream",
          "name": "stdout",
          "text": [
            "Model performance on test dataset: \n",
            "Loss: 0.08123176544904709\n",
            "Accuracy: 0.987089216709137\n",
            "54/54 [==============================] - 8s 121ms/step\n",
            "[[524   6]\n",
            " [  5 317]]\n",
            "Model performance on train dataset: \n",
            "Loss: 0.0032376099843531847\n",
            "Accuracy: 0.9983697533607483\n",
            "192/192 [==============================] - 24s 122ms/step\n",
            "[[1828    5]\n",
            " [   0 1234]]\n"
          ]
        }
      ],
      "source": [
        "from matplotlib import pyplot as plt\n",
        "plt.plot(log.history['loss'])\n",
        "plt.plot(log.history['val_loss'])\n",
        "plt.xlabel(\"Epochs\")\n",
        "plt.ylabel(\"Loss\")\n",
        "plt.legend([\"Train loss\", \"Val loss\"])\n",
        "plt.show()\n",
        "\n",
        "loss, acc = model.evaluate(test_ds.batch(batch_size), verbose=0)\n",
        "print(\"Model performance on test dataset: \")\n",
        "print(f\"Loss: {loss}\")\n",
        "print(f\"Accuracy: {acc}\")\n",
        "\n",
        "y_pred = model.predict(test_x.batch(batch_size))\n",
        "y_pred = tf.math.argmax(\n",
        "    y_pred,\n",
        "    axis=1)\n",
        "y_test_list = list(test_y.as_numpy_iterator())\n",
        "cm = tf.math.confusion_matrix(y_test_list, y_pred).numpy()\n",
        "print(cm)\n",
        "\n",
        "loss, acc = model.evaluate(train_ds.batch(batch_size), verbose=0)\n",
        "print(\"Model performance on train dataset: \")\n",
        "print(f\"Loss: {loss}\")\n",
        "print(f\"Accuracy: {acc}\")\n",
        "\n",
        "y_pred = model.predict(train_x.batch(batch_size))\n",
        "y_pred = tf.math.argmax(\n",
        "    y_pred,\n",
        "    axis=1)\n",
        "y_train_list = list(train_y.as_numpy_iterator())\n",
        "cm = tf.math.confusion_matrix(y_train_list, y_pred).numpy()\n",
        "print(cm)"
      ]
    },
    {
      "cell_type": "code",
      "execution_count": 17,
      "metadata": {
        "colab": {
          "base_uri": "https://localhost:8080/",
          "height": 449
        },
        "id": "cbNAqM2LfBK4",
        "outputId": "1be1bf96-135d-4d11-b71b-407072fb9e1c"
      },
      "outputs": [
        {
          "output_type": "display_data",
          "data": {
            "text/plain": [
              "<Figure size 640x480 with 1 Axes>"
            ],
            "image/png": "[encoded data removed]"
          },
          "metadata": {}
        }
      ],
      "source": [
        "plt.plot(log.history['accuracy'])\n",
        "plt.plot(log.history['val_accuracy'])\n",
        "plt.xlabel(\"Epochs\")\n",
        "plt.ylabel(\"Accuracy\")\n",
        "plt.legend([\"Train acc.\", \"Val acc.\"])\n",
        "plt.show()"
      ]
    },
    {
      "cell_type": "code",
      "execution_count": 18,
      "metadata": {
        "colab": {
          "base_uri": "https://localhost:8080/"
        },
        "id": "HW4671x2fGX3",
        "outputId": "9c23f19e-6c86-42f1-c20a-cb7c1f1ceb1f"
      },
      "outputs": [
        {
          "output_type": "stream",
          "name": "stdout",
          "text": [
            "Mounted at /content/drive\n"
          ]
        }
      ],
      "source": [
        "from google.colab import drive\n",
        "drive.mount('/content/drive')"
      ]
    },
    {
      "cell_type": "code",
      "source": [
        "filepath = './drive/MyDrive/anemia-classifier-ConvNeXtTiny.h5'\n",
        "classifier.save_weights(filepath, overwrite=True, save_format=None, options=None)"
      ],
      "metadata": {
        "id": "86aPHMI-WYuO"
      },
      "execution_count": 19,
      "outputs": []
    },
    {
      "cell_type": "code",
      "source": [],
      "metadata": {
        "id": "ImPFFrZjXrXO"
      },
      "execution_count": null,
      "outputs": []
    }
  ]
}