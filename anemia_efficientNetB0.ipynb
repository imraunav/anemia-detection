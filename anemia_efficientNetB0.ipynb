{
  "cells": [
    {
      "cell_type": "markdown",
      "metadata": {
        "id": "view-in-github",
        "colab_type": "text"
      },
      "source": [
        "<a href=\"https://colab.research.google.com/github/imraunav/anemia-detection/blob/main/anemia_efficientNetB0.ipynb\" target=\"_parent\"><img src=\"https://colab.research.google.com/assets/colab-badge.svg\" alt=\"Open In Colab\"/></a>"
      ]
    },
    {
      "cell_type": "code",
      "execution_count": 1,
      "metadata": {
        "colab": {
          "base_uri": "https://localhost:8080/"
        },
        "id": "ZOBKEt8fbUkv",
        "outputId": "f1d01e21-5c12-4b8d-ebec-ac5aaf90d440"
      },
      "outputs": [
        {
          "output_type": "stream",
          "name": "stdout",
          "text": [
            "  % Total    % Received % Xferd  Average Speed   Time    Time     Time  Current\n",
            "                                 Dload  Upload   Total   Spent    Left  Speed\n",
            "100  231M  100  231M    0     0  30.5M      0  0:00:07  0:00:07 --:--:-- 37.8M\n",
            "Archive:  dataset.zip\n",
            "  inflating: Anemia Detection using Palpable Palm Image Datasets from Ghana/Palm.rar  \n"
          ]
        }
      ],
      "source": [
        "!curl -o dataset.zip https://prod-dcd-datasets-cache-zipfiles.s3.eu-west-1.amazonaws.com/ccr8cm22vz-1.zip\n",
        "!unzip dataset.zip\n",
        "!unrar x \"/content/Anemia Detection using Palpable Palm Image Datasets from Ghana/Palm.rar\" > op"
      ]
    },
    {
      "cell_type": "code",
      "execution_count": 2,
      "metadata": {
        "id": "JGCFLyBDdM0g"
      },
      "outputs": [],
      "source": [
        "import os\n",
        "import cv2\n",
        "import numpy as np\n",
        "from tqdm import tqdm\n",
        "\n",
        "anemic = []\n",
        "non_anemic = []\n",
        "for filename in os.listdir('/content/Palm/'):\n",
        "  if 'Non' in filename:\n",
        "    non_anemic.append(filename)\n",
        "  else:\n",
        "    anemic.append(filename)"
      ]
    },
    {
      "cell_type": "code",
      "execution_count": 3,
      "metadata": {
        "id": "-YciqCt7dnQU"
      },
      "outputs": [],
      "source": [
        "def read_img(filepath):\n",
        "  img = cv2.imread(filepath)\n",
        "  img = cv2.resize(img, (227, 227))\n",
        "  # img = cv2.cvtColor(img, cv2.COLOR_BGR2LAB)\n",
        "  # l, a, b = img[:, :, 0], img[:, :, 1], img[:, :, 2]\n",
        "  # return b\n",
        "  return img"
      ]
    },
    {
      "cell_type": "code",
      "execution_count": 4,
      "metadata": {
        "colab": {
          "base_uri": "https://localhost:8080/"
        },
        "id": "IZGRiiKTdoeH",
        "outputId": "18003aae-5b9e-4ef3-a9ae-2c2526cdad3a"
      },
      "outputs": [
        {
          "output_type": "stream",
          "name": "stderr",
          "text": [
            "100%|██████████| 2562/2562 [00:12<00:00, 206.25it/s]\n",
            "100%|██████████| 1698/1698 [00:10<00:00, 168.17it/s]\n"
          ]
        }
      ],
      "source": [
        "dataset = []\n",
        "labels = []\n",
        "path = '/content/Palm/'\n",
        "for filename in tqdm(anemic):\n",
        "  labels.append(0)\n",
        "  img = read_img(os.path.join(path, filename))\n",
        "  dataset.append(img)\n",
        "for filename in tqdm(non_anemic):\n",
        "  labels.append(1)\n",
        "  img = read_img(os.path.join(path, filename))\n",
        "  dataset.append(img)\n",
        "dataset = np.array(dataset)\n",
        "labels = np.array(labels)"
      ]
    },
    {
      "cell_type": "code",
      "execution_count": 5,
      "metadata": {
        "id": "5UYgCZZNdp2V",
        "colab": {
          "base_uri": "https://localhost:8080/"
        },
        "outputId": "3296108e-9ffc-4615-f028-b30f623ab104"
      },
      "outputs": [
        {
          "output_type": "stream",
          "name": "stdout",
          "text": [
            "(3067, 227, 227, 3) (852, 227, 227, 3) (341, 227, 227, 3)\n",
            "(3067,) (852,) (341,)\n"
          ]
        }
      ],
      "source": [
        "from sklearn.model_selection import train_test_split\n",
        "import tensorflow as tf\n",
        "\n",
        "\n",
        "train_x, test_x, train_y, test_y = train_test_split(dataset, labels, test_size=0.2, random_state=2)\n",
        "train_x, val_x, train_y, val_y = train_test_split(train_x, train_y, test_size=0.1, random_state=5)\n",
        "print(train_x.shape, test_x.shape, val_x.shape)\n",
        "print(train_y.shape, test_y.shape, val_y.shape)\n",
        "\n",
        "train_x = tf.data.Dataset.from_tensor_slices(train_x)\n",
        "test_x = tf.data.Dataset.from_tensor_slices(test_x)\n",
        "val_x = tf.data.Dataset.from_tensor_slices(val_x)\n",
        "\n",
        "train_y = tf.data.Dataset.from_tensor_slices(train_y)\n",
        "test_y = tf.data.Dataset.from_tensor_slices(test_y)\n",
        "val_y = tf.data.Dataset.from_tensor_slices(val_y)\n",
        "\n",
        "train_ds = tf.data.Dataset.zip((train_x, train_y))\n",
        "test_ds = tf.data.Dataset.zip((test_x, test_y))\n",
        "val_ds = tf.data.Dataset.zip((val_x, val_y))\n"
      ]
    },
    {
      "cell_type": "code",
      "execution_count": 6,
      "metadata": {
        "id": "WuQC5mxOdrpN"
      },
      "outputs": [],
      "source": [
        "from tensorflow import keras"
      ]
    },
    {
      "cell_type": "code",
      "execution_count": 7,
      "metadata": {
        "colab": {
          "base_uri": "https://localhost:8080/"
        },
        "id": "YsI63SPudtOO",
        "outputId": "0216145b-56a5-48cb-dc99-0ac7e81ec6fc"
      },
      "outputs": [
        {
          "output_type": "stream",
          "name": "stdout",
          "text": [
            "Downloading data from https://storage.googleapis.com/tensorflow/keras-applications/efficientnet_v2/efficientnetv2-b0_notop.h5\n",
            "24274472/24274472 [==============================] - 0s 0us/step\n",
            "Model: \"classifier\"\n",
            "_________________________________________________________________\n",
            " Layer (type)                Output Shape              Param #   \n",
            "=================================================================\n",
            " global_average_pooling2d (  (None, 1280)              0         \n",
            " GlobalAveragePooling2D)                                         \n",
            "                                                                 \n",
            " dense (Dense)               (None, 1024)              1311744   \n",
            "                                                                 \n",
            " dense_1 (Dense)             (None, 1024)              1049600   \n",
            "                                                                 \n",
            " dense_2 (Dense)             (None, 2)                 2050      \n",
            "                                                                 \n",
            "=================================================================\n",
            "Total params: 2363394 (9.02 MB)\n",
            "Trainable params: 2363394 (9.02 MB)\n",
            "Non-trainable params: 0 (0.00 Byte)\n",
            "_________________________________________________________________\n",
            "Model: \"sequential\"\n",
            "_________________________________________________________________\n",
            " Layer (type)                Output Shape              Param #   \n",
            "=================================================================\n",
            " efficientnetv2-b0 (Functio  (None, 8, 8, 1280)        5919312   \n",
            " nal)                                                            \n",
            "                                                                 \n",
            " classifier (Sequential)     (None, 2)                 2363394   \n",
            "                                                                 \n",
            "=================================================================\n",
            "Total params: 8282706 (31.60 MB)\n",
            "Trainable params: 2363394 (9.02 MB)\n",
            "Non-trainable params: 5919312 (22.58 MB)\n",
            "_________________________________________________________________\n"
          ]
        }
      ],
      "source": [
        "cnn = keras.applications.EfficientNetV2B0(\n",
        "    include_top=False,\n",
        "    weights='imagenet',\n",
        "    input_tensor=None,\n",
        "    input_shape=(227, 227, 3),\n",
        "    include_preprocessing=True,\n",
        ")\n",
        "cnn.trainable = False\n",
        "classifier = keras.models.Sequential(\n",
        "    [\n",
        "        keras.layers.GlobalAveragePooling2D(),\n",
        "        keras.layers.Dense(1024, activation='relu'),\n",
        "        # keras.layers.BatchNormalization(),\n",
        "        keras.layers.Dense(1024, activation='relu'),\n",
        "        # keras.layers.BatchNormalization(),\n",
        "        keras.layers.Dense(2, activation='softmax'),\n",
        "    ],\n",
        "    name='classifier'\n",
        ")\n",
        "model = keras.models.Sequential(\n",
        "    [\n",
        "        cnn,\n",
        "        classifier,\n",
        "    ]\n",
        ")\n",
        "classifier.summary()\n",
        "model.summary()"
      ]
    },
    {
      "cell_type": "code",
      "execution_count": null,
      "metadata": {
        "colab": {
          "base_uri": "https://localhost:8080/"
        },
        "id": "S898Cv_geRT6",
        "outputId": "098ec208-dc48-4fc2-9b6e-aab84619cfcb"
      },
      "outputs": [
        {
          "output_type": "stream",
          "name": "stdout",
          "text": [
            "Epoch 1/100\n",
            "192/192 - 27s - loss: 0.6253 - accuracy: 0.6547 - val_loss: 0.5701 - val_accuracy: 0.6891 - 27s/epoch - 140ms/step\n",
            "Epoch 2/100\n",
            "192/192 - 6s - loss: 0.4982 - accuracy: 0.7564 - val_loss: 0.4795 - val_accuracy: 0.7742 - 6s/epoch - 31ms/step\n",
            "Epoch 3/100\n",
            "192/192 - 6s - loss: 0.4292 - accuracy: 0.7943 - val_loss: 0.4765 - val_accuracy: 0.7625 - 6s/epoch - 32ms/step\n",
            "Epoch 4/100\n",
            "192/192 - 6s - loss: 0.3640 - accuracy: 0.8337 - val_loss: 0.3699 - val_accuracy: 0.8182 - 6s/epoch - 31ms/step\n",
            "Epoch 5/100\n",
            "192/192 - 7s - loss: 0.3182 - accuracy: 0.8595 - val_loss: 0.3176 - val_accuracy: 0.8680 - 7s/epoch - 34ms/step\n",
            "Epoch 6/100\n",
            "192/192 - 6s - loss: 0.2740 - accuracy: 0.8764 - val_loss: 0.3051 - val_accuracy: 0.8475 - 6s/epoch - 33ms/step\n",
            "Epoch 7/100\n",
            "192/192 - 6s - loss: 0.2646 - accuracy: 0.8826 - val_loss: 0.3119 - val_accuracy: 0.8651 - 6s/epoch - 32ms/step\n",
            "Epoch 8/100\n",
            "192/192 - 6s - loss: 0.2069 - accuracy: 0.9120 - val_loss: 0.3231 - val_accuracy: 0.8710 - 6s/epoch - 32ms/step\n",
            "Epoch 9/100\n",
            "192/192 - 6s - loss: 0.2181 - accuracy: 0.9074 - val_loss: 0.2470 - val_accuracy: 0.8886 - 6s/epoch - 31ms/step\n",
            "Epoch 10/100\n",
            "192/192 - 6s - loss: 0.1969 - accuracy: 0.9162 - val_loss: 0.2014 - val_accuracy: 0.9326 - 6s/epoch - 32ms/step\n",
            "Epoch 11/100\n",
            "192/192 - 6s - loss: 0.1573 - accuracy: 0.9306 - val_loss: 0.3066 - val_accuracy: 0.8974 - 6s/epoch - 32ms/step\n",
            "Epoch 12/100\n",
            "192/192 - 6s - loss: 0.1623 - accuracy: 0.9306 - val_loss: 0.1955 - val_accuracy: 0.9120 - 6s/epoch - 31ms/step\n",
            "Epoch 13/100\n",
            "192/192 - 6s - loss: 0.1384 - accuracy: 0.9433 - val_loss: 0.1753 - val_accuracy: 0.9208 - 6s/epoch - 31ms/step\n",
            "Epoch 14/100\n",
            "192/192 - 6s - loss: 0.1338 - accuracy: 0.9498 - val_loss: 0.2298 - val_accuracy: 0.9238 - 6s/epoch - 32ms/step\n",
            "Epoch 15/100\n",
            "192/192 - 6s - loss: 0.1492 - accuracy: 0.9446 - val_loss: 0.2223 - val_accuracy: 0.9267 - 6s/epoch - 31ms/step\n",
            "Epoch 16/100\n",
            "192/192 - 6s - loss: 0.1243 - accuracy: 0.9478 - val_loss: 0.1906 - val_accuracy: 0.9296 - 6s/epoch - 32ms/step\n",
            "Epoch 17/100\n",
            "192/192 - 6s - loss: 0.1091 - accuracy: 0.9589 - val_loss: 0.1799 - val_accuracy: 0.9355 - 6s/epoch - 31ms/step\n",
            "Epoch 18/100\n",
            "192/192 - 6s - loss: 0.1039 - accuracy: 0.9619 - val_loss: 0.1737 - val_accuracy: 0.9267 - 6s/epoch - 32ms/step\n",
            "Epoch 19/100\n",
            "192/192 - 6s - loss: 0.0950 - accuracy: 0.9609 - val_loss: 0.2082 - val_accuracy: 0.9267 - 6s/epoch - 31ms/step\n",
            "Epoch 20/100\n",
            "192/192 - 6s - loss: 0.1030 - accuracy: 0.9592 - val_loss: 0.2566 - val_accuracy: 0.9003 - 6s/epoch - 32ms/step\n",
            "Epoch 21/100\n",
            "192/192 - 6s - loss: 0.0980 - accuracy: 0.9619 - val_loss: 0.1572 - val_accuracy: 0.9355 - 6s/epoch - 31ms/step\n",
            "Epoch 22/100\n",
            "192/192 - 6s - loss: 0.0910 - accuracy: 0.9677 - val_loss: 0.1654 - val_accuracy: 0.9413 - 6s/epoch - 32ms/step\n",
            "Epoch 23/100\n",
            "192/192 - 6s - loss: 0.0776 - accuracy: 0.9687 - val_loss: 0.1833 - val_accuracy: 0.9531 - 6s/epoch - 31ms/step\n",
            "Epoch 24/100\n",
            "192/192 - 6s - loss: 0.0868 - accuracy: 0.9680 - val_loss: 0.0977 - val_accuracy: 0.9560 - 6s/epoch - 31ms/step\n",
            "Epoch 25/100\n",
            "192/192 - 6s - loss: 0.0802 - accuracy: 0.9716 - val_loss: 0.0991 - val_accuracy: 0.9560 - 6s/epoch - 31ms/step\n",
            "Epoch 26/100\n",
            "192/192 - 6s - loss: 0.0703 - accuracy: 0.9739 - val_loss: 0.1313 - val_accuracy: 0.9501 - 6s/epoch - 32ms/step\n",
            "Epoch 27/100\n",
            "192/192 - 6s - loss: 0.0727 - accuracy: 0.9710 - val_loss: 0.1072 - val_accuracy: 0.9501 - 6s/epoch - 31ms/step\n",
            "Epoch 28/100\n",
            "192/192 - 6s - loss: 0.0830 - accuracy: 0.9694 - val_loss: 0.1368 - val_accuracy: 0.9531 - 6s/epoch - 31ms/step\n",
            "Epoch 29/100\n",
            "192/192 - 6s - loss: 0.0719 - accuracy: 0.9697 - val_loss: 0.0951 - val_accuracy: 0.9677 - 6s/epoch - 32ms/step\n",
            "Epoch 30/100\n",
            "192/192 - 6s - loss: 0.0558 - accuracy: 0.9775 - val_loss: 0.1148 - val_accuracy: 0.9648 - 6s/epoch - 31ms/step\n",
            "Epoch 31/100\n",
            "192/192 - 6s - loss: 0.0578 - accuracy: 0.9769 - val_loss: 0.1831 - val_accuracy: 0.9355 - 6s/epoch - 32ms/step\n",
            "Epoch 32/100\n",
            "192/192 - 6s - loss: 0.0665 - accuracy: 0.9739 - val_loss: 0.1193 - val_accuracy: 0.9619 - 6s/epoch - 31ms/step\n",
            "Epoch 33/100\n",
            "192/192 - 6s - loss: 0.0699 - accuracy: 0.9791 - val_loss: 0.1454 - val_accuracy: 0.9501 - 6s/epoch - 32ms/step\n",
            "Epoch 34/100\n",
            "192/192 - 6s - loss: 0.0584 - accuracy: 0.9811 - val_loss: 0.1031 - val_accuracy: 0.9560 - 6s/epoch - 31ms/step\n",
            "Epoch 35/100\n",
            "192/192 - 6s - loss: 0.0505 - accuracy: 0.9788 - val_loss: 0.1674 - val_accuracy: 0.9531 - 6s/epoch - 32ms/step\n",
            "Epoch 36/100\n",
            "192/192 - 6s - loss: 0.0621 - accuracy: 0.9778 - val_loss: 0.1373 - val_accuracy: 0.9560 - 6s/epoch - 31ms/step\n",
            "Epoch 37/100\n",
            "192/192 - 6s - loss: 0.0568 - accuracy: 0.9795 - val_loss: 0.1065 - val_accuracy: 0.9736 - 6s/epoch - 32ms/step\n",
            "Epoch 38/100\n",
            "192/192 - 6s - loss: 0.0515 - accuracy: 0.9821 - val_loss: 0.0975 - val_accuracy: 0.9765 - 6s/epoch - 32ms/step\n",
            "Epoch 39/100\n",
            "192/192 - 6s - loss: 0.0594 - accuracy: 0.9804 - val_loss: 0.2744 - val_accuracy: 0.8856 - 6s/epoch - 31ms/step\n",
            "Epoch 40/100\n",
            "192/192 - 6s - loss: 0.0573 - accuracy: 0.9788 - val_loss: 0.1840 - val_accuracy: 0.9296 - 6s/epoch - 31ms/step\n",
            "Epoch 41/100\n",
            "192/192 - 6s - loss: 0.0501 - accuracy: 0.9824 - val_loss: 0.1189 - val_accuracy: 0.9589 - 6s/epoch - 32ms/step\n",
            "Epoch 42/100\n",
            "192/192 - 6s - loss: 0.0467 - accuracy: 0.9843 - val_loss: 0.1093 - val_accuracy: 0.9677 - 6s/epoch - 33ms/step\n",
            "Epoch 43/100\n",
            "192/192 - 6s - loss: 0.0502 - accuracy: 0.9795 - val_loss: 0.1308 - val_accuracy: 0.9619 - 6s/epoch - 31ms/step\n",
            "Epoch 44/100\n",
            "192/192 - 6s - loss: 0.0478 - accuracy: 0.9824 - val_loss: 0.0825 - val_accuracy: 0.9707 - 6s/epoch - 32ms/step\n",
            "Epoch 45/100\n",
            "192/192 - 6s - loss: 0.0411 - accuracy: 0.9860 - val_loss: 0.0953 - val_accuracy: 0.9648 - 6s/epoch - 31ms/step\n",
            "Epoch 46/100\n",
            "192/192 - 6s - loss: 0.0469 - accuracy: 0.9843 - val_loss: 0.1324 - val_accuracy: 0.9501 - 6s/epoch - 32ms/step\n",
            "Epoch 47/100\n",
            "192/192 - 6s - loss: 0.0495 - accuracy: 0.9817 - val_loss: 0.1159 - val_accuracy: 0.9560 - 6s/epoch - 31ms/step\n",
            "Epoch 48/100\n",
            "192/192 - 6s - loss: 0.0626 - accuracy: 0.9775 - val_loss: 0.0615 - val_accuracy: 0.9795 - 6s/epoch - 32ms/step\n",
            "Epoch 49/100\n",
            "192/192 - 6s - loss: 0.0353 - accuracy: 0.9866 - val_loss: 0.0787 - val_accuracy: 0.9648 - 6s/epoch - 31ms/step\n",
            "Epoch 50/100\n",
            "192/192 - 6s - loss: 0.0463 - accuracy: 0.9827 - val_loss: 0.0655 - val_accuracy: 0.9648 - 6s/epoch - 32ms/step\n",
            "Epoch 51/100\n",
            "192/192 - 6s - loss: 0.0394 - accuracy: 0.9853 - val_loss: 0.1059 - val_accuracy: 0.9736 - 6s/epoch - 31ms/step\n",
            "Epoch 52/100\n",
            "192/192 - 6s - loss: 0.0362 - accuracy: 0.9876 - val_loss: 0.0624 - val_accuracy: 0.9677 - 6s/epoch - 31ms/step\n",
            "Epoch 53/100\n",
            "Restoring model weights from the end of the best epoch: 48.\n",
            "192/192 - 6s - loss: 0.0355 - accuracy: 0.9876 - val_loss: 0.1010 - val_accuracy: 0.9677 - 6s/epoch - 32ms/step\n",
            "Epoch 53: early stopping\n"
          ]
        }
      ],
      "source": [
        "model.compile(\n",
        "    loss='sparse_categorical_crossentropy',\n",
        "    optimizer='adam',\n",
        "    metrics=['accuracy']\n",
        ")\n",
        "model_callbacks = [keras.callbacks.EarlyStopping(\n",
        "    monitor=\"val_loss\",\n",
        "    min_delta=1e-4,\n",
        "    patience=5,\n",
        "    verbose=1,\n",
        "    mode=\"auto\",\n",
        "    restore_best_weights=True,\n",
        "    start_from_epoch=40,\n",
        ")]\n",
        "batch_size = 16\n",
        "log = model.fit(train_ds.batch(batch_size), epochs=100, verbose=2, validation_data=val_ds.batch(batch_size),\n",
        "                  callbacks=model_callbacks)"
      ]
    },
    {
      "cell_type": "code",
      "execution_count": null,
      "metadata": {
        "colab": {
          "base_uri": "https://localhost:8080/",
          "height": 663
        },
        "id": "X2KPTVTse5Gq",
        "outputId": "a9c7a6a7-9697-4ee6-f6e6-1aa51e6205b4"
      },
      "outputs": [
        {
          "output_type": "display_data",
          "data": {
            "text/plain": [
              "<Figure size 640x480 with 1 Axes>"
            ],
            "image/png": "[encoded data removed]"
          },
          "metadata": {}
        },
        {
          "output_type": "stream",
          "name": "stdout",
          "text": [
            "Model performance on test dataset: \n",
            "Loss: 0.03943951427936554\n",
            "Accuracy: 0.9835680723190308\n",
            "54/54 [==============================] - 3s 27ms/step\n",
            "[[521   9]\n",
            " [  5 317]]\n",
            "Model performance on train dataset: \n",
            "Loss: 0.015135703608393669\n",
            "Accuracy: 0.997065544128418\n",
            "192/192 [==============================] - 5s 26ms/step\n",
            "[[1831    2]\n",
            " [   7 1227]]\n"
          ]
        }
      ],
      "source": [
        "from matplotlib import pyplot as plt\n",
        "plt.plot(log.history['loss'])\n",
        "plt.plot(log.history['val_loss'])\n",
        "plt.xlabel(\"Epochs\")\n",
        "plt.ylabel(\"Loss\")\n",
        "plt.legend([\"Train loss\", \"Val loss\"])\n",
        "plt.show()\n",
        "\n",
        "loss, acc = model.evaluate(test_ds.batch(batch_size), verbose=0)\n",
        "print(\"Model performance on test dataset: \")\n",
        "print(f\"Loss: {loss}\")\n",
        "print(f\"Accuracy: {acc}\")\n",
        "\n",
        "y_pred = model.predict(test_x.batch(batch_size))\n",
        "y_pred = tf.math.argmax(\n",
        "    y_pred,\n",
        "    axis=1)\n",
        "y_test_list = list(test_y.as_numpy_iterator())\n",
        "cm = tf.math.confusion_matrix(y_test_list, y_pred).numpy()\n",
        "print(cm)\n",
        "\n",
        "loss, acc = model.evaluate(train_ds.batch(batch_size), verbose=0)\n",
        "print(\"Model performance on train dataset: \")\n",
        "print(f\"Loss: {loss}\")\n",
        "print(f\"Accuracy: {acc}\")\n",
        "\n",
        "y_pred = model.predict(train_x.batch(batch_size))\n",
        "y_pred = tf.math.argmax(\n",
        "    y_pred,\n",
        "    axis=1)\n",
        "y_train_list = list(train_y.as_numpy_iterator())\n",
        "cm = tf.math.confusion_matrix(y_train_list, y_pred).numpy()\n",
        "print(cm)"
      ]
    },
    {
      "cell_type": "code",
      "execution_count": null,
      "metadata": {
        "colab": {
          "base_uri": "https://localhost:8080/",
          "height": 451
        },
        "id": "cbNAqM2LfBK4",
        "outputId": "e7d24b0b-bde0-4ba6-b219-4cde11adaf60"
      },
      "outputs": [
        {
          "output_type": "display_data",
          "data": {
            "text/plain": [
              "<Figure size 640x480 with 1 Axes>"
            ],
            "image/png": "[encoded data removed]"
          },
          "metadata": {}
        }
      ],
      "source": [
        "plt.plot(log.history['accuracy'])\n",
        "plt.plot(log.history['val_accuracy'])\n",
        "plt.xlabel(\"Epochs\")\n",
        "plt.ylabel(\"Accuracy\")\n",
        "plt.legend([\"Train acc.\", \"Val acc.\"])\n",
        "plt.show()"
      ]
    },
    {
      "cell_type": "code",
      "execution_count": 8,
      "metadata": {
        "colab": {
          "base_uri": "https://localhost:8080/"
        },
        "id": "HW4671x2fGX3",
        "outputId": "d69eafda-810e-4237-b39c-451c580373c4"
      },
      "outputs": [
        {
          "output_type": "stream",
          "name": "stdout",
          "text": [
            "Mounted at /content/drive\n"
          ]
        }
      ],
      "source": [
        "from google.colab import drive\n",
        "drive.mount('/content/drive')"
      ]
    },
    {
      "cell_type": "code",
      "source": [
        "filepath = './drive/MyDrive/anemia-classifier-efficientNetB0.h5'\n",
        "# classifier.save_weights(filepath, overwrite=True, save_format=None, options=None)"
      ],
      "metadata": {
        "id": "86aPHMI-WYuO"
      },
      "execution_count": 9,
      "outputs": []
    },
    {
      "cell_type": "code",
      "source": [
        "classifier.load_weights(filepath)\n",
        "model = keras.models.Sequential(\n",
        "    [\n",
        "        cnn,\n",
        "        classifier,\n",
        "    ]\n",
        ")\n",
        "batch_size=16\n",
        "y_pred = model.predict(test_x.batch(batch_size))\n",
        "y_pred = tf.math.argmax(\n",
        "    y_pred,\n",
        "    axis=1)\n",
        "y_test_list = list(test_y.as_numpy_iterator())\n",
        "cm = tf.math.confusion_matrix(y_test_list, y_pred).numpy()\n",
        "print(cm)"
      ],
      "metadata": {
        "id": "ImPFFrZjXrXO",
        "colab": {
          "base_uri": "https://localhost:8080/"
        },
        "outputId": "0823c8a7-0e34-49fe-a01a-2c9bb3d62ef6"
      },
      "execution_count": 10,
      "outputs": [
        {
          "output_type": "stream",
          "name": "stdout",
          "text": [
            "54/54 [==============================] - 59s 1s/step\n",
            "[[525   5]\n",
            " [  2 320]]\n"
          ]
        }
      ]
    },
    {
      "cell_type": "code",
      "source": [
        "accuracy = (cm[0,0]+cm[1,1])/(cm[0,0]+cm[1,1]+cm[0,1]+cm[1,0])\n",
        "print(\"Accuracy: \", accuracy)\n",
        "\n",
        "precision = (cm[0,0])/(cm[0,0]+cm[0,1])\n",
        "print(\"Precision: \", precision)\n",
        "\n",
        "recall = (cm[0,0])/(cm[0,0]+cm[1,0])\n",
        "print(\"Precision: \", recall)\n",
        "\n",
        "f1score = 2*(1/precision + 1/recall)\n",
        "print(\"F1-score: \", f1score)"
      ],
      "metadata": {
        "colab": {
          "base_uri": "https://localhost:8080/"
        },
        "id": "FpaJ5w7DVm8c",
        "outputId": "3743a055-72b9-4eea-d153-f43b495e72b5"
      },
      "execution_count": 11,
      "outputs": [
        {
          "output_type": "stream",
          "name": "stdout",
          "text": [
            "Accuracy:  0.9917840375586855\n",
            "Precision:  0.9905660377358491\n",
            "Precision:  0.9962049335863378\n",
            "F1-score:  4.026666666666666\n"
          ]
        }
      ]
    },
    {
      "cell_type": "code",
      "source": [],
      "metadata": {
        "id": "AtX4omJSVpvZ"
      },
      "execution_count": null,
      "outputs": []
    }
  ],
  "metadata": {
    "colab": {
      "provenance": [],
      "authorship_tag": "ABX9TyPdO02KjH96jgKw+KXiYAJW",
      "include_colab_link": true
    },
    "kernelspec": {
      "display_name": "Python 3",
      "name": "python3"
    },
    "language_info": {
      "name": "python"
    }
  },
  "nbformat": 4,
  "nbformat_minor": 0
}