{
  "nbformat": 4,
  "nbformat_minor": 0,
  "metadata": {
    "colab": {
      "provenance": [],
      "gpuType": "T4",
      "authorship_tag": "ABX9TyMZd7cdymX3ozlOLHMYdcUr",
      "include_colab_link": true
    },
    "kernelspec": {
      "name": "python3",
      "display_name": "Python 3"
    },
    "language_info": {
      "name": "python"
    },
    "accelerator": "GPU"
  },
  "cells": [
    {
      "cell_type": "markdown",
      "metadata": {
        "id": "view-in-github",
        "colab_type": "text"
      },
      "source": [
        "<a href=\"https://colab.research.google.com/github/imraunav/anemia-detection/blob/main/anemia_efficientNetB1.ipynb\" target=\"_parent\"><img src=\"https://colab.research.google.com/assets/colab-badge.svg\" alt=\"Open In Colab\"/></a>"
      ]
    },
    {
      "cell_type": "code",
      "execution_count": 1,
      "metadata": {
        "id": "k0Jt5GxmnW1H",
        "colab": {
          "base_uri": "https://localhost:8080/"
        },
        "outputId": "5e0dba9d-915b-435a-e6bb-127b762d0db5"
      },
      "outputs": [
        {
          "output_type": "stream",
          "name": "stdout",
          "text": [
            "  % Total    % Received % Xferd  Average Speed   Time    Time     Time  Current\n",
            "                                 Dload  Upload   Total   Spent    Left  Speed\n",
            "100  231M  100  231M    0     0  20.9M      0  0:00:11  0:00:11 --:--:-- 24.0M\n",
            "Archive:  dataset.zip\n",
            "  inflating: Anemia Detection using Palpable Palm Image Datasets from Ghana/Palm.rar  \n"
          ]
        }
      ],
      "source": [
        "!curl -o dataset.zip https://prod-dcd-datasets-cache-zipfiles.s3.eu-west-1.amazonaws.com/ccr8cm22vz-1.zip\n",
        "!unzip dataset.zip\n",
        "!unrar x \"/content/Anemia Detection using Palpable Palm Image Datasets from Ghana/Palm.rar\" > op"
      ]
    },
    {
      "cell_type": "code",
      "source": [
        "import os\n",
        "import cv2\n",
        "import numpy as np\n",
        "from tqdm import tqdm\n",
        "\n",
        "anemic = []\n",
        "non_anemic = []\n",
        "for filename in os.listdir('/content/Palm/'):\n",
        "  if 'Non' in filename:\n",
        "    non_anemic.append(filename)\n",
        "  else:\n",
        "    anemic.append(filename)"
      ],
      "metadata": {
        "id": "VtCKAO_inms2"
      },
      "execution_count": 2,
      "outputs": []
    },
    {
      "cell_type": "code",
      "source": [
        "def read_img(filepath):\n",
        "  img = cv2.imread(filepath)\n",
        "  img = cv2.resize(img, (227, 227))\n",
        "  # img = cv2.cvtColor(img, cv2.COLOR_BGR2LAB)\n",
        "  # l, a, b = img[:, :, 0], img[:, :, 1], img[:, :, 2]\n",
        "  # return b\n",
        "  return img"
      ],
      "metadata": {
        "id": "rUK4z5l-nndg"
      },
      "execution_count": 3,
      "outputs": []
    },
    {
      "cell_type": "code",
      "source": [
        "dataset = []\n",
        "labels = []\n",
        "path = '/content/Palm/'\n",
        "for filename in tqdm(anemic):\n",
        "  labels.append(0)\n",
        "  img = read_img(os.path.join(path, filename))\n",
        "  dataset.append(img)\n",
        "for filename in tqdm(non_anemic):\n",
        "  labels.append(1)\n",
        "  img = read_img(os.path.join(path, filename))\n",
        "  dataset.append(img)\n",
        "dataset = np.array(dataset)\n",
        "labels = np.array(labels)"
      ],
      "metadata": {
        "id": "XtUh6eXCnpuF",
        "colab": {
          "base_uri": "https://localhost:8080/"
        },
        "outputId": "83bca69c-7b99-4ab2-dc83-15d7a14ac50e"
      },
      "execution_count": 4,
      "outputs": [
        {
          "output_type": "stream",
          "name": "stderr",
          "text": [
            "100%|██████████| 2562/2562 [00:11<00:00, 230.22it/s]\n",
            "100%|██████████| 1698/1698 [00:04<00:00, 343.59it/s]\n"
          ]
        }
      ]
    },
    {
      "cell_type": "code",
      "source": [
        "from sklearn.model_selection import train_test_split\n",
        "import tensorflow as tf\n",
        "\n",
        "\n",
        "train_x, test_x, train_y, test_y = train_test_split(dataset, labels, test_size=0.2, random_state=2)\n",
        "train_x, val_x, train_y, val_y = train_test_split(train_x, train_y, test_size=0.1, random_state=5)\n",
        "print(train_x.shape, test_x.shape, val_x.shape)\n",
        "print(train_y.shape, test_y.shape, val_y.shape)\n",
        "\n",
        "train_x = tf.data.Dataset.from_tensor_slices(train_x)\n",
        "test_x = tf.data.Dataset.from_tensor_slices(test_x)\n",
        "val_x = tf.data.Dataset.from_tensor_slices(val_x)\n",
        "\n",
        "train_y = tf.data.Dataset.from_tensor_slices(train_y)\n",
        "test_y = tf.data.Dataset.from_tensor_slices(test_y)\n",
        "val_y = tf.data.Dataset.from_tensor_slices(val_y)\n",
        "\n",
        "train_ds = tf.data.Dataset.zip((train_x, train_y))\n",
        "test_ds = tf.data.Dataset.zip((test_x, test_y))\n",
        "val_ds = tf.data.Dataset.zip((val_x, val_y))\n"
      ],
      "metadata": {
        "id": "b4hBfgIynrpb",
        "colab": {
          "base_uri": "https://localhost:8080/"
        },
        "outputId": "d47080a3-578c-4bae-fe3e-5c5f2ee91cc2"
      },
      "execution_count": 5,
      "outputs": [
        {
          "output_type": "stream",
          "name": "stdout",
          "text": [
            "(3067, 227, 227, 3) (852, 227, 227, 3) (341, 227, 227, 3)\n",
            "(3067,) (852,) (341,)\n"
          ]
        }
      ]
    },
    {
      "cell_type": "code",
      "source": [
        "from tensorflow import keras"
      ],
      "metadata": {
        "id": "5j5F4wVbntip"
      },
      "execution_count": 6,
      "outputs": []
    },
    {
      "cell_type": "code",
      "source": [
        "cnn = keras.applications.EfficientNetV2B1(\n",
        "    include_top=False,\n",
        "    weights='imagenet',\n",
        "    input_tensor=None,\n",
        "    input_shape=(227, 227, 3),\n",
        "    include_preprocessing=True,\n",
        ")\n",
        "cnn.trainable = False\n",
        "classifier = keras.models.Sequential(\n",
        "    [\n",
        "        keras.layers.GlobalAveragePooling2D(),\n",
        "        keras.layers.Dense(1024, activation='relu'),\n",
        "        keras.layers.Dense(1024, activation='relu'),\n",
        "        keras.layers.Dense(2, activation='softmax'),\n",
        "    ]\n",
        ")\n",
        "model = keras.models.Sequential(\n",
        "    [\n",
        "        cnn,\n",
        "        classifier,\n",
        "    ]\n",
        ")\n",
        "classifier.summary()\n",
        "model.summary()"
      ],
      "metadata": {
        "id": "Xie1emzknxdD",
        "colab": {
          "base_uri": "https://localhost:8080/"
        },
        "outputId": "c7c88567-e513-42ed-8b50-709203b21edf"
      },
      "execution_count": 7,
      "outputs": [
        {
          "output_type": "stream",
          "name": "stdout",
          "text": [
            "Downloading data from https://storage.googleapis.com/tensorflow/keras-applications/efficientnet_v2/efficientnetv2-b1_notop.h5\n",
            "28456008/28456008 [==============================] - 0s 0us/step\n",
            "Model: \"sequential\"\n",
            "_________________________________________________________________\n",
            " Layer (type)                Output Shape              Param #   \n",
            "=================================================================\n",
            " global_average_pooling2d (  (None, 1280)              0         \n",
            " GlobalAveragePooling2D)                                         \n",
            "                                                                 \n",
            " dense (Dense)               (None, 1024)              1311744   \n",
            "                                                                 \n",
            " dense_1 (Dense)             (None, 1024)              1049600   \n",
            "                                                                 \n",
            " dense_2 (Dense)             (None, 2)                 2050      \n",
            "                                                                 \n",
            "=================================================================\n",
            "Total params: 2363394 (9.02 MB)\n",
            "Trainable params: 2363394 (9.02 MB)\n",
            "Non-trainable params: 0 (0.00 Byte)\n",
            "_________________________________________________________________\n",
            "Model: \"sequential_1\"\n",
            "_________________________________________________________________\n",
            " Layer (type)                Output Shape              Param #   \n",
            "=================================================================\n",
            " efficientnetv2-b1 (Functio  (None, 8, 8, 1280)        6931124   \n",
            " nal)                                                            \n",
            "                                                                 \n",
            " sequential (Sequential)     (None, 2)                 2363394   \n",
            "                                                                 \n",
            "=================================================================\n",
            "Total params: 9294518 (35.46 MB)\n",
            "Trainable params: 2363394 (9.02 MB)\n",
            "Non-trainable params: 6931124 (26.44 MB)\n",
            "_________________________________________________________________\n"
          ]
        }
      ]
    },
    {
      "cell_type": "code",
      "source": [
        "model.compile(\n",
        "    loss='sparse_categorical_crossentropy',\n",
        "    optimizer='adam',\n",
        "    metrics=['accuracy']\n",
        ")\n",
        "model_callbacks = [keras.callbacks.EarlyStopping(\n",
        "    monitor=\"val_loss\",\n",
        "    min_delta=1e-4,\n",
        "    patience=5,\n",
        "    verbose=1,\n",
        "    mode=\"auto\",\n",
        "    restore_best_weights=True,\n",
        "    start_from_epoch=40,\n",
        ")]\n",
        "batch_size = 16\n",
        "log = model.fit(train_ds.batch(batch_size), epochs=100, verbose=2, validation_data=val_ds.batch(batch_size),\n",
        "                  callbacks=model_callbacks)"
      ],
      "metadata": {
        "id": "Epohdnitn1vh",
        "colab": {
          "base_uri": "https://localhost:8080/"
        },
        "outputId": "935f1ac3-d07f-430e-b26f-05b0597ae82a"
      },
      "execution_count": 8,
      "outputs": [
        {
          "output_type": "stream",
          "name": "stdout",
          "text": [
            "Epoch 1/100\n",
            "192/192 - 30s - loss: 0.6421 - accuracy: 0.6436 - val_loss: 0.5574 - val_accuracy: 0.7185 - 30s/epoch - 158ms/step\n",
            "Epoch 2/100\n",
            "192/192 - 8s - loss: 0.5163 - accuracy: 0.7294 - val_loss: 0.4725 - val_accuracy: 0.8035 - 8s/epoch - 40ms/step\n",
            "Epoch 3/100\n",
            "192/192 - 8s - loss: 0.4678 - accuracy: 0.7734 - val_loss: 0.4685 - val_accuracy: 0.8006 - 8s/epoch - 42ms/step\n",
            "Epoch 4/100\n",
            "192/192 - 9s - loss: 0.4200 - accuracy: 0.7959 - val_loss: 0.4142 - val_accuracy: 0.8211 - 9s/epoch - 45ms/step\n",
            "Epoch 5/100\n",
            "192/192 - 8s - loss: 0.3738 - accuracy: 0.8285 - val_loss: 0.3698 - val_accuracy: 0.8299 - 8s/epoch - 43ms/step\n",
            "Epoch 6/100\n",
            "192/192 - 10s - loss: 0.3594 - accuracy: 0.8278 - val_loss: 0.3084 - val_accuracy: 0.8768 - 10s/epoch - 53ms/step\n",
            "Epoch 7/100\n",
            "192/192 - 9s - loss: 0.3185 - accuracy: 0.8611 - val_loss: 0.3089 - val_accuracy: 0.8710 - 9s/epoch - 48ms/step\n",
            "Epoch 8/100\n",
            "192/192 - 10s - loss: 0.2899 - accuracy: 0.8693 - val_loss: 0.3021 - val_accuracy: 0.8768 - 10s/epoch - 51ms/step\n",
            "Epoch 9/100\n",
            "192/192 - 9s - loss: 0.2756 - accuracy: 0.8807 - val_loss: 0.2691 - val_accuracy: 0.8798 - 9s/epoch - 48ms/step\n",
            "Epoch 10/100\n",
            "192/192 - 10s - loss: 0.2631 - accuracy: 0.8885 - val_loss: 0.2537 - val_accuracy: 0.8915 - 10s/epoch - 50ms/step\n",
            "Epoch 11/100\n",
            "192/192 - 9s - loss: 0.2421 - accuracy: 0.9006 - val_loss: 0.2178 - val_accuracy: 0.9062 - 9s/epoch - 47ms/step\n",
            "Epoch 12/100\n",
            "192/192 - 8s - loss: 0.2417 - accuracy: 0.8976 - val_loss: 0.2510 - val_accuracy: 0.8944 - 8s/epoch - 44ms/step\n",
            "Epoch 13/100\n",
            "192/192 - 9s - loss: 0.2263 - accuracy: 0.8983 - val_loss: 0.2558 - val_accuracy: 0.8856 - 9s/epoch - 45ms/step\n",
            "Epoch 14/100\n",
            "192/192 - 9s - loss: 0.2076 - accuracy: 0.9064 - val_loss: 0.2356 - val_accuracy: 0.8974 - 9s/epoch - 45ms/step\n",
            "Epoch 15/100\n",
            "192/192 - 8s - loss: 0.2147 - accuracy: 0.9028 - val_loss: 0.2339 - val_accuracy: 0.8915 - 8s/epoch - 44ms/step\n",
            "Epoch 16/100\n",
            "192/192 - 9s - loss: 0.1855 - accuracy: 0.9217 - val_loss: 0.1556 - val_accuracy: 0.9472 - 9s/epoch - 47ms/step\n",
            "Epoch 17/100\n",
            "192/192 - 8s - loss: 0.1860 - accuracy: 0.9211 - val_loss: 0.1972 - val_accuracy: 0.9267 - 8s/epoch - 42ms/step\n",
            "Epoch 18/100\n",
            "192/192 - 8s - loss: 0.1609 - accuracy: 0.9351 - val_loss: 0.1896 - val_accuracy: 0.9208 - 8s/epoch - 43ms/step\n",
            "Epoch 19/100\n",
            "192/192 - 8s - loss: 0.1586 - accuracy: 0.9319 - val_loss: 0.2375 - val_accuracy: 0.8915 - 8s/epoch - 42ms/step\n",
            "Epoch 20/100\n",
            "192/192 - 8s - loss: 0.1628 - accuracy: 0.9332 - val_loss: 0.2098 - val_accuracy: 0.9003 - 8s/epoch - 42ms/step\n",
            "Epoch 21/100\n",
            "192/192 - 10s - loss: 0.1450 - accuracy: 0.9416 - val_loss: 0.2122 - val_accuracy: 0.9238 - 10s/epoch - 52ms/step\n",
            "Epoch 22/100\n",
            "192/192 - 9s - loss: 0.1526 - accuracy: 0.9367 - val_loss: 0.2452 - val_accuracy: 0.9179 - 9s/epoch - 48ms/step\n",
            "Epoch 23/100\n",
            "192/192 - 9s - loss: 0.1471 - accuracy: 0.9394 - val_loss: 0.2694 - val_accuracy: 0.8974 - 9s/epoch - 46ms/step\n",
            "Epoch 24/100\n",
            "192/192 - 9s - loss: 0.1330 - accuracy: 0.9469 - val_loss: 0.1831 - val_accuracy: 0.9238 - 9s/epoch - 48ms/step\n",
            "Epoch 25/100\n",
            "192/192 - 8s - loss: 0.1316 - accuracy: 0.9442 - val_loss: 0.2185 - val_accuracy: 0.9267 - 8s/epoch - 43ms/step\n",
            "Epoch 26/100\n",
            "192/192 - 8s - loss: 0.1301 - accuracy: 0.9465 - val_loss: 0.1917 - val_accuracy: 0.9208 - 8s/epoch - 41ms/step\n",
            "Epoch 27/100\n",
            "192/192 - 8s - loss: 0.1289 - accuracy: 0.9485 - val_loss: 0.1638 - val_accuracy: 0.9589 - 8s/epoch - 42ms/step\n",
            "Epoch 28/100\n",
            "192/192 - 9s - loss: 0.1285 - accuracy: 0.9433 - val_loss: 0.2155 - val_accuracy: 0.9238 - 9s/epoch - 44ms/step\n",
            "Epoch 29/100\n",
            "192/192 - 8s - loss: 0.1249 - accuracy: 0.9514 - val_loss: 0.1254 - val_accuracy: 0.9560 - 8s/epoch - 41ms/step\n",
            "Epoch 30/100\n",
            "192/192 - 8s - loss: 0.1163 - accuracy: 0.9599 - val_loss: 0.2158 - val_accuracy: 0.9179 - 8s/epoch - 42ms/step\n",
            "Epoch 31/100\n",
            "192/192 - 8s - loss: 0.1127 - accuracy: 0.9553 - val_loss: 0.2164 - val_accuracy: 0.9238 - 8s/epoch - 44ms/step\n",
            "Epoch 32/100\n",
            "192/192 - 8s - loss: 0.1237 - accuracy: 0.9517 - val_loss: 0.2247 - val_accuracy: 0.9208 - 8s/epoch - 41ms/step\n",
            "Epoch 33/100\n",
            "192/192 - 8s - loss: 0.1159 - accuracy: 0.9517 - val_loss: 0.1839 - val_accuracy: 0.9238 - 8s/epoch - 44ms/step\n",
            "Epoch 34/100\n",
            "192/192 - 8s - loss: 0.1072 - accuracy: 0.9583 - val_loss: 0.1326 - val_accuracy: 0.9560 - 8s/epoch - 43ms/step\n",
            "Epoch 35/100\n",
            "192/192 - 10s - loss: 0.1158 - accuracy: 0.9501 - val_loss: 0.1749 - val_accuracy: 0.9326 - 10s/epoch - 51ms/step\n",
            "Epoch 36/100\n",
            "192/192 - 10s - loss: 0.1153 - accuracy: 0.9557 - val_loss: 0.1399 - val_accuracy: 0.9560 - 10s/epoch - 50ms/step\n",
            "Epoch 37/100\n",
            "192/192 - 9s - loss: 0.1049 - accuracy: 0.9602 - val_loss: 0.1817 - val_accuracy: 0.9472 - 9s/epoch - 48ms/step\n",
            "Epoch 38/100\n",
            "192/192 - 9s - loss: 0.1096 - accuracy: 0.9589 - val_loss: 0.2120 - val_accuracy: 0.9120 - 9s/epoch - 47ms/step\n",
            "Epoch 39/100\n",
            "192/192 - 9s - loss: 0.0922 - accuracy: 0.9619 - val_loss: 0.1416 - val_accuracy: 0.9619 - 9s/epoch - 49ms/step\n",
            "Epoch 40/100\n",
            "192/192 - 9s - loss: 0.0927 - accuracy: 0.9619 - val_loss: 0.2378 - val_accuracy: 0.9032 - 9s/epoch - 46ms/step\n",
            "Epoch 41/100\n",
            "192/192 - 8s - loss: 0.0999 - accuracy: 0.9615 - val_loss: 0.1561 - val_accuracy: 0.9560 - 8s/epoch - 42ms/step\n",
            "Epoch 42/100\n",
            "192/192 - 8s - loss: 0.0944 - accuracy: 0.9671 - val_loss: 0.1601 - val_accuracy: 0.9531 - 8s/epoch - 43ms/step\n",
            "Epoch 43/100\n",
            "192/192 - 8s - loss: 0.0917 - accuracy: 0.9622 - val_loss: 0.1503 - val_accuracy: 0.9472 - 8s/epoch - 43ms/step\n",
            "Epoch 44/100\n",
            "192/192 - 8s - loss: 0.0892 - accuracy: 0.9658 - val_loss: 0.3464 - val_accuracy: 0.9208 - 8s/epoch - 41ms/step\n",
            "Epoch 45/100\n",
            "192/192 - 8s - loss: 0.0909 - accuracy: 0.9658 - val_loss: 0.1676 - val_accuracy: 0.9413 - 8s/epoch - 42ms/step\n",
            "Epoch 46/100\n",
            "192/192 - 8s - loss: 0.0945 - accuracy: 0.9645 - val_loss: 0.2395 - val_accuracy: 0.9560 - 8s/epoch - 41ms/step\n",
            "Epoch 47/100\n",
            "192/192 - 8s - loss: 0.0785 - accuracy: 0.9703 - val_loss: 0.1293 - val_accuracy: 0.9560 - 8s/epoch - 43ms/step\n",
            "Epoch 48/100\n",
            "192/192 - 8s - loss: 0.0891 - accuracy: 0.9694 - val_loss: 0.1611 - val_accuracy: 0.9472 - 8s/epoch - 42ms/step\n",
            "Epoch 49/100\n",
            "192/192 - 8s - loss: 0.0921 - accuracy: 0.9625 - val_loss: 0.1618 - val_accuracy: 0.9560 - 8s/epoch - 41ms/step\n",
            "Epoch 50/100\n",
            "192/192 - 8s - loss: 0.0842 - accuracy: 0.9674 - val_loss: 0.2142 - val_accuracy: 0.9355 - 8s/epoch - 42ms/step\n",
            "Epoch 51/100\n",
            "192/192 - 8s - loss: 0.0824 - accuracy: 0.9664 - val_loss: 0.1563 - val_accuracy: 0.9560 - 8s/epoch - 44ms/step\n",
            "Epoch 52/100\n",
            "Restoring model weights from the end of the best epoch: 47.\n",
            "192/192 - 8s - loss: 0.0752 - accuracy: 0.9700 - val_loss: 0.1456 - val_accuracy: 0.9443 - 8s/epoch - 44ms/step\n",
            "Epoch 52: early stopping\n"
          ]
        }
      ]
    },
    {
      "cell_type": "code",
      "source": [
        "from matplotlib import pyplot as plt\n",
        "plt.plot(log.history['loss'])\n",
        "plt.plot(log.history['val_loss'])\n",
        "plt.xlabel(\"Epochs\")\n",
        "plt.ylabel(\"Loss\")\n",
        "plt.legend([\"Train loss\", \"Val loss\"])\n",
        "plt.show()\n",
        "\n",
        "loss, acc = model.evaluate(test_ds.batch(batch_size), verbose=0)\n",
        "print(\"Model performance on test dataset: \")\n",
        "print(f\"Loss: {loss}\")\n",
        "print(f\"Accuracy: {acc}\")\n",
        "\n",
        "y_pred = model.predict(test_x.batch(batch_size))\n",
        "y_pred = tf.math.argmax(\n",
        "    y_pred,\n",
        "    axis=1)\n",
        "y_test_list = list(test_y.as_numpy_iterator())\n",
        "cm = tf.math.confusion_matrix(y_test_list, y_pred).numpy()\n",
        "print(cm)\n",
        "\n",
        "loss, acc = model.evaluate(train_ds.batch(batch_size), verbose=0)\n",
        "print(\"Model performance on train dataset: \")\n",
        "print(f\"Loss: {loss}\")\n",
        "print(f\"Accuracy: {acc}\")\n",
        "\n",
        "y_pred = model.predict(train_x.batch(batch_size))\n",
        "y_pred = tf.math.argmax(\n",
        "    y_pred,\n",
        "    axis=1)\n",
        "y_train_list = list(train_y.as_numpy_iterator())\n",
        "cm = tf.math.confusion_matrix(y_train_list, y_pred).numpy()\n",
        "print(cm)"
      ],
      "metadata": {
        "id": "A8v5B3Zbn36j",
        "colab": {
          "base_uri": "https://localhost:8080/",
          "height": 663
        },
        "outputId": "7dccfe90-871a-4ff6-cd16-2a95121bdbce"
      },
      "execution_count": 9,
      "outputs": [
        {
          "output_type": "display_data",
          "data": {
            "text/plain": [
              "<Figure size 640x480 with 1 Axes>"
            ],
            "image/png": "[encoded data removed]"
          },
          "metadata": {}
        },
        {
          "output_type": "stream",
          "name": "stdout",
          "text": [
            "Model performance on test dataset: \n",
            "Loss: 0.14654050767421722\n",
            "Accuracy: 0.9471830725669861\n",
            "54/54 [==============================] - 5s 35ms/step\n",
            "[[507  23]\n",
            " [ 22 300]]\n",
            "Model performance on train dataset: \n",
            "Loss: 0.0235743448138237\n",
            "Accuracy: 0.9925008416175842\n",
            "192/192 [==============================] - 7s 34ms/step\n",
            "[[1823   10]\n",
            " [  13 1221]]\n"
          ]
        }
      ]
    },
    {
      "cell_type": "code",
      "source": [
        "plt.plot(log.history['accuracy'])\n",
        "plt.plot(log.history['val_accuracy'])\n",
        "plt.xlabel(\"Epochs\")\n",
        "plt.ylabel(\"Accuracy\")\n",
        "plt.legend([\"Train acc.\", \"Val acc.\"])\n",
        "plt.show()"
      ],
      "metadata": {
        "id": "rTqviRQQn6KG",
        "colab": {
          "base_uri": "https://localhost:8080/",
          "height": 449
        },
        "outputId": "3bc56a51-ea9d-42c5-fd10-89bc909c0bc8"
      },
      "execution_count": 10,
      "outputs": [
        {
          "output_type": "display_data",
          "data": {
            "text/plain": [
              "<Figure size 640x480 with 1 Axes>"
            ],
            "image/png": "[encoded data removed]"
          },
          "metadata": {}
        }
      ]
    },
    {
      "cell_type": "code",
      "source": [
        "from google.colab import drive\n",
        "drive.mount('/content/drive')"
      ],
      "metadata": {
        "colab": {
          "base_uri": "https://localhost:8080/"
        },
        "id": "h7aTTwNcWB3c",
        "outputId": "2dcf3a41-c765-4485-9fb4-e44ba70c7fc6"
      },
      "execution_count": 11,
      "outputs": [
        {
          "output_type": "stream",
          "name": "stdout",
          "text": [
            "Mounted at /content/drive\n"
          ]
        }
      ]
    },
    {
      "cell_type": "code",
      "source": [
        "filepath = './drive/MyDrive/anemia-classifier-efficientNetB1.h5'\n",
        "classifier.save_weights(filepath, overwrite=True, save_format=None, options=None)"
      ],
      "metadata": {
        "id": "zTf0dVPwSjgL"
      },
      "execution_count": 12,
      "outputs": []
    },
    {
      "cell_type": "code",
      "source": [
        "classifier.load_weights(filepath)"
      ],
      "metadata": {
        "id": "f_xLXxLbUHTJ"
      },
      "execution_count": 13,
      "outputs": []
    },
    {
      "cell_type": "code",
      "source": [
        "batch_size=16\n",
        "y_pred = model.predict(test_x.batch(batch_size))\n",
        "y_pred = tf.math.argmax(\n",
        "    y_pred,\n",
        "    axis=1)\n",
        "y_test_list = list(test_y.as_numpy_iterator())\n",
        "cm = tf.math.confusion_matrix(y_test_list, y_pred).numpy()\n",
        "print(cm)"
      ],
      "metadata": {
        "colab": {
          "base_uri": "https://localhost:8080/"
        },
        "id": "oCLudk7BRaCh",
        "outputId": "7ce4c7de-8125-4b0a-d900-56bec5339dde"
      },
      "execution_count": 14,
      "outputs": [
        {
          "output_type": "stream",
          "name": "stdout",
          "text": [
            "54/54 [==============================] - 2s 35ms/step\n",
            "[[507  23]\n",
            " [ 22 300]]\n"
          ]
        }
      ]
    },
    {
      "cell_type": "code",
      "source": [
        "accuracy = (cm[0,0]+cm[1,1])/(cm[0,0]+cm[1,1]+cm[0,1]+cm[1,0])\n",
        "print(\"Accuracy: \", accuracy)"
      ],
      "metadata": {
        "colab": {
          "base_uri": "https://localhost:8080/"
        },
        "id": "-Ep1wU49ReSF",
        "outputId": "2355fbb8-0d80-45e2-b6d0-e04b5e3336a0"
      },
      "execution_count": 18,
      "outputs": [
        {
          "output_type": "stream",
          "name": "stdout",
          "text": [
            "Accuracy:  0.9471830985915493\n"
          ]
        }
      ]
    },
    {
      "cell_type": "code",
      "source": [
        "precision = (cm[0,0])/(cm[0,0]+cm[0,1])\n",
        "print(\"Precision: \", precision)"
      ],
      "metadata": {
        "colab": {
          "base_uri": "https://localhost:8080/"
        },
        "id": "qlCOaNtUTBt3",
        "outputId": "278dcdc8-a9fa-4da7-d76c-1537f2bb8494"
      },
      "execution_count": 15,
      "outputs": [
        {
          "output_type": "stream",
          "name": "stdout",
          "text": [
            "Precision:  0.9566037735849057\n"
          ]
        }
      ]
    },
    {
      "cell_type": "code",
      "source": [
        "recall = (cm[0,0])/(cm[0,0]+cm[1,0])\n",
        "print(\"Precision: \", recall)"
      ],
      "metadata": {
        "colab": {
          "base_uri": "https://localhost:8080/"
        },
        "id": "5ixNDawqTVKj",
        "outputId": "e5e2edd6-e40a-4936-c9d6-4b72e43f9ece"
      },
      "execution_count": 16,
      "outputs": [
        {
          "output_type": "stream",
          "name": "stdout",
          "text": [
            "Precision:  0.9584120982986768\n"
          ]
        }
      ]
    },
    {
      "cell_type": "code",
      "source": [
        "f1score = 2*(1/precision + 1/recall)\n",
        "print(\"F1-score: \", f1score)"
      ],
      "metadata": {
        "colab": {
          "base_uri": "https://localhost:8080/"
        },
        "id": "j174qs50TtHp",
        "outputId": "aa846c1f-e3d7-4123-fa5d-edc06ae4d5c8"
      },
      "execution_count": 17,
      "outputs": [
        {
          "output_type": "stream",
          "name": "stdout",
          "text": [
            "F1-score:  4.177514792899409\n"
          ]
        }
      ]
    },
    {
      "cell_type": "code",
      "source": [],
      "metadata": {
        "id": "kfsKZZ2YT71c"
      },
      "execution_count": null,
      "outputs": []
    }
  ]
}