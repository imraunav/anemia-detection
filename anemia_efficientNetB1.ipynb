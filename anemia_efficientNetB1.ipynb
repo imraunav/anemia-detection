{
  "nbformat": 4,
  "nbformat_minor": 0,
  "metadata": {
    "colab": {
      "provenance": [],
      "gpuType": "T4",
      "authorship_tag": "ABX9TyOv1j3/+4ULX3Mymr7tQZ0D",
      "include_colab_link": true
    },
    "kernelspec": {
      "name": "python3",
      "display_name": "Python 3"
    },
    "language_info": {
      "name": "python"
    },
    "accelerator": "GPU"
  },
  "cells": [
    {
      "cell_type": "markdown",
      "metadata": {
        "id": "view-in-github",
        "colab_type": "text"
      },
      "source": [
        "<a href=\"https://colab.research.google.com/github/imraunav/anemia-detection/blob/main/anemia_efficientNetB1.ipynb\" target=\"_parent\"><img src=\"https://colab.research.google.com/assets/colab-badge.svg\" alt=\"Open In Colab\"/></a>"
      ]
    },
    {
      "cell_type": "code",
      "execution_count": null,
      "metadata": {
        "id": "k0Jt5GxmnW1H",
        "colab": {
          "base_uri": "https://localhost:8080/"
        },
        "outputId": "69c39703-89aa-4231-9b80-788dc511f0c2"
      },
      "outputs": [
        {
          "output_type": "stream",
          "name": "stdout",
          "text": [
            "  % Total    % Received % Xferd  Average Speed   Time    Time     Time  Current\n",
            "                                 Dload  Upload   Total   Spent    Left  Speed\n",
            "100  231M  100  231M    0     0  13.8M      0  0:00:16  0:00:16 --:--:-- 16.1M\n",
            "Archive:  dataset.zip\n",
            "  inflating: Anemia Detection using Palpable Palm Image Datasets from Ghana/Palm.rar  \n"
          ]
        }
      ],
      "source": [
        "!curl -o dataset.zip https://prod-dcd-datasets-cache-zipfiles.s3.eu-west-1.amazonaws.com/ccr8cm22vz-1.zip\n",
        "!unzip dataset.zip\n",
        "!unrar x \"/content/Anemia Detection using Palpable Palm Image Datasets from Ghana/Palm.rar\" > op"
      ]
    },
    {
      "cell_type": "code",
      "source": [
        "import os\n",
        "import cv2\n",
        "import numpy as np\n",
        "from tqdm import tqdm\n",
        "\n",
        "anemic = []\n",
        "non_anemic = []\n",
        "for filename in os.listdir('/content/Palm/'):\n",
        "  if 'Non' in filename:\n",
        "    non_anemic.append(filename)\n",
        "  else:\n",
        "    anemic.append(filename)"
      ],
      "metadata": {
        "id": "VtCKAO_inms2"
      },
      "execution_count": null,
      "outputs": []
    },
    {
      "cell_type": "code",
      "source": [
        "def read_img(filepath):\n",
        "  img = cv2.imread(filepath)\n",
        "  img = cv2.resize(img, (227, 227))\n",
        "  # img = cv2.cvtColor(img, cv2.COLOR_BGR2LAB)\n",
        "  # l, a, b = img[:, :, 0], img[:, :, 1], img[:, :, 2]\n",
        "  # return b\n",
        "  return img"
      ],
      "metadata": {
        "id": "rUK4z5l-nndg"
      },
      "execution_count": null,
      "outputs": []
    },
    {
      "cell_type": "code",
      "source": [
        "dataset = []\n",
        "labels = []\n",
        "path = '/content/Palm/'\n",
        "for filename in tqdm(anemic):\n",
        "  labels.append(0)\n",
        "  img = read_img(os.path.join(path, filename))\n",
        "  dataset.append(img)\n",
        "for filename in tqdm(non_anemic):\n",
        "  labels.append(1)\n",
        "  img = read_img(os.path.join(path, filename))\n",
        "  dataset.append(img)\n",
        "dataset = np.array(dataset)\n",
        "labels = np.array(labels)"
      ],
      "metadata": {
        "id": "XtUh6eXCnpuF",
        "colab": {
          "base_uri": "https://localhost:8080/"
        },
        "outputId": "27a39d0f-b2e7-4db9-fcf2-55501e0a5faf"
      },
      "execution_count": null,
      "outputs": [
        {
          "output_type": "stream",
          "name": "stderr",
          "text": [
            "100%|██████████| 2562/2562 [00:08<00:00, 288.41it/s]\n",
            "100%|██████████| 1698/1698 [00:03<00:00, 524.00it/s]\n"
          ]
        }
      ]
    },
    {
      "cell_type": "code",
      "source": [
        "from sklearn.model_selection import train_test_split\n",
        "import tensorflow as tf\n",
        "\n",
        "\n",
        "train_x, test_x, train_y, test_y = train_test_split(dataset, labels, test_size=0.2, random_state=2)\n",
        "train_x, val_x, train_y, val_y = train_test_split(train_x, train_y, test_size=0.1, random_state=5)\n",
        "print(train_x.shape, test_x.shape, val_x.shape)\n",
        "print(train_y.shape, test_y.shape, val_y.shape)\n",
        "\n",
        "train_x = tf.data.Dataset.from_tensor_slices(train_x)\n",
        "test_x = tf.data.Dataset.from_tensor_slices(test_x)\n",
        "val_x = tf.data.Dataset.from_tensor_slices(val_x)\n",
        "\n",
        "train_y = tf.data.Dataset.from_tensor_slices(train_y)\n",
        "test_y = tf.data.Dataset.from_tensor_slices(test_y)\n",
        "val_y = tf.data.Dataset.from_tensor_slices(val_y)\n",
        "\n",
        "train_ds = tf.data.Dataset.zip((train_x, train_y))\n",
        "test_ds = tf.data.Dataset.zip((test_x, test_y))\n",
        "val_ds = tf.data.Dataset.zip((val_x, val_y))\n"
      ],
      "metadata": {
        "id": "b4hBfgIynrpb",
        "colab": {
          "base_uri": "https://localhost:8080/"
        },
        "outputId": "40fc2177-de32-423e-ccad-fb1ed8fac774"
      },
      "execution_count": null,
      "outputs": [
        {
          "output_type": "stream",
          "name": "stdout",
          "text": [
            "(3067, 227, 227, 3) (852, 227, 227, 3) (341, 227, 227, 3)\n",
            "(3067,) (852,) (341,)\n"
          ]
        }
      ]
    },
    {
      "cell_type": "code",
      "source": [
        "from tensorflow import keras"
      ],
      "metadata": {
        "id": "5j5F4wVbntip"
      },
      "execution_count": null,
      "outputs": []
    },
    {
      "cell_type": "code",
      "source": [
        "cnn = keras.applications.EfficientNetV2B1(\n",
        "    include_top=False,\n",
        "    weights='imagenet',\n",
        "    input_tensor=None,\n",
        "    input_shape=(227, 227, 3),\n",
        "    include_preprocessing=True,\n",
        ")\n",
        "cnn.trainable = False\n",
        "classifier = keras.models.Sequential(\n",
        "    [\n",
        "        keras.layers.GlobalAveragePooling2D(),\n",
        "        keras.layers.Dense(1024, activation='relu'),\n",
        "        keras.layers.Dense(1024, activation='relu'),\n",
        "        keras.layers.Dense(2, activation='softmax'),\n",
        "    ]\n",
        ")\n",
        "model = keras.models.Sequential(\n",
        "    [\n",
        "        cnn,\n",
        "        classifier,\n",
        "    ]\n",
        ")\n",
        "classifier.summary()\n",
        "model.summary()"
      ],
      "metadata": {
        "id": "Xie1emzknxdD",
        "colab": {
          "base_uri": "https://localhost:8080/"
        },
        "outputId": "695c9c6a-3144-4ff1-e2a7-ce43208f2d1e"
      },
      "execution_count": null,
      "outputs": [
        {
          "output_type": "stream",
          "name": "stdout",
          "text": [
            "Downloading data from https://storage.googleapis.com/tensorflow/keras-applications/efficientnet_v2/efficientnetv2-b1_notop.h5\n",
            "28456008/28456008 [==============================] - 2s 0us/step\n",
            "Model: \"sequential\"\n",
            "_________________________________________________________________\n",
            " Layer (type)                Output Shape              Param #   \n",
            "=================================================================\n",
            " global_average_pooling2d (  (None, 1280)              0         \n",
            " GlobalAveragePooling2D)                                         \n",
            "                                                                 \n",
            " dense (Dense)               (None, 1024)              1311744   \n",
            "                                                                 \n",
            " dense_1 (Dense)             (None, 1024)              1049600   \n",
            "                                                                 \n",
            " dense_2 (Dense)             (None, 2)                 2050      \n",
            "                                                                 \n",
            "=================================================================\n",
            "Total params: 2363394 (9.02 MB)\n",
            "Trainable params: 2363394 (9.02 MB)\n",
            "Non-trainable params: 0 (0.00 Byte)\n",
            "_________________________________________________________________\n",
            "Model: \"sequential_1\"\n",
            "_________________________________________________________________\n",
            " Layer (type)                Output Shape              Param #   \n",
            "=================================================================\n",
            " efficientnetv2-b1 (Functio  (None, 8, 8, 1280)        6931124   \n",
            " nal)                                                            \n",
            "                                                                 \n",
            " sequential (Sequential)     (None, 2)                 2363394   \n",
            "                                                                 \n",
            "=================================================================\n",
            "Total params: 9294518 (35.46 MB)\n",
            "Trainable params: 2363394 (9.02 MB)\n",
            "Non-trainable params: 6931124 (26.44 MB)\n",
            "_________________________________________________________________\n"
          ]
        }
      ]
    },
    {
      "cell_type": "code",
      "source": [
        "model.compile(\n",
        "    loss='sparse_categorical_crossentropy',\n",
        "    optimizer='adam',\n",
        "    metrics=['accuracy']\n",
        ")\n",
        "model_callbacks = [keras.callbacks.EarlyStopping(\n",
        "    monitor=\"val_loss\",\n",
        "    min_delta=1e-4,\n",
        "    patience=5,\n",
        "    verbose=1,\n",
        "    mode=\"auto\",\n",
        "    restore_best_weights=True,\n",
        "    start_from_epoch=40,\n",
        ")]\n",
        "batch_size = 16\n",
        "log = model.fit(train_ds.batch(batch_size), epochs=100, verbose=2, validation_data=val_ds.batch(batch_size),\n",
        "                  callbacks=model_callbacks)"
      ],
      "metadata": {
        "id": "Epohdnitn1vh",
        "colab": {
          "base_uri": "https://localhost:8080/"
        },
        "outputId": "b2190398-e53f-4083-909a-ccf16c468296"
      },
      "execution_count": null,
      "outputs": [
        {
          "output_type": "stream",
          "name": "stdout",
          "text": [
            "Epoch 1/100\n",
            "192/192 - 31s - loss: 0.6448 - accuracy: 0.6387 - val_loss: 0.5709 - val_accuracy: 0.6891 - 31s/epoch - 163ms/step\n",
            "Epoch 2/100\n",
            "192/192 - 9s - loss: 0.5313 - accuracy: 0.7294 - val_loss: 0.5260 - val_accuracy: 0.7449 - 9s/epoch - 45ms/step\n",
            "Epoch 3/100\n",
            "192/192 - 8s - loss: 0.4757 - accuracy: 0.7695 - val_loss: 0.4499 - val_accuracy: 0.7889 - 8s/epoch - 40ms/step\n",
            "Epoch 4/100\n",
            "192/192 - 8s - loss: 0.4320 - accuracy: 0.7864 - val_loss: 0.4629 - val_accuracy: 0.7771 - 8s/epoch - 40ms/step\n",
            "Epoch 5/100\n",
            "192/192 - 8s - loss: 0.3822 - accuracy: 0.8200 - val_loss: 0.4195 - val_accuracy: 0.7918 - 8s/epoch - 41ms/step\n",
            "Epoch 6/100\n",
            "192/192 - 8s - loss: 0.3597 - accuracy: 0.8252 - val_loss: 0.3747 - val_accuracy: 0.7947 - 8s/epoch - 40ms/step\n",
            "Epoch 7/100\n",
            "192/192 - 8s - loss: 0.3252 - accuracy: 0.8494 - val_loss: 0.4050 - val_accuracy: 0.8152 - 8s/epoch - 41ms/step\n",
            "Epoch 8/100\n",
            "192/192 - 8s - loss: 0.3073 - accuracy: 0.8624 - val_loss: 0.3814 - val_accuracy: 0.8592 - 8s/epoch - 41ms/step\n",
            "Epoch 9/100\n",
            "192/192 - 8s - loss: 0.2972 - accuracy: 0.8666 - val_loss: 0.2932 - val_accuracy: 0.8563 - 8s/epoch - 41ms/step\n",
            "Epoch 10/100\n",
            "192/192 - 8s - loss: 0.2525 - accuracy: 0.8898 - val_loss: 0.2391 - val_accuracy: 0.9179 - 8s/epoch - 42ms/step\n",
            "Epoch 11/100\n",
            "192/192 - 8s - loss: 0.2579 - accuracy: 0.8888 - val_loss: 0.2417 - val_accuracy: 0.8944 - 8s/epoch - 42ms/step\n",
            "Epoch 12/100\n",
            "192/192 - 8s - loss: 0.2345 - accuracy: 0.9006 - val_loss: 0.2325 - val_accuracy: 0.8974 - 8s/epoch - 41ms/step\n",
            "Epoch 13/100\n",
            "192/192 - 8s - loss: 0.2169 - accuracy: 0.9081 - val_loss: 0.4340 - val_accuracy: 0.7830 - 8s/epoch - 42ms/step\n",
            "Epoch 14/100\n",
            "192/192 - 8s - loss: 0.2155 - accuracy: 0.9084 - val_loss: 0.2560 - val_accuracy: 0.8944 - 8s/epoch - 42ms/step\n",
            "Epoch 15/100\n",
            "192/192 - 8s - loss: 0.1941 - accuracy: 0.9214 - val_loss: 0.2142 - val_accuracy: 0.9150 - 8s/epoch - 41ms/step\n",
            "Epoch 16/100\n",
            "192/192 - 8s - loss: 0.1929 - accuracy: 0.9185 - val_loss: 0.1857 - val_accuracy: 0.9032 - 8s/epoch - 41ms/step\n",
            "Epoch 17/100\n",
            "192/192 - 8s - loss: 0.1880 - accuracy: 0.9169 - val_loss: 0.1715 - val_accuracy: 0.9355 - 8s/epoch - 42ms/step\n",
            "Epoch 18/100\n",
            "192/192 - 8s - loss: 0.1830 - accuracy: 0.9204 - val_loss: 0.1803 - val_accuracy: 0.9208 - 8s/epoch - 42ms/step\n",
            "Epoch 19/100\n",
            "192/192 - 8s - loss: 0.1798 - accuracy: 0.9257 - val_loss: 0.2210 - val_accuracy: 0.9120 - 8s/epoch - 41ms/step\n",
            "Epoch 20/100\n",
            "192/192 - 8s - loss: 0.1773 - accuracy: 0.9299 - val_loss: 0.1932 - val_accuracy: 0.9355 - 8s/epoch - 42ms/step\n",
            "Epoch 21/100\n",
            "192/192 - 8s - loss: 0.1555 - accuracy: 0.9390 - val_loss: 0.2003 - val_accuracy: 0.9355 - 8s/epoch - 42ms/step\n",
            "Epoch 22/100\n",
            "192/192 - 8s - loss: 0.1497 - accuracy: 0.9335 - val_loss: 0.2056 - val_accuracy: 0.9296 - 8s/epoch - 41ms/step\n",
            "Epoch 23/100\n",
            "192/192 - 8s - loss: 0.1691 - accuracy: 0.9283 - val_loss: 0.1928 - val_accuracy: 0.9296 - 8s/epoch - 42ms/step\n",
            "Epoch 24/100\n",
            "192/192 - 8s - loss: 0.1456 - accuracy: 0.9407 - val_loss: 0.2102 - val_accuracy: 0.9238 - 8s/epoch - 42ms/step\n",
            "Epoch 25/100\n",
            "192/192 - 8s - loss: 0.1381 - accuracy: 0.9400 - val_loss: 0.2189 - val_accuracy: 0.9179 - 8s/epoch - 44ms/step\n",
            "Epoch 26/100\n",
            "192/192 - 8s - loss: 0.1329 - accuracy: 0.9462 - val_loss: 0.3596 - val_accuracy: 0.8856 - 8s/epoch - 41ms/step\n",
            "Epoch 27/100\n",
            "192/192 - 8s - loss: 0.1433 - accuracy: 0.9436 - val_loss: 0.2444 - val_accuracy: 0.9326 - 8s/epoch - 43ms/step\n",
            "Epoch 28/100\n",
            "192/192 - 8s - loss: 0.1480 - accuracy: 0.9384 - val_loss: 0.1883 - val_accuracy: 0.9384 - 8s/epoch - 44ms/step\n",
            "Epoch 29/100\n",
            "192/192 - 8s - loss: 0.1179 - accuracy: 0.9553 - val_loss: 0.2061 - val_accuracy: 0.9472 - 8s/epoch - 41ms/step\n",
            "Epoch 30/100\n",
            "192/192 - 8s - loss: 0.1164 - accuracy: 0.9537 - val_loss: 0.2176 - val_accuracy: 0.9443 - 8s/epoch - 42ms/step\n",
            "Epoch 31/100\n",
            "192/192 - 8s - loss: 0.1142 - accuracy: 0.9560 - val_loss: 0.2848 - val_accuracy: 0.9150 - 8s/epoch - 42ms/step\n",
            "Epoch 32/100\n",
            "192/192 - 8s - loss: 0.1275 - accuracy: 0.9521 - val_loss: 0.1955 - val_accuracy: 0.9501 - 8s/epoch - 41ms/step\n",
            "Epoch 33/100\n",
            "192/192 - 8s - loss: 0.1097 - accuracy: 0.9599 - val_loss: 0.1825 - val_accuracy: 0.9326 - 8s/epoch - 42ms/step\n",
            "Epoch 34/100\n",
            "192/192 - 8s - loss: 0.1196 - accuracy: 0.9530 - val_loss: 0.1659 - val_accuracy: 0.9531 - 8s/epoch - 44ms/step\n",
            "Epoch 35/100\n",
            "192/192 - 8s - loss: 0.1127 - accuracy: 0.9563 - val_loss: 0.1193 - val_accuracy: 0.9589 - 8s/epoch - 41ms/step\n",
            "Epoch 36/100\n",
            "192/192 - 8s - loss: 0.1093 - accuracy: 0.9596 - val_loss: 0.1839 - val_accuracy: 0.9560 - 8s/epoch - 42ms/step\n",
            "Epoch 37/100\n",
            "192/192 - 8s - loss: 0.1042 - accuracy: 0.9609 - val_loss: 0.1809 - val_accuracy: 0.9501 - 8s/epoch - 44ms/step\n",
            "Epoch 38/100\n",
            "192/192 - 8s - loss: 0.0978 - accuracy: 0.9583 - val_loss: 0.1481 - val_accuracy: 0.9560 - 8s/epoch - 41ms/step\n",
            "Epoch 39/100\n",
            "192/192 - 8s - loss: 0.1071 - accuracy: 0.9576 - val_loss: 0.1634 - val_accuracy: 0.9531 - 8s/epoch - 42ms/step\n",
            "Epoch 40/100\n",
            "192/192 - 8s - loss: 0.0963 - accuracy: 0.9654 - val_loss: 0.1832 - val_accuracy: 0.9531 - 8s/epoch - 44ms/step\n",
            "Epoch 41/100\n",
            "192/192 - 8s - loss: 0.0938 - accuracy: 0.9632 - val_loss: 0.1688 - val_accuracy: 0.9560 - 8s/epoch - 42ms/step\n",
            "Epoch 42/100\n",
            "192/192 - 8s - loss: 0.0842 - accuracy: 0.9658 - val_loss: 0.1442 - val_accuracy: 0.9736 - 8s/epoch - 42ms/step\n",
            "Epoch 43/100\n",
            "192/192 - 8s - loss: 0.0989 - accuracy: 0.9615 - val_loss: 0.1465 - val_accuracy: 0.9531 - 8s/epoch - 42ms/step\n",
            "Epoch 44/100\n",
            "192/192 - 8s - loss: 0.0926 - accuracy: 0.9664 - val_loss: 0.2073 - val_accuracy: 0.9560 - 8s/epoch - 41ms/step\n",
            "Epoch 45/100\n",
            "192/192 - 8s - loss: 0.0896 - accuracy: 0.9641 - val_loss: 0.1515 - val_accuracy: 0.9648 - 8s/epoch - 42ms/step\n",
            "Epoch 46/100\n",
            "192/192 - 9s - loss: 0.0909 - accuracy: 0.9677 - val_loss: 0.1296 - val_accuracy: 0.9501 - 9s/epoch - 45ms/step\n",
            "Epoch 47/100\n",
            "192/192 - 8s - loss: 0.0901 - accuracy: 0.9622 - val_loss: 0.1866 - val_accuracy: 0.9619 - 8s/epoch - 41ms/step\n",
            "Epoch 48/100\n",
            "192/192 - 8s - loss: 0.0923 - accuracy: 0.9667 - val_loss: 0.1610 - val_accuracy: 0.9619 - 8s/epoch - 42ms/step\n",
            "Epoch 49/100\n",
            "192/192 - 8s - loss: 0.0786 - accuracy: 0.9716 - val_loss: 0.1349 - val_accuracy: 0.9707 - 8s/epoch - 41ms/step\n",
            "Epoch 50/100\n",
            "192/192 - 8s - loss: 0.0851 - accuracy: 0.9635 - val_loss: 0.1631 - val_accuracy: 0.9560 - 8s/epoch - 42ms/step\n",
            "Epoch 51/100\n",
            "Restoring model weights from the end of the best epoch: 46.\n",
            "192/192 - 8s - loss: 0.0897 - accuracy: 0.9635 - val_loss: 0.1363 - val_accuracy: 0.9736 - 8s/epoch - 42ms/step\n",
            "Epoch 51: early stopping\n"
          ]
        }
      ]
    },
    {
      "cell_type": "code",
      "source": [
        "from matplotlib import pyplot as plt\n",
        "plt.plot(log.history['loss'])\n",
        "plt.plot(log.history['val_loss'])\n",
        "plt.xlabel(\"Epochs\")\n",
        "plt.ylabel(\"Loss\")\n",
        "plt.legend([\"Train loss\", \"Val loss\"])\n",
        "plt.show()\n",
        "\n",
        "loss, acc = model.evaluate(test_ds.batch(batch_size), verbose=0)\n",
        "print(\"Model performance on test dataset: \")\n",
        "print(f\"Loss: {loss}\")\n",
        "print(f\"Accuracy: {acc}\")\n",
        "\n",
        "y_pred = model.predict(test_x.batch(batch_size))\n",
        "y_pred = tf.math.argmax(\n",
        "    y_pred,\n",
        "    axis=1)\n",
        "y_test_list = list(test_y.as_numpy_iterator())\n",
        "cm = tf.math.confusion_matrix(y_test_list, y_pred).numpy()\n",
        "print(cm)\n",
        "\n",
        "loss, acc = model.evaluate(train_ds.batch(batch_size), verbose=0)\n",
        "print(\"Model performance on train dataset: \")\n",
        "print(f\"Loss: {loss}\")\n",
        "print(f\"Accuracy: {acc}\")\n",
        "\n",
        "y_pred = model.predict(train_x.batch(batch_size))\n",
        "y_pred = tf.math.argmax(\n",
        "    y_pred,\n",
        "    axis=1)\n",
        "y_train_list = list(train_y.as_numpy_iterator())\n",
        "cm = tf.math.confusion_matrix(y_train_list, y_pred).numpy()\n",
        "print(cm)"
      ],
      "metadata": {
        "id": "A8v5B3Zbn36j",
        "colab": {
          "base_uri": "https://localhost:8080/",
          "height": 663
        },
        "outputId": "3701a07c-32db-40fd-97d5-407bfcd7af98"
      },
      "execution_count": null,
      "outputs": [
        {
          "output_type": "display_data",
          "data": {
            "text/plain": [
              "<Figure size 640x480 with 1 Axes>"
            ],
            "image/png": "[encoded data removed]"
          },
          "metadata": {}
        },
        {
          "output_type": "stream",
          "name": "stdout",
          "text": [
            "Model performance on test dataset: \n",
            "Loss: 0.0966191291809082\n",
            "Accuracy: 0.9647887349128723\n",
            "54/54 [==============================] - 4s 35ms/step\n",
            "[[512  18]\n",
            " [ 12 310]]\n",
            "Model performance on train dataset: \n",
            "Loss: 0.029208509251475334\n",
            "Accuracy: 0.9905444979667664\n",
            "192/192 [==============================] - 7s 34ms/step\n",
            "[[1813   20]\n",
            " [   9 1225]]\n"
          ]
        }
      ]
    },
    {
      "cell_type": "code",
      "source": [
        "plt.plot(log.history['accuracy'])\n",
        "plt.plot(log.history['val_accuracy'])\n",
        "plt.xlabel(\"Epochs\")\n",
        "plt.ylabel(\"Accuracy\")\n",
        "plt.legend([\"Train acc.\", \"Val acc.\"])\n",
        "plt.show()"
      ],
      "metadata": {
        "id": "rTqviRQQn6KG",
        "colab": {
          "base_uri": "https://localhost:8080/",
          "height": 449
        },
        "outputId": "d5577e15-75c5-497e-d64f-afefc1b27fed"
      },
      "execution_count": null,
      "outputs": [
        {
          "output_type": "display_data",
          "data": {
            "text/plain": [
              "<Figure size 640x480 with 1 Axes>"
            ],
            "image/png": "[encoded data removed]"
          },
          "metadata": {}
        }
      ]
    },
    {
      "cell_type": "code",
      "source": [
        "from google.colab import drive\n",
        "drive.mount('/content/drive')"
      ],
      "metadata": {
        "colab": {
          "base_uri": "https://localhost:8080/"
        },
        "id": "h7aTTwNcWB3c",
        "outputId": "3539812b-0b9d-41e8-f099-c7cb55286bcc"
      },
      "execution_count": null,
      "outputs": [
        {
          "output_type": "stream",
          "name": "stdout",
          "text": [
            "Mounted at /content/drive\n"
          ]
        }
      ]
    },
    {
      "cell_type": "code",
      "source": [
        "filepath = './drive/MyDrive/anemia-classifier-efficientNetB1.h5'\n",
        "classifier.save_weights(filepath, overwrite=True, save_format=None, options=None)"
      ],
      "metadata": {
        "id": "zTf0dVPwSjgL"
      },
      "execution_count": null,
      "outputs": []
    },
    {
      "cell_type": "code",
      "source": [],
      "metadata": {
        "id": "f_xLXxLbUHTJ"
      },
      "execution_count": null,
      "outputs": []
    }
  ]
}