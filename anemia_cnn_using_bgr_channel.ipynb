{
  "nbformat": 4,
  "nbformat_minor": 0,
  "metadata": {
    "colab": {
      "provenance": [],
      "gpuType": "T4",
      "authorship_tag": "ABX9TyN+7k+l6dT1vIEvLDtcSbEe",
      "include_colab_link": true
    },
    "kernelspec": {
      "name": "python3",
      "display_name": "Python 3"
    },
    "language_info": {
      "name": "python"
    },
    "accelerator": "GPU"
  },
  "cells": [
    {
      "cell_type": "markdown",
      "metadata": {
        "id": "view-in-github",
        "colab_type": "text"
      },
      "source": [
        "<a href=\"https://colab.research.google.com/github/imraunav/anemia-detection/blob/main/anemia_cnn_using_bgr_channel.ipynb\" target=\"_parent\"><img src=\"https://colab.research.google.com/assets/colab-badge.svg\" alt=\"Open In Colab\"/></a>"
      ]
    },
    {
      "cell_type": "code",
      "execution_count": 1,
      "metadata": {
        "colab": {
          "base_uri": "https://localhost:8080/"
        },
        "id": "G3VW-lpNqvG2",
        "outputId": "19ec3dfa-93ac-4e60-969c-fe3303e65b06"
      },
      "outputs": [
        {
          "output_type": "stream",
          "name": "stdout",
          "text": [
            "  % Total    % Received % Xferd  Average Speed   Time    Time     Time  Current\n",
            "                                 Dload  Upload   Total   Spent    Left  Speed\n",
            "100  231M  100  231M    0     0  12.8M      0  0:00:17  0:00:17 --:--:-- 15.1M\n",
            "Archive:  dataset.zip\n",
            "  inflating: Anemia Detection using Palpable Palm Image Datasets from Ghana/Palm.rar  \n"
          ]
        }
      ],
      "source": [
        "!curl -o dataset.zip https://prod-dcd-datasets-cache-zipfiles.s3.eu-west-1.amazonaws.com/ccr8cm22vz-1.zip\n",
        "!unzip dataset.zip\n",
        "!unrar x \"/content/Anemia Detection using Palpable Palm Image Datasets from Ghana/Palm.rar\" > op"
      ]
    },
    {
      "cell_type": "code",
      "source": [
        "import os\n",
        "import cv2\n",
        "import numpy as np\n",
        "from tqdm import tqdm\n",
        "\n",
        "anemic = []\n",
        "non_anemic = []\n",
        "for filename in os.listdir('/content/Palm/'):\n",
        "  if 'Non' in filename:\n",
        "    non_anemic.append(filename)\n",
        "  else:\n",
        "    anemic.append(filename)\n",
        "\n",
        "# print(anemic, \"\\n\",non_anemic)"
      ],
      "metadata": {
        "id": "bj5IYbIwq1ee"
      },
      "execution_count": 28,
      "outputs": []
    },
    {
      "cell_type": "code",
      "source": [
        "def read_img(filepath):\n",
        "  img = cv2.imread(filepath)\n",
        "  img = cv2.resize(img, (227, 227))\n",
        "  # img = cv2.cvtColor(img, cv2.COLOR_BGR2LAB)\n",
        "  l, a, b = img[:, :, 0], img[:, :, 1], img[:, :, 2]\n",
        "  # return b\n",
        "  return img"
      ],
      "metadata": {
        "id": "-dhlGYrkq3uy"
      },
      "execution_count": 29,
      "outputs": []
    },
    {
      "cell_type": "code",
      "source": [
        "dataset = []\n",
        "labels = []\n",
        "path = '/content/Palm/'\n",
        "for filename in tqdm(anemic):\n",
        "  labels.append(0)\n",
        "  img = read_img(os.path.join(path, filename))\n",
        "  dataset.append(img)\n",
        "for filename in tqdm(non_anemic):\n",
        "  labels.append(1)\n",
        "  img = read_img(os.path.join(path, filename))\n",
        "  dataset.append(img)"
      ],
      "metadata": {
        "colab": {
          "base_uri": "https://localhost:8080/"
        },
        "id": "wPZWKcQI46_J",
        "outputId": "b9424f55-2d15-4959-d478-8c1215990a61"
      },
      "execution_count": 30,
      "outputs": [
        {
          "output_type": "stream",
          "name": "stderr",
          "text": [
            "100%|██████████| 2562/2562 [00:05<00:00, 447.08it/s]\n",
            "100%|██████████| 1698/1698 [00:03<00:00, 496.43it/s]\n"
          ]
        }
      ]
    },
    {
      "cell_type": "code",
      "source": [
        "dataset = np.array(dataset)\n",
        "labels = np.array(labels)"
      ],
      "metadata": {
        "id": "U3L3ZfMd49kq"
      },
      "execution_count": 31,
      "outputs": []
    },
    {
      "cell_type": "code",
      "source": [
        "# dataset = np.expand_dims(dataset, axis=3)"
      ],
      "metadata": {
        "id": "i4ZQ59-p4_fX"
      },
      "execution_count": 32,
      "outputs": []
    },
    {
      "cell_type": "markdown",
      "source": [
        "Model definition"
      ],
      "metadata": {
        "id": "baN90wIQ5EAA"
      }
    },
    {
      "cell_type": "code",
      "source": [
        "from tensorflow import keras\n",
        "\n",
        "def build_alexnet(in_shape, classes):\n",
        "  model=keras.models.Sequential([\n",
        "    keras.Input(shape=in_shape),\n",
        "    keras.layers.Conv2D(filters=128, kernel_size=(11,11), strides=(4,4), activation='relu'),\n",
        "    keras.layers.BatchNormalization(),\n",
        "    keras.layers.MaxPool2D(pool_size=(2,2)),\n",
        "    keras.layers.Conv2D(filters=256, kernel_size=(5,5), strides=(1,1), activation='relu', padding=\"same\"),\n",
        "    keras.layers.BatchNormalization(),\n",
        "    keras.layers.MaxPool2D(pool_size=(3,3)),\n",
        "    keras.layers.Conv2D(filters=256, kernel_size=(3,3), strides=(1,1), activation='relu', padding=\"same\"),\n",
        "    keras.layers.BatchNormalization(),\n",
        "    keras.layers.Conv2D(filters=256, kernel_size=(1,1), strides=(1,1), activation='relu', padding=\"same\"),\n",
        "    keras.layers.BatchNormalization(),\n",
        "    keras.layers.Conv2D(filters=256, kernel_size=(1,1), strides=(1,1), activation='relu', padding=\"same\"),\n",
        "    keras.layers.BatchNormalization(),\n",
        "    keras.layers.MaxPool2D(pool_size=(2,2)),\n",
        "    keras.layers.Flatten(),\n",
        "    keras.layers.Dense(1024,activation='relu'),\n",
        "    keras.layers.Dropout(0.5),\n",
        "    keras.layers.Dense(1024,activation='relu'),\n",
        "    keras.layers.Dropout(0.5),\n",
        "    keras.layers.Dense(classes,activation='softmax')\n",
        "])\n",
        "  return model"
      ],
      "metadata": {
        "id": "lW_5UObD5B4L"
      },
      "execution_count": 57,
      "outputs": []
    },
    {
      "cell_type": "code",
      "source": [
        "alexnet = build_alexnet((227, 227, 3), classes=2)"
      ],
      "metadata": {
        "id": "BU8YbZgv5Tze"
      },
      "execution_count": 58,
      "outputs": []
    },
    {
      "cell_type": "code",
      "source": [
        "alexnet.compile(\n",
        "    loss='sparse_categorical_crossentropy',\n",
        "    optimizer='adam',\n",
        "    metrics=['accuracy']\n",
        ")"
      ],
      "metadata": {
        "id": "-imIlONx5VtO"
      },
      "execution_count": 59,
      "outputs": []
    },
    {
      "cell_type": "code",
      "source": [
        "alexnet.summary()"
      ],
      "metadata": {
        "colab": {
          "base_uri": "https://localhost:8080/"
        },
        "id": "H5XUNQwkOeVH",
        "outputId": "8122f202-655a-4f86-9ed9-9f803529ae56"
      },
      "execution_count": 60,
      "outputs": [
        {
          "output_type": "stream",
          "name": "stdout",
          "text": [
            "Model: \"sequential_3\"\n",
            "_________________________________________________________________\n",
            " Layer (type)                Output Shape              Param #   \n",
            "=================================================================\n",
            " conv2d_15 (Conv2D)          (None, 55, 55, 128)       46592     \n",
            "                                                                 \n",
            " batch_normalization_15 (Ba  (None, 55, 55, 128)       512       \n",
            " tchNormalization)                                               \n",
            "                                                                 \n",
            " max_pooling2d_9 (MaxPoolin  (None, 27, 27, 128)       0         \n",
            " g2D)                                                            \n",
            "                                                                 \n",
            " conv2d_16 (Conv2D)          (None, 27, 27, 256)       819456    \n",
            "                                                                 \n",
            " batch_normalization_16 (Ba  (None, 27, 27, 256)       1024      \n",
            " tchNormalization)                                               \n",
            "                                                                 \n",
            " max_pooling2d_10 (MaxPooli  (None, 9, 9, 256)         0         \n",
            " ng2D)                                                           \n",
            "                                                                 \n",
            " conv2d_17 (Conv2D)          (None, 9, 9, 256)         590080    \n",
            "                                                                 \n",
            " batch_normalization_17 (Ba  (None, 9, 9, 256)         1024      \n",
            " tchNormalization)                                               \n",
            "                                                                 \n",
            " conv2d_18 (Conv2D)          (None, 9, 9, 256)         65792     \n",
            "                                                                 \n",
            " batch_normalization_18 (Ba  (None, 9, 9, 256)         1024      \n",
            " tchNormalization)                                               \n",
            "                                                                 \n",
            " conv2d_19 (Conv2D)          (None, 9, 9, 256)         65792     \n",
            "                                                                 \n",
            " batch_normalization_19 (Ba  (None, 9, 9, 256)         1024      \n",
            " tchNormalization)                                               \n",
            "                                                                 \n",
            " max_pooling2d_11 (MaxPooli  (None, 4, 4, 256)         0         \n",
            " ng2D)                                                           \n",
            "                                                                 \n",
            " flatten_3 (Flatten)         (None, 4096)              0         \n",
            "                                                                 \n",
            " dense_9 (Dense)             (None, 1024)              4195328   \n",
            "                                                                 \n",
            " dropout_6 (Dropout)         (None, 1024)              0         \n",
            "                                                                 \n",
            " dense_10 (Dense)            (None, 1024)              1049600   \n",
            "                                                                 \n",
            " dropout_7 (Dropout)         (None, 1024)              0         \n",
            "                                                                 \n",
            " dense_11 (Dense)            (None, 2)                 2050      \n",
            "                                                                 \n",
            "=================================================================\n",
            "Total params: 6839298 (26.09 MB)\n",
            "Trainable params: 6836994 (26.08 MB)\n",
            "Non-trainable params: 2304 (9.00 KB)\n",
            "_________________________________________________________________\n"
          ]
        }
      ]
    },
    {
      "cell_type": "markdown",
      "source": [
        "Preparing dataset objects for network\n"
      ],
      "metadata": {
        "id": "gwCNOKPm5nV1"
      }
    },
    {
      "cell_type": "code",
      "source": [
        "from sklearn.model_selection import train_test_split\n",
        "import tensorflow as tf\n",
        "\n",
        "train_x, test_x, train_y, test_y = train_test_split(dataset, labels, test_size=0.2, random_state=2)\n",
        "train_x, val_x, train_y, val_y = train_test_split(train_x, train_y, test_size=0.1, random_state=5)\n",
        "print(train_x.shape, test_x.shape, val_x.shape)\n",
        "print(train_y.shape, test_y.shape, val_y.shape)\n",
        "\n",
        "train_x = tf.data.Dataset.from_tensor_slices(train_x)\n",
        "test_x = tf.data.Dataset.from_tensor_slices(test_x)\n",
        "val_x = tf.data.Dataset.from_tensor_slices(val_x)\n",
        "\n",
        "train_y = tf.data.Dataset.from_tensor_slices(train_y)\n",
        "test_y = tf.data.Dataset.from_tensor_slices(test_y)\n",
        "val_y = tf.data.Dataset.from_tensor_slices(val_y)\n",
        "\n",
        "train_ds = tf.data.Dataset.zip((train_x, train_y))\n",
        "test_ds = tf.data.Dataset.zip((test_x, test_y))\n",
        "val_ds = tf.data.Dataset.zip((val_x, val_y))\n",
        "\n"
      ],
      "metadata": {
        "id": "EZG0utGc5iT0",
        "colab": {
          "base_uri": "https://localhost:8080/"
        },
        "outputId": "1032cb93-adf7-4a0d-9e18-769fde8d3ec3"
      },
      "execution_count": 61,
      "outputs": [
        {
          "output_type": "stream",
          "name": "stdout",
          "text": [
            "(3067, 227, 227, 3) (852, 227, 227, 3) (341, 227, 227, 3)\n",
            "(3067,) (852,) (341,)\n"
          ]
        }
      ]
    },
    {
      "cell_type": "code",
      "source": [
        "model_callbacks = [keras.callbacks.EarlyStopping(\n",
        "    monitor=\"val_loss\",\n",
        "    min_delta=0.01,\n",
        "    patience=3,\n",
        "    verbose=1,\n",
        "    mode=\"auto\",\n",
        "    restore_best_weights=True,\n",
        "    start_from_epoch=40,\n",
        ")]\n",
        "batch_size = 16\n",
        "log = alexnet.fit(train_ds.batch(batch_size), epochs=100, verbose=2, validation_data=val_ds.batch(1),\n",
        "                  callbacks=model_callbacks)"
      ],
      "metadata": {
        "colab": {
          "base_uri": "https://localhost:8080/"
        },
        "id": "E_BTgTjO5tfr",
        "outputId": "43111b0a-1437-41ec-f048-0e5c1be34dd8"
      },
      "execution_count": 62,
      "outputs": [
        {
          "output_type": "stream",
          "name": "stdout",
          "text": [
            "Epoch 1/100\n",
            "192/192 - 9s - loss: 2.0492 - accuracy: 0.5471 - val_loss: 2.1810 - val_accuracy: 0.4780 - 9s/epoch - 45ms/step\n",
            "Epoch 2/100\n",
            "192/192 - 6s - loss: 0.8039 - accuracy: 0.5830 - val_loss: 0.7098 - val_accuracy: 0.5836 - 6s/epoch - 29ms/step\n",
            "Epoch 3/100\n",
            "192/192 - 4s - loss: 0.7019 - accuracy: 0.5888 - val_loss: 0.6619 - val_accuracy: 0.6452 - 4s/epoch - 20ms/step\n",
            "Epoch 4/100\n",
            "192/192 - 4s - loss: 0.6611 - accuracy: 0.6306 - val_loss: 0.6732 - val_accuracy: 0.6217 - 4s/epoch - 22ms/step\n",
            "Epoch 5/100\n",
            "192/192 - 4s - loss: 0.6463 - accuracy: 0.6322 - val_loss: 0.6795 - val_accuracy: 0.6305 - 4s/epoch - 20ms/step\n",
            "Epoch 6/100\n",
            "192/192 - 4s - loss: 0.6309 - accuracy: 0.6541 - val_loss: 0.7171 - val_accuracy: 0.6070 - 4s/epoch - 22ms/step\n",
            "Epoch 7/100\n",
            "192/192 - 4s - loss: 0.6231 - accuracy: 0.6580 - val_loss: 0.6529 - val_accuracy: 0.6334 - 4s/epoch - 22ms/step\n",
            "Epoch 8/100\n",
            "192/192 - 4s - loss: 0.6279 - accuracy: 0.6521 - val_loss: 0.6246 - val_accuracy: 0.6452 - 4s/epoch - 23ms/step\n",
            "Epoch 9/100\n",
            "192/192 - 4s - loss: 0.6201 - accuracy: 0.6616 - val_loss: 0.6460 - val_accuracy: 0.6628 - 4s/epoch - 20ms/step\n",
            "Epoch 10/100\n",
            "192/192 - 4s - loss: 0.5988 - accuracy: 0.6739 - val_loss: 0.6241 - val_accuracy: 0.6569 - 4s/epoch - 22ms/step\n",
            "Epoch 11/100\n",
            "192/192 - 5s - loss: 0.5846 - accuracy: 0.6841 - val_loss: 0.9092 - val_accuracy: 0.6276 - 5s/epoch - 24ms/step\n",
            "Epoch 12/100\n",
            "192/192 - 4s - loss: 0.5908 - accuracy: 0.6834 - val_loss: 0.6622 - val_accuracy: 0.6862 - 4s/epoch - 20ms/step\n",
            "Epoch 13/100\n",
            "192/192 - 4s - loss: 0.5832 - accuracy: 0.6785 - val_loss: 0.7084 - val_accuracy: 0.6628 - 4s/epoch - 20ms/step\n",
            "Epoch 14/100\n",
            "192/192 - 4s - loss: 0.5704 - accuracy: 0.7026 - val_loss: 0.6514 - val_accuracy: 0.6276 - 4s/epoch - 22ms/step\n",
            "Epoch 15/100\n",
            "192/192 - 4s - loss: 0.6016 - accuracy: 0.6769 - val_loss: 0.6273 - val_accuracy: 0.6217 - 4s/epoch - 20ms/step\n",
            "Epoch 16/100\n",
            "192/192 - 4s - loss: 0.5653 - accuracy: 0.7059 - val_loss: 0.6647 - val_accuracy: 0.6334 - 4s/epoch - 20ms/step\n",
            "Epoch 17/100\n",
            "192/192 - 6s - loss: 0.5596 - accuracy: 0.7075 - val_loss: 0.6975 - val_accuracy: 0.6422 - 6s/epoch - 30ms/step\n",
            "Epoch 18/100\n",
            "192/192 - 4s - loss: 0.5312 - accuracy: 0.7261 - val_loss: 0.7635 - val_accuracy: 0.6100 - 4s/epoch - 20ms/step\n",
            "Epoch 19/100\n",
            "192/192 - 4s - loss: 0.4984 - accuracy: 0.7434 - val_loss: 0.6383 - val_accuracy: 0.6862 - 4s/epoch - 22ms/step\n",
            "Epoch 20/100\n",
            "192/192 - 4s - loss: 0.5229 - accuracy: 0.7444 - val_loss: 0.5681 - val_accuracy: 0.7126 - 4s/epoch - 20ms/step\n",
            "Epoch 21/100\n",
            "192/192 - 4s - loss: 0.4696 - accuracy: 0.7587 - val_loss: 0.5428 - val_accuracy: 0.6833 - 4s/epoch - 20ms/step\n",
            "Epoch 22/100\n",
            "192/192 - 4s - loss: 0.4356 - accuracy: 0.7855 - val_loss: 0.9181 - val_accuracy: 0.7038 - 4s/epoch - 22ms/step\n",
            "Epoch 23/100\n",
            "192/192 - 4s - loss: 0.4363 - accuracy: 0.7822 - val_loss: 0.5416 - val_accuracy: 0.7214 - 4s/epoch - 20ms/step\n",
            "Epoch 24/100\n",
            "192/192 - 4s - loss: 0.3839 - accuracy: 0.8093 - val_loss: 0.7079 - val_accuracy: 0.6657 - 4s/epoch - 22ms/step\n",
            "Epoch 25/100\n",
            "192/192 - 4s - loss: 0.3959 - accuracy: 0.8155 - val_loss: 0.5803 - val_accuracy: 0.7566 - 4s/epoch - 22ms/step\n",
            "Epoch 26/100\n",
            "192/192 - 4s - loss: 0.3536 - accuracy: 0.8428 - val_loss: 0.7923 - val_accuracy: 0.7214 - 4s/epoch - 20ms/step\n",
            "Epoch 27/100\n",
            "192/192 - 4s - loss: 0.3563 - accuracy: 0.8481 - val_loss: 0.7239 - val_accuracy: 0.6774 - 4s/epoch - 20ms/step\n",
            "Epoch 28/100\n",
            "192/192 - 4s - loss: 0.3136 - accuracy: 0.8699 - val_loss: 0.9054 - val_accuracy: 0.7185 - 4s/epoch - 22ms/step\n",
            "Epoch 29/100\n",
            "192/192 - 4s - loss: 0.2677 - accuracy: 0.8829 - val_loss: 0.8317 - val_accuracy: 0.7654 - 4s/epoch - 20ms/step\n",
            "Epoch 30/100\n",
            "192/192 - 4s - loss: 0.2497 - accuracy: 0.8970 - val_loss: 0.5960 - val_accuracy: 0.7273 - 4s/epoch - 20ms/step\n",
            "Epoch 31/100\n",
            "192/192 - 4s - loss: 0.2430 - accuracy: 0.8999 - val_loss: 0.5772 - val_accuracy: 0.7654 - 4s/epoch - 22ms/step\n",
            "Epoch 32/100\n",
            "192/192 - 4s - loss: 0.2074 - accuracy: 0.9146 - val_loss: 0.6618 - val_accuracy: 0.7889 - 4s/epoch - 20ms/step\n",
            "Epoch 33/100\n",
            "192/192 - 4s - loss: 0.1824 - accuracy: 0.9263 - val_loss: 0.8735 - val_accuracy: 0.7830 - 4s/epoch - 20ms/step\n",
            "Epoch 34/100\n",
            "192/192 - 6s - loss: 0.2396 - accuracy: 0.9074 - val_loss: 0.7723 - val_accuracy: 0.7214 - 6s/epoch - 32ms/step\n",
            "Epoch 35/100\n",
            "192/192 - 4s - loss: 0.1798 - accuracy: 0.9257 - val_loss: 0.4829 - val_accuracy: 0.8739 - 4s/epoch - 22ms/step\n",
            "Epoch 36/100\n",
            "192/192 - 4s - loss: 0.1415 - accuracy: 0.9452 - val_loss: 1.3407 - val_accuracy: 0.7654 - 4s/epoch - 20ms/step\n",
            "Epoch 37/100\n",
            "192/192 - 4s - loss: 0.1353 - accuracy: 0.9491 - val_loss: 0.5654 - val_accuracy: 0.8504 - 4s/epoch - 22ms/step\n",
            "Epoch 38/100\n",
            "192/192 - 4s - loss: 0.1739 - accuracy: 0.9384 - val_loss: 0.5740 - val_accuracy: 0.8358 - 4s/epoch - 20ms/step\n",
            "Epoch 39/100\n",
            "192/192 - 4s - loss: 0.1441 - accuracy: 0.9504 - val_loss: 0.6306 - val_accuracy: 0.7889 - 4s/epoch - 20ms/step\n",
            "Epoch 40/100\n",
            "192/192 - 4s - loss: 0.1289 - accuracy: 0.9527 - val_loss: 2.3129 - val_accuracy: 0.7331 - 4s/epoch - 22ms/step\n",
            "Epoch 41/100\n",
            "192/192 - 4s - loss: 0.1571 - accuracy: 0.9442 - val_loss: 0.5651 - val_accuracy: 0.7947 - 4s/epoch - 20ms/step\n",
            "Epoch 42/100\n",
            "192/192 - 4s - loss: 0.1175 - accuracy: 0.9602 - val_loss: 0.7910 - val_accuracy: 0.8123 - 4s/epoch - 19ms/step\n",
            "Epoch 43/100\n",
            "192/192 - 4s - loss: 0.1134 - accuracy: 0.9648 - val_loss: 0.8049 - val_accuracy: 0.8416 - 4s/epoch - 19ms/step\n",
            "Epoch 44/100\n",
            "Restoring model weights from the end of the best epoch: 41.\n",
            "192/192 - 4s - loss: 0.1136 - accuracy: 0.9661 - val_loss: 0.8295 - val_accuracy: 0.8182 - 4s/epoch - 23ms/step\n",
            "Epoch 44: early stopping\n"
          ]
        }
      ]
    },
    {
      "cell_type": "code",
      "source": [
        "from matplotlib import pyplot as plt\n",
        "plt.plot(log.history['loss'])\n",
        "plt.plot(log.history['val_loss'])\n",
        "plt.xlabel(\"Epochs\")\n",
        "plt.ylabel(\"Loss\")\n",
        "plt.legend([\"Train loss\", \"Val loss\"])\n",
        "plt.show()\n",
        "\n",
        "loss, acc = alexnet.evaluate(train_ds.batch(batch_size), verbose=0)\n",
        "print(\"Model performance on train dataset: \")\n",
        "print(f\"Loss: {loss}\")\n",
        "print(f\"Accuracy: {acc}\")\n",
        "\n",
        "y_pred = alexnet.predict(train_x.batch(batch_size))\n",
        "y_pred = tf.math.argmax(\n",
        "    y_pred,\n",
        "    axis=1)\n",
        "y_train_list = list(train_y.as_numpy_iterator())\n",
        "cm = tf.math.confusion_matrix(y_train_list, y_pred).numpy()\n",
        "print(cm)\n",
        "\n",
        "loss, acc = alexnet.evaluate(test_ds.batch(batch_size), verbose=0)\n",
        "print(\"Model performance on test dataset: \")\n",
        "print(f\"Loss: {loss}\")\n",
        "print(f\"Accuracy: {acc}\")\n",
        "\n",
        "y_pred = alexnet.predict(test_x.batch(batch_size))\n",
        "y_pred = tf.math.argmax(\n",
        "    y_pred,\n",
        "    axis=1)\n",
        "y_test_list = list(test_y.as_numpy_iterator())\n",
        "cm = tf.math.confusion_matrix(y_test_list, y_pred).numpy()\n",
        "print(cm)"
      ],
      "metadata": {
        "colab": {
          "base_uri": "https://localhost:8080/",
          "height": 663
        },
        "id": "yFJgho_r5veT",
        "outputId": "e5e39bb1-5167-4d43-ac46-7280a04d1e12"
      },
      "execution_count": 63,
      "outputs": [
        {
          "output_type": "display_data",
          "data": {
            "text/plain": [
              "<Figure size 640x480 with 1 Axes>"
            ],
            "image/png": "[encoded data removed]"
          },
          "metadata": {}
        },
        {
          "output_type": "stream",
          "name": "stdout",
          "text": [
            "Model performance on train dataset: \n",
            "Loss: 0.3135278522968292\n",
            "Accuracy: 0.8966416716575623\n",
            "192/192 [==============================] - 2s 6ms/step\n",
            "[[1653  180]\n",
            " [ 137 1097]]\n",
            "Model performance on test dataset: \n",
            "Loss: 0.6575047373771667\n",
            "Accuracy: 0.7981220483779907\n",
            "54/54 [==============================] - 0s 7ms/step\n",
            "[[430 100]\n",
            " [ 72 250]]\n"
          ]
        }
      ]
    },
    {
      "cell_type": "code",
      "source": [],
      "metadata": {
        "id": "s5vQEOTq5xzt"
      },
      "execution_count": 42,
      "outputs": []
    },
    {
      "cell_type": "markdown",
      "source": [
        "- These parameters worked best for the model\n"
      ],
      "metadata": {
        "id": "RoDhsq0x52ao"
      }
    },
    {
      "cell_type": "code",
      "source": [
        "from google.colab import drive"
      ],
      "metadata": {
        "id": "kLhH9IJ653Ft"
      },
      "execution_count": 22,
      "outputs": []
    },
    {
      "cell_type": "code",
      "source": [
        "drive.mount('/content/drive')"
      ],
      "metadata": {
        "colab": {
          "base_uri": "https://localhost:8080/"
        },
        "id": "wy3jeDR854_P",
        "outputId": "5be06440-7217-4a3e-89bb-39531f9afae9"
      },
      "execution_count": 23,
      "outputs": [
        {
          "output_type": "stream",
          "name": "stdout",
          "text": [
            "Mounted at /content/drive\n"
          ]
        }
      ]
    },
    {
      "cell_type": "code",
      "source": [
        "# alexnet.save(\"/content/drive/MyDrive/bgr-channel-alexnet.h5\") # this was just using bgr channels and the performance was surprising. Image dim-250"
      ],
      "metadata": {
        "id": "1VW4bIK156gd"
      },
      "execution_count": 24,
      "outputs": []
    },
    {
      "cell_type": "code",
      "source": [
        "# alexnet.save(\"/content/drive/MyDrive/bgr-overfit-surprizing-alexnet.h5\") # this was an overfit model but the accuracy was amazing on both test and train data. Image dim-250"
      ],
      "metadata": {
        "id": "jVZopyAS6ljA"
      },
      "execution_count": 25,
      "outputs": []
    },
    {
      "cell_type": "code",
      "source": [
        "# alexnet.save(\"/content/drive/MyDrive/bgr-good-0.83-alexnet.h5\") # this was an proper trained model and the accuracy is good. Image dim-400(couldn't do 500 due to RAM limit)"
      ],
      "metadata": {
        "id": "j_vxpik-Bs6H"
      },
      "execution_count": 26,
      "outputs": []
    }
  ]
}