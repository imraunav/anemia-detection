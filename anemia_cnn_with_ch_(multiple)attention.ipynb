{
  "nbformat": 4,
  "nbformat_minor": 0,
  "metadata": {
    "colab": {
      "provenance": [],
      "gpuType": "T4",
      "authorship_tag": "ABX9TyO16IcN9B0J62IoB2FsyRnJ",
      "include_colab_link": true
    },
    "kernelspec": {
      "name": "python3",
      "display_name": "Python 3"
    },
    "language_info": {
      "name": "python"
    },
    "accelerator": "GPU"
  },
  "cells": [
    {
      "cell_type": "markdown",
      "metadata": {
        "id": "view-in-github",
        "colab_type": "text"
      },
      "source": [
        "<a href=\"https://colab.research.google.com/github/imraunav/anemia-detection/blob/main/anemia_cnn_with_ch_(multiple)attention.ipynb\" target=\"_parent\"><img src=\"https://colab.research.google.com/assets/colab-badge.svg\" alt=\"Open In Colab\"/></a>"
      ]
    },
    {
      "cell_type": "code",
      "execution_count": 1,
      "metadata": {
        "colab": {
          "base_uri": "https://localhost:8080/"
        },
        "id": "1urB7iias1vE",
        "outputId": "207767d1-4b28-49f9-fc9e-3c40bf4a8ef0"
      },
      "outputs": [
        {
          "output_type": "stream",
          "name": "stdout",
          "text": [
            "  % Total    % Received % Xferd  Average Speed   Time    Time     Time  Current\n",
            "                                 Dload  Upload   Total   Spent    Left  Speed\n",
            "100  231M  100  231M    0     0  28.4M      0  0:00:08  0:00:08 --:--:-- 34.1M\n",
            "Archive:  dataset.zip\n",
            "  inflating: Anemia Detection using Palpable Palm Image Datasets from Ghana/Palm.rar  \n"
          ]
        }
      ],
      "source": [
        "!curl -o dataset.zip https://prod-dcd-datasets-cache-zipfiles.s3.eu-west-1.amazonaws.com/ccr8cm22vz-1.zip\n",
        "!unzip dataset.zip\n",
        "!unrar x \"/content/Anemia Detection using Palpable Palm Image Datasets from Ghana/Palm.rar\" > op"
      ]
    },
    {
      "cell_type": "code",
      "source": [
        "import os\n",
        "import cv2\n",
        "import numpy as np\n",
        "from tqdm import tqdm\n",
        "\n",
        "anemic = []\n",
        "non_anemic = []\n",
        "for filename in os.listdir('/content/Palm/'):\n",
        "  if 'Non' in filename:\n",
        "    non_anemic.append(filename)\n",
        "  else:\n",
        "    anemic.append(filename)"
      ],
      "metadata": {
        "id": "93pChsH7s4vd"
      },
      "execution_count": 2,
      "outputs": []
    },
    {
      "cell_type": "code",
      "source": [
        "def read_img(filepath):\n",
        "  img = cv2.imread(filepath)\n",
        "  img = cv2.resize(img, (227, 227))\n",
        "  # img = cv2.cvtColor(img, cv2.COLOR_BGR2LAB)\n",
        "  # l, a, b = img[:, :, 0], img[:, :, 1], img[:, :, 2]\n",
        "  # return b\n",
        "  return img"
      ],
      "metadata": {
        "id": "Pf9T_nrhs5g9"
      },
      "execution_count": 3,
      "outputs": []
    },
    {
      "cell_type": "code",
      "source": [
        "dataset = []\n",
        "labels = []\n",
        "path = '/content/Palm/'\n",
        "for filename in tqdm(anemic):\n",
        "  labels.append(0)\n",
        "  img = read_img(os.path.join(path, filename))\n",
        "  dataset.append(img)\n",
        "for filename in tqdm(non_anemic):\n",
        "  labels.append(1)\n",
        "  img = read_img(os.path.join(path, filename))\n",
        "  dataset.append(img)\n",
        "dataset = np.array(dataset)\n",
        "labels = np.array(labels)"
      ],
      "metadata": {
        "colab": {
          "base_uri": "https://localhost:8080/"
        },
        "id": "M0kNCzUes8hT",
        "outputId": "b5db1348-7d82-42d9-f5b9-71507184d184"
      },
      "execution_count": 4,
      "outputs": [
        {
          "output_type": "stream",
          "name": "stderr",
          "text": [
            "100%|██████████| 2562/2562 [00:04<00:00, 568.67it/s]\n",
            "100%|██████████| 1698/1698 [00:03<00:00, 520.22it/s]\n"
          ]
        }
      ]
    },
    {
      "cell_type": "code",
      "source": [
        "from sklearn.model_selection import train_test_split\n",
        "import tensorflow as tf\n",
        "\n",
        "train_x, test_x, train_y, test_y = train_test_split(dataset, labels, test_size=0.2, random_state=2)\n",
        "train_x, val_x, train_y, val_y = train_test_split(train_x, train_y, test_size=0.1, random_state=5)\n",
        "print(train_x.shape, test_x.shape, val_x.shape)\n",
        "print(train_y.shape, test_y.shape, val_y.shape)\n",
        "\n",
        "train_x = tf.data.Dataset.from_tensor_slices(train_x)\n",
        "test_x = tf.data.Dataset.from_tensor_slices(test_x)\n",
        "val_x = tf.data.Dataset.from_tensor_slices(val_x)\n",
        "\n",
        "train_y = tf.data.Dataset.from_tensor_slices(train_y)\n",
        "test_y = tf.data.Dataset.from_tensor_slices(test_y)\n",
        "val_y = tf.data.Dataset.from_tensor_slices(val_y)\n",
        "\n",
        "train_ds = tf.data.Dataset.zip((train_x, train_y))\n",
        "test_ds = tf.data.Dataset.zip((test_x, test_y))\n",
        "val_ds = tf.data.Dataset.zip((val_x, val_y))"
      ],
      "metadata": {
        "id": "zgJvPKaXs-hy",
        "colab": {
          "base_uri": "https://localhost:8080/"
        },
        "outputId": "017a337e-29fc-48af-d1ad-2439b1b584e8"
      },
      "execution_count": 5,
      "outputs": [
        {
          "output_type": "stream",
          "name": "stdout",
          "text": [
            "(3067, 227, 227, 3) (852, 227, 227, 3) (341, 227, 227, 3)\n",
            "(3067,) (852,) (341,)\n"
          ]
        }
      ]
    },
    {
      "cell_type": "code",
      "source": [
        "from tensorflow import keras"
      ],
      "metadata": {
        "id": "3zp8YpjhtARc"
      },
      "execution_count": 6,
      "outputs": []
    },
    {
      "cell_type": "code",
      "source": [
        "def build_alexnet(in_shape, classes):\n",
        "  '''\n",
        "  - Added PReLU instead of LeakyReLU\n",
        "  - Trying to incorporate spatial attention system after the last layer to improve results\n",
        "  '''\n",
        "  inputs = keras.Input(shape=(in_shape))\n",
        "  inputs = keras.layers.Rescaling(scale=1/255)(inputs)\n",
        "\n",
        "  c1 = keras.layers.Conv2D(filters=96, kernel_size=(11,11), strides=(4,4), input_shape=in_shape)(inputs)\n",
        "  c1 = keras.layers.PReLU()(c1)\n",
        "  c1 = keras.layers.BatchNormalization()(c1)\n",
        "  c1 = keras.layers.MaxPool2D(pool_size=(3,3), strides=(2,2))(c1)\n",
        "\n",
        "  c2 = keras.layers.Conv2D(filters=256, kernel_size=(5,5), strides=(1,1), padding=\"same\")(c1)\n",
        "  c2 = keras.layers.PReLU()(c2)\n",
        "  c2 = keras.layers.BatchNormalization()(c2)\n",
        "  c2 = keras.layers.MaxPool2D(pool_size=(3,3), strides=(2,2))(c2)\n",
        "\n",
        "  c3 = keras.layers.Conv2D(filters=384, kernel_size=(3,3), strides=(1,1), padding=\"same\")(c2)\n",
        "  c3 = keras.layers.PReLU()(c3)\n",
        "  c3 = keras.layers.BatchNormalization()(c3)\n",
        "\n",
        "  c4 = keras.layers.Conv2D(filters=384, kernel_size=(1,1), strides=(1,1), padding=\"same\")(c3)\n",
        "  c4 = keras.layers.PReLU()(c4)\n",
        "  c4 = keras.layers.BatchNormalization()(c4)\n",
        "\n",
        "  # adding a skip connection\n",
        "  # c4 = keras.layers.Add()([c3, c4])\n",
        "\n",
        "  # attention module\n",
        "  ch_attn1 = keras.layers.GlobalMaxPooling2D()(c4)\n",
        "  ch_attn1 = keras.layers.Flatten()(ch_attn1)\n",
        "  ch_attn1 = keras.layers.Dense(512, kernel_regularizer='l1_l2', activation='sigmoid')(ch_attn1)\n",
        "  ch_attn1 = keras.layers.Dense(384, kernel_regularizer='l1_l2', activation='sigmoid')(ch_attn1)\n",
        "  c4 = keras.layers.Multiply()([c4, ch_attn1]) # across channel attention\n",
        "\n",
        "\n",
        "  c5 = keras.layers.Conv2D(filters=256, kernel_size=(1,1), strides=(1,1), padding=\"same\")(c4)\n",
        "  c5 = keras.layers.PReLU()(c5)\n",
        "  c5 = keras.layers.BatchNormalization()(c5)\n",
        "  c5 = keras.layers.MaxPool2D(pool_size=(2,2))(c5)\n",
        "\n",
        "  # spatial attention is not making as much improvement as channel-attention is, hence permuting on channel-attention for now\n",
        "  # sp_attn = keras.layers.Conv2D(filters=1, kernel_size=(2, 2), strides=(1,1), padding=\"same\")(c5)\n",
        "  # sp_attn = keras.layers.Flatten()(sp_attn)\n",
        "  # sp_attn = keras.layers.Dense(128, kernel_regularizer='l1_l2', activation='tanh')(sp_attn) # add regularizer if overfitting\n",
        "  # sp_attn = keras.layers.Dense(6*6, kernel_regularizer='l1_l2', activation='sigmoid')(sp_attn) # add regularizer if overfitting\n",
        "  # sp_attn = keras.layers.Reshape((6,6,1))(sp_attn)\n",
        "  # sp_attn = keras.layers.Concatenate()([sp_attn for _ in range(256)]) # stacking same feature map 256 times for multiplication consistancy\n",
        "  # c5 = keras.layers.Multiply()([c5, sp_attn]) # across space attention\n",
        "\n",
        "  #attention module\n",
        "  ch_attn = keras.layers.GlobalMaxPooling2D()(c5)\n",
        "  ch_attn = keras.layers.Flatten()(ch_attn)\n",
        "  ch_attn = keras.layers.Dense(512, kernel_regularizer='l1_l2', activation='sigmoid')(ch_attn)\n",
        "  ch_attn = keras.layers.Dense(256, kernel_regularizer='l1_l2', activation='sigmoid')(ch_attn)\n",
        "  c5 = keras.layers.Multiply()([c5, ch_attn]) # across channel attention\n",
        "\n",
        "  f1 = keras.layers.Flatten()(c5)\n",
        "\n",
        "  l1 = keras.layers.Dense(1024,activation='relu')(f1)\n",
        "  l1 = keras.layers.Dropout(0.5)(l1)\n",
        "  l2 = keras.layers.Dense(1024,activation='relu')(l1)\n",
        "  l2 = keras.layers.Dropout(0.5)(l2)\n",
        "  l3 = keras.layers.Dense(classes,activation='softmax')(l2)\n",
        "\n",
        "  model = keras.Model(inputs=[inputs], outputs=[l3])\n",
        "  return model"
      ],
      "metadata": {
        "id": "bYHOXKQmtCFa"
      },
      "execution_count": 7,
      "outputs": []
    },
    {
      "cell_type": "code",
      "source": [
        "alexnet = build_alexnet((227, 227, 3), classes=2)\n",
        "alexnet.summary()"
      ],
      "metadata": {
        "colab": {
          "base_uri": "https://localhost:8080/"
        },
        "id": "y_D6qHqVtNZ5",
        "outputId": "96b313a2-dda8-4afb-dd78-3cb6106260cb"
      },
      "execution_count": 8,
      "outputs": [
        {
          "output_type": "stream",
          "name": "stdout",
          "text": [
            "Model: \"model\"\n",
            "__________________________________________________________________________________________________\n",
            " Layer (type)                Output Shape                 Param #   Connected to                  \n",
            "==================================================================================================\n",
            " input_2 (InputLayer)        [(None, 227, 227, 3)]        0         []                            \n",
            "                                                                                                  \n",
            " conv2d (Conv2D)             (None, 55, 55, 96)           34944     ['input_2[0][0]']             \n",
            "                                                                                                  \n",
            " p_re_lu (PReLU)             (None, 55, 55, 96)           290400    ['conv2d[1][0]']              \n",
            "                                                                                                  \n",
            " batch_normalization (Batch  (None, 55, 55, 96)           384       ['p_re_lu[1][0]']             \n",
            " Normalization)                                                                                   \n",
            "                                                                                                  \n",
            " max_pooling2d (MaxPooling2  (None, 27, 27, 96)           0         ['batch_normalization[1][0]'] \n",
            " D)                                                                                               \n",
            "                                                                                                  \n",
            " conv2d_1 (Conv2D)           (None, 27, 27, 256)          614656    ['max_pooling2d[1][0]']       \n",
            "                                                                                                  \n",
            " p_re_lu_1 (PReLU)           (None, 27, 27, 256)          186624    ['conv2d_1[1][0]']            \n",
            "                                                                                                  \n",
            " batch_normalization_1 (Bat  (None, 27, 27, 256)          1024      ['p_re_lu_1[1][0]']           \n",
            " chNormalization)                                                                                 \n",
            "                                                                                                  \n",
            " max_pooling2d_1 (MaxPoolin  (None, 13, 13, 256)          0         ['batch_normalization_1[1][0]'\n",
            " g2D)                                                               ]                             \n",
            "                                                                                                  \n",
            " conv2d_2 (Conv2D)           (None, 13, 13, 384)          885120    ['max_pooling2d_1[1][0]']     \n",
            "                                                                                                  \n",
            " p_re_lu_2 (PReLU)           (None, 13, 13, 384)          64896     ['conv2d_2[1][0]']            \n",
            "                                                                                                  \n",
            " batch_normalization_2 (Bat  (None, 13, 13, 384)          1536      ['p_re_lu_2[1][0]']           \n",
            " chNormalization)                                                                                 \n",
            "                                                                                                  \n",
            " conv2d_3 (Conv2D)           (None, 13, 13, 384)          147840    ['batch_normalization_2[1][0]'\n",
            "                                                                    ]                             \n",
            "                                                                                                  \n",
            " p_re_lu_3 (PReLU)           (None, 13, 13, 384)          64896     ['conv2d_3[1][0]']            \n",
            "                                                                                                  \n",
            " batch_normalization_3 (Bat  (None, 13, 13, 384)          1536      ['p_re_lu_3[1][0]']           \n",
            " chNormalization)                                                                                 \n",
            "                                                                                                  \n",
            " global_max_pooling2d (Glob  (None, 384)                  0         ['batch_normalization_3[1][0]'\n",
            " alMaxPooling2D)                                                    ]                             \n",
            "                                                                                                  \n",
            " flatten (Flatten)           (None, 384)                  0         ['global_max_pooling2d[1][0]']\n",
            "                                                                                                  \n",
            " dense (Dense)               (None, 512)                  197120    ['flatten[1][0]']             \n",
            "                                                                                                  \n",
            " dense_1 (Dense)             (None, 384)                  196992    ['dense[1][0]']               \n",
            "                                                                                                  \n",
            " multiply (Multiply)         (None, 13, 13, 384)          0         ['batch_normalization_3[1][0]'\n",
            "                                                                    , 'dense_1[1][0]']            \n",
            "                                                                                                  \n",
            " conv2d_4 (Conv2D)           (None, 13, 13, 256)          98560     ['multiply[1][0]']            \n",
            "                                                                                                  \n",
            " p_re_lu_4 (PReLU)           (None, 13, 13, 256)          43264     ['conv2d_4[1][0]']            \n",
            "                                                                                                  \n",
            " batch_normalization_4 (Bat  (None, 13, 13, 256)          1024      ['p_re_lu_4[1][0]']           \n",
            " chNormalization)                                                                                 \n",
            "                                                                                                  \n",
            " max_pooling2d_2 (MaxPoolin  (None, 6, 6, 256)            0         ['batch_normalization_4[1][0]'\n",
            " g2D)                                                               ]                             \n",
            "                                                                                                  \n",
            " global_max_pooling2d_1 (Gl  (None, 256)                  0         ['max_pooling2d_2[1][0]']     \n",
            " obalMaxPooling2D)                                                                                \n",
            "                                                                                                  \n",
            " flatten_1 (Flatten)         (None, 256)                  0         ['global_max_pooling2d_1[1][0]\n",
            "                                                                    ']                            \n",
            "                                                                                                  \n",
            " dense_2 (Dense)             (None, 512)                  131584    ['flatten_1[1][0]']           \n",
            "                                                                                                  \n",
            " dense_3 (Dense)             (None, 256)                  131328    ['dense_2[1][0]']             \n",
            "                                                                                                  \n",
            " multiply_1 (Multiply)       (None, 6, 6, 256)            0         ['max_pooling2d_2[1][0]',     \n",
            "                                                                     'dense_3[1][0]']             \n",
            "                                                                                                  \n",
            " flatten_2 (Flatten)         (None, 9216)                 0         ['multiply_1[1][0]']          \n",
            "                                                                                                  \n",
            " dense_4 (Dense)             (None, 1024)                 9438208   ['flatten_2[1][0]']           \n",
            "                                                                                                  \n",
            " dropout (Dropout)           (None, 1024)                 0         ['dense_4[1][0]']             \n",
            "                                                                                                  \n",
            " dense_5 (Dense)             (None, 1024)                 1049600   ['dropout[1][0]']             \n",
            "                                                                                                  \n",
            " dropout_1 (Dropout)         (None, 1024)                 0         ['dense_5[1][0]']             \n",
            "                                                                                                  \n",
            " dense_6 (Dense)             (None, 2)                    2050      ['dropout_1[1][0]']           \n",
            "                                                                                                  \n",
            "==================================================================================================\n",
            "Total params: 13583586 (51.82 MB)\n",
            "Trainable params: 13580834 (51.81 MB)\n",
            "Non-trainable params: 2752 (10.75 KB)\n",
            "__________________________________________________________________________________________________\n"
          ]
        }
      ]
    },
    {
      "cell_type": "code",
      "source": [
        "alexnet.compile(\n",
        "    loss='sparse_categorical_crossentropy',\n",
        "    optimizer='adam',\n",
        "    metrics=['accuracy']\n",
        ")\n",
        "model_callbacks = [keras.callbacks.EarlyStopping(\n",
        "    monitor=\"val_loss\",\n",
        "    min_delta=1e-4,\n",
        "    patience=5,\n",
        "    verbose=1,\n",
        "    mode=\"auto\",\n",
        "    restore_best_weights=True,\n",
        "    start_from_epoch=40,\n",
        ")]\n",
        "batch_size = 16\n",
        "log = alexnet.fit(train_ds.batch(batch_size), epochs=100, verbose=2, validation_data=val_ds.batch(batch_size),\n",
        "                  callbacks=model_callbacks)"
      ],
      "metadata": {
        "colab": {
          "base_uri": "https://localhost:8080/"
        },
        "id": "QFnhmqWatPAq",
        "outputId": "1d40b7c6-b9b7-4ea2-c994-5ddf8d3c74ac"
      },
      "execution_count": 9,
      "outputs": [
        {
          "output_type": "stream",
          "name": "stdout",
          "text": [
            "Epoch 1/100\n",
            "192/192 - 24s - loss: 49.8509 - accuracy: 0.5422 - val_loss: 1.6645 - val_accuracy: 0.4692 - 24s/epoch - 123ms/step\n",
            "Epoch 2/100\n",
            "192/192 - 5s - loss: 1.4844 - accuracy: 0.5908 - val_loss: 1.9364 - val_accuracy: 0.4399 - 5s/epoch - 25ms/step\n",
            "Epoch 3/100\n",
            "192/192 - 5s - loss: 1.4293 - accuracy: 0.6029 - val_loss: 1.5189 - val_accuracy: 0.4809 - 5s/epoch - 26ms/step\n",
            "Epoch 4/100\n",
            "192/192 - 5s - loss: 1.4030 - accuracy: 0.6215 - val_loss: 1.6780 - val_accuracy: 0.5924 - 5s/epoch - 26ms/step\n",
            "Epoch 5/100\n",
            "192/192 - 5s - loss: 1.3870 - accuracy: 0.6290 - val_loss: 1.7188 - val_accuracy: 0.6070 - 5s/epoch - 26ms/step\n",
            "Epoch 6/100\n",
            "192/192 - 5s - loss: 1.3838 - accuracy: 0.6400 - val_loss: 1.4277 - val_accuracy: 0.6041 - 5s/epoch - 26ms/step\n",
            "Epoch 7/100\n",
            "192/192 - 5s - loss: 1.3783 - accuracy: 0.6404 - val_loss: 1.4321 - val_accuracy: 0.6246 - 5s/epoch - 26ms/step\n",
            "Epoch 8/100\n",
            "192/192 - 5s - loss: 1.3760 - accuracy: 0.6469 - val_loss: 1.4673 - val_accuracy: 0.6070 - 5s/epoch - 26ms/step\n",
            "Epoch 9/100\n",
            "192/192 - 5s - loss: 1.3601 - accuracy: 0.6521 - val_loss: 1.4467 - val_accuracy: 0.6364 - 5s/epoch - 26ms/step\n",
            "Epoch 10/100\n",
            "192/192 - 5s - loss: 1.3737 - accuracy: 0.6576 - val_loss: 1.4047 - val_accuracy: 0.6452 - 5s/epoch - 27ms/step\n",
            "Epoch 11/100\n",
            "192/192 - 5s - loss: 1.3556 - accuracy: 0.6684 - val_loss: 1.4167 - val_accuracy: 0.6364 - 5s/epoch - 26ms/step\n",
            "Epoch 12/100\n",
            "192/192 - 5s - loss: 1.3375 - accuracy: 0.6691 - val_loss: 1.4987 - val_accuracy: 0.6422 - 5s/epoch - 26ms/step\n",
            "Epoch 13/100\n",
            "192/192 - 5s - loss: 1.3313 - accuracy: 0.6909 - val_loss: 1.5947 - val_accuracy: 0.6540 - 5s/epoch - 27ms/step\n",
            "Epoch 14/100\n",
            "192/192 - 5s - loss: 1.3272 - accuracy: 0.6883 - val_loss: 1.3948 - val_accuracy: 0.6833 - 5s/epoch - 28ms/step\n",
            "Epoch 15/100\n",
            "192/192 - 5s - loss: 1.3203 - accuracy: 0.7121 - val_loss: 1.3925 - val_accuracy: 0.6657 - 5s/epoch - 27ms/step\n",
            "Epoch 16/100\n",
            "192/192 - 5s - loss: 1.3027 - accuracy: 0.7173 - val_loss: 1.4156 - val_accuracy: 0.6862 - 5s/epoch - 26ms/step\n",
            "Epoch 17/100\n",
            "192/192 - 5s - loss: 1.2888 - accuracy: 0.7434 - val_loss: 1.6265 - val_accuracy: 0.6422 - 5s/epoch - 27ms/step\n",
            "Epoch 18/100\n",
            "192/192 - 5s - loss: 1.2697 - accuracy: 0.7509 - val_loss: 1.4768 - val_accuracy: 0.7097 - 5s/epoch - 27ms/step\n",
            "Epoch 19/100\n",
            "192/192 - 5s - loss: 1.2637 - accuracy: 0.7649 - val_loss: 1.4101 - val_accuracy: 0.6745 - 5s/epoch - 27ms/step\n",
            "Epoch 20/100\n",
            "192/192 - 5s - loss: 1.2573 - accuracy: 0.7793 - val_loss: 1.7134 - val_accuracy: 0.6833 - 5s/epoch - 27ms/step\n",
            "Epoch 21/100\n",
            "192/192 - 5s - loss: 1.2034 - accuracy: 0.8027 - val_loss: 1.4652 - val_accuracy: 0.7097 - 5s/epoch - 27ms/step\n",
            "Epoch 22/100\n",
            "192/192 - 5s - loss: 1.2011 - accuracy: 0.8210 - val_loss: 1.3920 - val_accuracy: 0.7595 - 5s/epoch - 27ms/step\n",
            "Epoch 23/100\n",
            "192/192 - 5s - loss: 1.1407 - accuracy: 0.8458 - val_loss: 1.4174 - val_accuracy: 0.7419 - 5s/epoch - 27ms/step\n",
            "Epoch 24/100\n",
            "192/192 - 5s - loss: 1.1422 - accuracy: 0.8588 - val_loss: 1.6354 - val_accuracy: 0.7155 - 5s/epoch - 26ms/step\n",
            "Epoch 25/100\n",
            "192/192 - 5s - loss: 1.0773 - accuracy: 0.8820 - val_loss: 1.7265 - val_accuracy: 0.6862 - 5s/epoch - 27ms/step\n",
            "Epoch 26/100\n",
            "192/192 - 5s - loss: 1.0754 - accuracy: 0.8904 - val_loss: 1.4654 - val_accuracy: 0.7478 - 5s/epoch - 27ms/step\n",
            "Epoch 27/100\n",
            "192/192 - 5s - loss: 1.0612 - accuracy: 0.9054 - val_loss: 1.4543 - val_accuracy: 0.8094 - 5s/epoch - 27ms/step\n",
            "Epoch 28/100\n",
            "192/192 - 5s - loss: 1.0177 - accuracy: 0.9152 - val_loss: 1.3428 - val_accuracy: 0.8152 - 5s/epoch - 26ms/step\n",
            "Epoch 29/100\n",
            "192/192 - 5s - loss: 0.9836 - accuracy: 0.9361 - val_loss: 1.9845 - val_accuracy: 0.7126 - 5s/epoch - 27ms/step\n",
            "Epoch 30/100\n",
            "192/192 - 5s - loss: 1.0341 - accuracy: 0.9273 - val_loss: 1.6830 - val_accuracy: 0.7009 - 5s/epoch - 26ms/step\n",
            "Epoch 31/100\n",
            "192/192 - 5s - loss: 0.9209 - accuracy: 0.9514 - val_loss: 1.3992 - val_accuracy: 0.8123 - 5s/epoch - 27ms/step\n",
            "Epoch 32/100\n",
            "192/192 - 5s - loss: 0.9128 - accuracy: 0.9596 - val_loss: 1.7017 - val_accuracy: 0.7155 - 5s/epoch - 27ms/step\n",
            "Epoch 33/100\n",
            "192/192 - 5s - loss: 0.9301 - accuracy: 0.9560 - val_loss: 1.2960 - val_accuracy: 0.8358 - 5s/epoch - 27ms/step\n",
            "Epoch 34/100\n",
            "192/192 - 5s - loss: 0.8721 - accuracy: 0.9651 - val_loss: 2.1363 - val_accuracy: 0.7302 - 5s/epoch - 26ms/step\n",
            "Epoch 35/100\n",
            "192/192 - 5s - loss: 0.9105 - accuracy: 0.9635 - val_loss: 2.0732 - val_accuracy: 0.7067 - 5s/epoch - 27ms/step\n",
            "Epoch 36/100\n",
            "192/192 - 5s - loss: 0.9119 - accuracy: 0.9645 - val_loss: 2.2417 - val_accuracy: 0.7302 - 5s/epoch - 26ms/step\n",
            "Epoch 37/100\n",
            "192/192 - 5s - loss: 0.8874 - accuracy: 0.9687 - val_loss: 1.3051 - val_accuracy: 0.8563 - 5s/epoch - 26ms/step\n",
            "Epoch 38/100\n",
            "192/192 - 5s - loss: 0.8833 - accuracy: 0.9749 - val_loss: 1.5408 - val_accuracy: 0.8358 - 5s/epoch - 27ms/step\n",
            "Epoch 39/100\n",
            "192/192 - 6s - loss: 0.8838 - accuracy: 0.9716 - val_loss: 1.6127 - val_accuracy: 0.8592 - 6s/epoch - 29ms/step\n",
            "Epoch 40/100\n",
            "192/192 - 5s - loss: 0.9118 - accuracy: 0.9707 - val_loss: 1.2824 - val_accuracy: 0.8446 - 5s/epoch - 27ms/step\n",
            "Epoch 41/100\n",
            "192/192 - 5s - loss: 0.8493 - accuracy: 0.9804 - val_loss: 1.7970 - val_accuracy: 0.7625 - 5s/epoch - 27ms/step\n",
            "Epoch 42/100\n",
            "192/192 - 5s - loss: 0.8846 - accuracy: 0.9749 - val_loss: 1.6928 - val_accuracy: 0.8152 - 5s/epoch - 27ms/step\n",
            "Epoch 43/100\n",
            "192/192 - 5s - loss: 0.8638 - accuracy: 0.9759 - val_loss: 1.4208 - val_accuracy: 0.8622 - 5s/epoch - 27ms/step\n",
            "Epoch 44/100\n",
            "192/192 - 5s - loss: 0.8437 - accuracy: 0.9811 - val_loss: 1.4340 - val_accuracy: 0.8651 - 5s/epoch - 27ms/step\n",
            "Epoch 45/100\n",
            "192/192 - 5s - loss: 0.8307 - accuracy: 0.9850 - val_loss: 1.4028 - val_accuracy: 0.8592 - 5s/epoch - 27ms/step\n",
            "Epoch 46/100\n",
            "192/192 - 5s - loss: 0.8547 - accuracy: 0.9821 - val_loss: 1.6684 - val_accuracy: 0.8475 - 5s/epoch - 26ms/step\n",
            "Epoch 47/100\n",
            "192/192 - 5s - loss: 0.8854 - accuracy: 0.9785 - val_loss: 1.7690 - val_accuracy: 0.7537 - 5s/epoch - 27ms/step\n",
            "Epoch 48/100\n",
            "192/192 - 5s - loss: 0.8382 - accuracy: 0.9830 - val_loss: 1.4904 - val_accuracy: 0.8534 - 5s/epoch - 27ms/step\n",
            "Epoch 49/100\n",
            "192/192 - 5s - loss: 0.8589 - accuracy: 0.9821 - val_loss: 1.5022 - val_accuracy: 0.8211 - 5s/epoch - 27ms/step\n",
            "Epoch 50/100\n",
            "192/192 - 5s - loss: 0.8858 - accuracy: 0.9811 - val_loss: 1.3456 - val_accuracy: 0.8504 - 5s/epoch - 27ms/step\n",
            "Epoch 51/100\n",
            "192/192 - 5s - loss: 0.8633 - accuracy: 0.9804 - val_loss: 1.3327 - val_accuracy: 0.8680 - 5s/epoch - 27ms/step\n",
            "Epoch 52/100\n",
            "192/192 - 5s - loss: 0.8541 - accuracy: 0.9804 - val_loss: 1.7089 - val_accuracy: 0.7918 - 5s/epoch - 26ms/step\n",
            "Epoch 53/100\n",
            "192/192 - 5s - loss: 0.8363 - accuracy: 0.9863 - val_loss: 1.5205 - val_accuracy: 0.8504 - 5s/epoch - 27ms/step\n",
            "Epoch 54/100\n",
            "192/192 - 5s - loss: 0.8290 - accuracy: 0.9873 - val_loss: 1.8090 - val_accuracy: 0.8094 - 5s/epoch - 27ms/step\n",
            "Epoch 55/100\n",
            "192/192 - 5s - loss: 0.8994 - accuracy: 0.9769 - val_loss: 1.3509 - val_accuracy: 0.8358 - 5s/epoch - 27ms/step\n",
            "Epoch 56/100\n",
            "192/192 - 5s - loss: 0.8166 - accuracy: 0.9860 - val_loss: 1.2337 - val_accuracy: 0.8856 - 5s/epoch - 27ms/step\n",
            "Epoch 57/100\n",
            "192/192 - 5s - loss: 0.7985 - accuracy: 0.9935 - val_loss: 1.5497 - val_accuracy: 0.8768 - 5s/epoch - 27ms/step\n",
            "Epoch 58/100\n",
            "192/192 - 5s - loss: 0.8519 - accuracy: 0.9853 - val_loss: 1.6832 - val_accuracy: 0.8123 - 5s/epoch - 26ms/step\n",
            "Epoch 59/100\n",
            "192/192 - 5s - loss: 0.8818 - accuracy: 0.9782 - val_loss: 1.5149 - val_accuracy: 0.8446 - 5s/epoch - 27ms/step\n",
            "Epoch 60/100\n",
            "192/192 - 5s - loss: 0.8032 - accuracy: 0.9912 - val_loss: 1.3567 - val_accuracy: 0.8680 - 5s/epoch - 27ms/step\n",
            "Epoch 61/100\n",
            "Restoring model weights from the end of the best epoch: 56.\n",
            "192/192 - 5s - loss: 0.9085 - accuracy: 0.9782 - val_loss: 1.4873 - val_accuracy: 0.8651 - 5s/epoch - 27ms/step\n",
            "Epoch 61: early stopping\n"
          ]
        }
      ]
    },
    {
      "cell_type": "code",
      "source": [
        "from matplotlib import pyplot as plt\n",
        "plt.plot(log.history['loss'])\n",
        "plt.plot(log.history['val_loss'])\n",
        "plt.xlabel(\"Epochs\")\n",
        "plt.ylabel(\"Loss\")\n",
        "plt.legend([\"Train loss\", \"Val loss\"])\n",
        "plt.show()\n",
        "\n",
        "loss, acc = alexnet.evaluate(test_ds.batch(batch_size), verbose=0)\n",
        "print(\"Model performance on test dataset: \")\n",
        "print(f\"Loss: {loss}\")\n",
        "print(f\"Accuracy: {acc}\")\n",
        "\n",
        "y_pred = alexnet.predict(test_x.batch(batch_size))\n",
        "y_pred = tf.math.argmax(\n",
        "    y_pred,\n",
        "    axis=1)\n",
        "y_test_list = list(test_y.as_numpy_iterator())\n",
        "cm = tf.math.confusion_matrix(y_test_list, y_pred).numpy()\n",
        "print(cm)\n",
        "\n",
        "loss, acc = alexnet.evaluate(train_ds.batch(batch_size), verbose=0)\n",
        "print(\"Model performance on train dataset: \")\n",
        "print(f\"Loss: {loss}\")\n",
        "print(f\"Accuracy: {acc}\")\n",
        "\n",
        "y_pred = alexnet.predict(train_x.batch(batch_size))\n",
        "y_pred = tf.math.argmax(\n",
        "    y_pred,\n",
        "    axis=1)\n",
        "y_train_list = list(train_y.as_numpy_iterator())\n",
        "cm = tf.math.confusion_matrix(y_train_list, y_pred).numpy()\n",
        "print(cm)"
      ],
      "metadata": {
        "colab": {
          "base_uri": "https://localhost:8080/",
          "height": 663
        },
        "id": "rBFwdu2qtR8k",
        "outputId": "a56eaa47-69ae-4304-82fe-4b89b2ea1614"
      },
      "execution_count": 10,
      "outputs": [
        {
          "output_type": "display_data",
          "data": {
            "text/plain": [
              "<Figure size 640x480 with 1 Axes>"
            ],
            "image/png": "[encoded data removed]"
          },
          "metadata": {}
        },
        {
          "output_type": "stream",
          "name": "stdout",
          "text": [
            "Model performance on test dataset: \n",
            "Loss: 1.50283944606781\n",
            "Accuracy: 0.8849765062332153\n",
            "54/54 [==============================] - 1s 9ms/step\n",
            "[[477  53]\n",
            " [ 45 277]]\n",
            "Model performance on train dataset: \n",
            "Loss: 0.8017236590385437\n",
            "Accuracy: 0.9850016236305237\n",
            "192/192 [==============================] - 2s 10ms/step\n",
            "[[1809   24]\n",
            " [  22 1212]]\n"
          ]
        }
      ]
    },
    {
      "cell_type": "code",
      "source": [
        "plt.plot(log.history['accuracy'])\n",
        "plt.plot(log.history['val_accuracy'])\n",
        "plt.xlabel(\"Epochs\")\n",
        "plt.ylabel(\"Accuracy\")\n",
        "plt.legend([\"Train acc.\", \"Val acc.\"])\n",
        "plt.show()"
      ],
      "metadata": {
        "colab": {
          "base_uri": "https://localhost:8080/",
          "height": 449
        },
        "id": "L5-q9dbKtTx7",
        "outputId": "67afad1e-0eb9-43ba-956f-c7e12aeab4a0"
      },
      "execution_count": 11,
      "outputs": [
        {
          "output_type": "display_data",
          "data": {
            "text/plain": [
              "<Figure size 640x480 with 1 Axes>"
            ],
            "image/png": "[encoded data removed]"
          },
          "metadata": {}
        }
      ]
    },
    {
      "cell_type": "code",
      "source": [
        "from google.colab import drive\n",
        "drive.mount('/content/drive')\n",
        "alexnet.save('./drive/MyDrive/ch-multiple-attn-alexnet.h5')"
      ],
      "metadata": {
        "id": "RURqnb_hYdq-",
        "colab": {
          "base_uri": "https://localhost:8080/"
        },
        "outputId": "1786fdcf-e463-468c-dc05-d3f1e900d2c3"
      },
      "execution_count": 12,
      "outputs": [
        {
          "output_type": "stream",
          "name": "stdout",
          "text": [
            "Mounted at /content/drive\n"
          ]
        },
        {
          "output_type": "stream",
          "name": "stderr",
          "text": [
            "/usr/local/lib/python3.10/dist-packages/keras/src/engine/training.py:3000: UserWarning: You are saving your model as an HDF5 file via `model.save()`. This file format is considered legacy. We recommend using instead the native Keras format, e.g. `model.save('my_model.keras')`.\n",
            "  saving_api.save_model(\n"
          ]
        }
      ]
    },
    {
      "cell_type": "code",
      "source": [],
      "metadata": {
        "id": "CltvFjBHTQC-"
      },
      "execution_count": null,
      "outputs": []
    }
  ]
}