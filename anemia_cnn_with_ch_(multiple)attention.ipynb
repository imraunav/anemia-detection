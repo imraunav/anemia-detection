{
  "nbformat": 4,
  "nbformat_minor": 0,
  "metadata": {
    "colab": {
      "provenance": [],
      "gpuType": "T4"
    },
    "kernelspec": {
      "name": "python3",
      "display_name": "Python 3"
    },
    "language_info": {
      "name": "python"
    },
    "accelerator": "GPU"
  },
  "cells": [
    {
      "cell_type": "code",
      "execution_count": 1,
      "metadata": {
        "colab": {
          "base_uri": "https://localhost:8080/"
        },
        "id": "1urB7iias1vE",
        "outputId": "d731ddcf-abeb-4284-b064-becea168edbf"
      },
      "outputs": [
        {
          "output_type": "stream",
          "name": "stdout",
          "text": [
            "  % Total    % Received % Xferd  Average Speed   Time    Time     Time  Current\n",
            "                                 Dload  Upload   Total   Spent    Left  Speed\n",
            "100  231M  100  231M    0     0  28.3M      0  0:00:08  0:00:08 --:--:-- 34.0M\n",
            "Archive:  dataset.zip\n",
            "  inflating: Anemia Detection using Palpable Palm Image Datasets from Ghana/Palm.rar  \n"
          ]
        }
      ],
      "source": [
        "!curl -o dataset.zip https://prod-dcd-datasets-cache-zipfiles.s3.eu-west-1.amazonaws.com/ccr8cm22vz-1.zip\n",
        "!unzip dataset.zip\n",
        "!unrar x \"/content/Anemia Detection using Palpable Palm Image Datasets from Ghana/Palm.rar\" > op"
      ]
    },
    {
      "cell_type": "code",
      "source": [
        "import os\n",
        "import cv2\n",
        "import numpy as np\n",
        "from tqdm import tqdm\n",
        "\n",
        "anemic = []\n",
        "non_anemic = []\n",
        "for filename in os.listdir('/content/Palm/'):\n",
        "  if 'Non' in filename:\n",
        "    non_anemic.append(filename)\n",
        "  else:\n",
        "    anemic.append(filename)"
      ],
      "metadata": {
        "id": "93pChsH7s4vd"
      },
      "execution_count": 2,
      "outputs": []
    },
    {
      "cell_type": "code",
      "source": [
        "def read_img(filepath):\n",
        "  img = cv2.imread(filepath)\n",
        "  img = cv2.resize(img, (227, 227))\n",
        "  # img = cv2.cvtColor(img, cv2.COLOR_BGR2LAB)\n",
        "  # l, a, b = img[:, :, 0], img[:, :, 1], img[:, :, 2]\n",
        "  # return b\n",
        "  return img"
      ],
      "metadata": {
        "id": "Pf9T_nrhs5g9"
      },
      "execution_count": 3,
      "outputs": []
    },
    {
      "cell_type": "code",
      "source": [
        "dataset = []\n",
        "labels = []\n",
        "path = '/content/Palm/'\n",
        "for filename in tqdm(anemic):\n",
        "  labels.append(0)\n",
        "  img = read_img(os.path.join(path, filename))\n",
        "  dataset.append(img)\n",
        "for filename in tqdm(non_anemic):\n",
        "  labels.append(1)\n",
        "  img = read_img(os.path.join(path, filename))\n",
        "  dataset.append(img)\n",
        "dataset = np.array(dataset)\n",
        "labels = np.array(labels)"
      ],
      "metadata": {
        "colab": {
          "base_uri": "https://localhost:8080/"
        },
        "id": "M0kNCzUes8hT",
        "outputId": "e42b07b8-d883-495b-e90b-c89262db5f5d"
      },
      "execution_count": 4,
      "outputs": [
        {
          "output_type": "stream",
          "name": "stderr",
          "text": [
            "100%|██████████| 2562/2562 [00:10<00:00, 235.25it/s]\n",
            "100%|██████████| 1698/1698 [00:08<00:00, 202.70it/s]\n"
          ]
        }
      ]
    },
    {
      "cell_type": "code",
      "source": [
        "from sklearn.model_selection import train_test_split\n",
        "import tensorflow as tf\n",
        "\n",
        "train_x, test_x, train_y, test_y = train_test_split(dataset, labels, test_size=0.2, random_state=2)\n",
        "train_x = tf.data.Dataset.from_tensor_slices(train_x)\n",
        "test_x = tf.data.Dataset.from_tensor_slices(test_x)\n",
        "train_y = tf.data.Dataset.from_tensor_slices(train_y)\n",
        "test_y = tf.data.Dataset.from_tensor_slices(test_y)\n",
        "\n",
        "train_ds = tf.data.Dataset.zip((train_x, train_y))\n",
        "test_ds = tf.data.Dataset.zip((test_x, test_y))"
      ],
      "metadata": {
        "id": "zgJvPKaXs-hy"
      },
      "execution_count": 5,
      "outputs": []
    },
    {
      "cell_type": "code",
      "source": [
        "from tensorflow import keras"
      ],
      "metadata": {
        "id": "3zp8YpjhtARc"
      },
      "execution_count": 6,
      "outputs": []
    },
    {
      "cell_type": "code",
      "source": [
        "def build_alexnet(in_shape, classes):\n",
        "  '''\n",
        "  - Added PReLU instead of LeakyReLU\n",
        "  - Trying to incorporate spatial attention system after the last layer to improve results\n",
        "  '''\n",
        "  inputs = keras.Input(shape=(in_shape))\n",
        "  inputs = keras.layers.Rescaling(scale=1/255)(inputs)\n",
        "\n",
        "  c1 = keras.layers.Conv2D(filters=96, kernel_size=(11,11), strides=(4,4), input_shape=in_shape)(inputs)\n",
        "  c1 = keras.layers.PReLU()(c1)\n",
        "  c1 = keras.layers.BatchNormalization()(c1)\n",
        "  c1 = keras.layers.MaxPool2D(pool_size=(3,3), strides=(2,2))(c1)\n",
        "\n",
        "  c2 = keras.layers.Conv2D(filters=256, kernel_size=(5,5), strides=(1,1), padding=\"same\")(c1)\n",
        "  c2 = keras.layers.PReLU()(c2)\n",
        "  c2 = keras.layers.BatchNormalization()(c2)\n",
        "  c2 = keras.layers.MaxPool2D(pool_size=(3,3), strides=(2,2))(c2)\n",
        "\n",
        "  c3 = keras.layers.Conv2D(filters=384, kernel_size=(3,3), strides=(1,1), padding=\"same\")(c2)\n",
        "  c3 = keras.layers.PReLU()(c3)\n",
        "  c3 = keras.layers.BatchNormalization()(c3)\n",
        "\n",
        "  c4 = keras.layers.Conv2D(filters=384, kernel_size=(1,1), strides=(1,1), padding=\"same\")(c3)\n",
        "  c4 = keras.layers.PReLU()(c4)\n",
        "  c4 = keras.layers.BatchNormalization()(c4)\n",
        "\n",
        "  # adding a skip connection\n",
        "  # c4 = keras.layers.Add()([c3, c4])\n",
        "\n",
        "  # attention module\n",
        "  ch_attn1 = keras.layers.GlobalMaxPooling2D()(c4)\n",
        "  ch_attn1 = keras.layers.Flatten()(ch_attn1)\n",
        "  ch_attn1 = keras.layers.Dense(512, kernel_regularizer='l1_l2', activation='sigmoid')(ch_attn1)\n",
        "  ch_attn1 = keras.layers.Dense(384, kernel_regularizer='l1_l2', activation='sigmoid')(ch_attn1)\n",
        "  c4 = keras.layers.Multiply()([c4, ch_attn1]) # across channel attention\n",
        "\n",
        "\n",
        "  c5 = keras.layers.Conv2D(filters=256, kernel_size=(1,1), strides=(1,1), padding=\"same\")(c4)\n",
        "  c5 = keras.layers.PReLU()(c5)\n",
        "  c5 = keras.layers.BatchNormalization()(c5)\n",
        "  c5 = keras.layers.MaxPool2D(pool_size=(2,2))(c5)\n",
        "\n",
        "  # spatial attention is not making as much improvement as channel-attention is, hence permuting on channel-attention for now\n",
        "  # sp_attn = keras.layers.Conv2D(filters=1, kernel_size=(2, 2), strides=(1,1), padding=\"same\")(c5)\n",
        "  # sp_attn = keras.layers.Flatten()(sp_attn)\n",
        "  # sp_attn = keras.layers.Dense(128, kernel_regularizer='l1_l2', activation='tanh')(sp_attn) # add regularizer if overfitting\n",
        "  # sp_attn = keras.layers.Dense(6*6, kernel_regularizer='l1_l2', activation='sigmoid')(sp_attn) # add regularizer if overfitting\n",
        "  # sp_attn = keras.layers.Reshape((6,6,1))(sp_attn)\n",
        "  # sp_attn = keras.layers.Concatenate()([sp_attn for _ in range(256)]) # stacking same feature map 256 times for multiplication consistancy\n",
        "  # c5 = keras.layers.Multiply()([c5, sp_attn]) # across space attention\n",
        "\n",
        "  #attention module\n",
        "  ch_attn = keras.layers.GlobalMaxPooling2D()(c5)\n",
        "  ch_attn = keras.layers.Flatten()(ch_attn)\n",
        "  ch_attn = keras.layers.Dense(512, kernel_regularizer='l1_l2', activation='sigmoid')(ch_attn)\n",
        "  ch_attn = keras.layers.Dense(256, kernel_regularizer='l1_l2', activation='sigmoid')(ch_attn)\n",
        "  c5 = keras.layers.Multiply()([c5, ch_attn]) # across channel attention\n",
        "\n",
        "  f1 = keras.layers.Flatten()(c5)\n",
        "\n",
        "  l1 = keras.layers.Dense(1024,activation='relu')(f1)\n",
        "  l1 = keras.layers.Dropout(0.5)(l1)\n",
        "  l2 = keras.layers.Dense(1024,activation='relu')(l1)\n",
        "  l2 = keras.layers.Dropout(0.5)(l2)\n",
        "  l3 = keras.layers.Dense(classes,activation='softmax')(l2)\n",
        "\n",
        "  model = keras.Model(inputs=[inputs], outputs=[l3])\n",
        "  return model"
      ],
      "metadata": {
        "id": "bYHOXKQmtCFa"
      },
      "execution_count": 7,
      "outputs": []
    },
    {
      "cell_type": "code",
      "source": [
        "alexnet = build_alexnet((227, 227, 3), classes=2)\n",
        "alexnet.summary()"
      ],
      "metadata": {
        "colab": {
          "base_uri": "https://localhost:8080/"
        },
        "id": "y_D6qHqVtNZ5",
        "outputId": "3cb1848c-69c2-4607-d1ba-ab33421ad1c5"
      },
      "execution_count": 8,
      "outputs": [
        {
          "output_type": "stream",
          "name": "stdout",
          "text": [
            "Model: \"model\"\n",
            "__________________________________________________________________________________________________\n",
            " Layer (type)                Output Shape                 Param #   Connected to                  \n",
            "==================================================================================================\n",
            " input_2 (InputLayer)        [(None, 227, 227, 3)]        0         []                            \n",
            "                                                                                                  \n",
            " conv2d (Conv2D)             (None, 55, 55, 96)           34944     ['input_2[0][0]']             \n",
            "                                                                                                  \n",
            " p_re_lu (PReLU)             (None, 55, 55, 96)           290400    ['conv2d[1][0]']              \n",
            "                                                                                                  \n",
            " batch_normalization (Batch  (None, 55, 55, 96)           384       ['p_re_lu[1][0]']             \n",
            " Normalization)                                                                                   \n",
            "                                                                                                  \n",
            " max_pooling2d (MaxPooling2  (None, 27, 27, 96)           0         ['batch_normalization[1][0]'] \n",
            " D)                                                                                               \n",
            "                                                                                                  \n",
            " conv2d_1 (Conv2D)           (None, 27, 27, 256)          614656    ['max_pooling2d[1][0]']       \n",
            "                                                                                                  \n",
            " p_re_lu_1 (PReLU)           (None, 27, 27, 256)          186624    ['conv2d_1[1][0]']            \n",
            "                                                                                                  \n",
            " batch_normalization_1 (Bat  (None, 27, 27, 256)          1024      ['p_re_lu_1[1][0]']           \n",
            " chNormalization)                                                                                 \n",
            "                                                                                                  \n",
            " max_pooling2d_1 (MaxPoolin  (None, 13, 13, 256)          0         ['batch_normalization_1[1][0]'\n",
            " g2D)                                                               ]                             \n",
            "                                                                                                  \n",
            " conv2d_2 (Conv2D)           (None, 13, 13, 384)          885120    ['max_pooling2d_1[1][0]']     \n",
            "                                                                                                  \n",
            " p_re_lu_2 (PReLU)           (None, 13, 13, 384)          64896     ['conv2d_2[1][0]']            \n",
            "                                                                                                  \n",
            " batch_normalization_2 (Bat  (None, 13, 13, 384)          1536      ['p_re_lu_2[1][0]']           \n",
            " chNormalization)                                                                                 \n",
            "                                                                                                  \n",
            " conv2d_3 (Conv2D)           (None, 13, 13, 384)          147840    ['batch_normalization_2[1][0]'\n",
            "                                                                    ]                             \n",
            "                                                                                                  \n",
            " p_re_lu_3 (PReLU)           (None, 13, 13, 384)          64896     ['conv2d_3[1][0]']            \n",
            "                                                                                                  \n",
            " batch_normalization_3 (Bat  (None, 13, 13, 384)          1536      ['p_re_lu_3[1][0]']           \n",
            " chNormalization)                                                                                 \n",
            "                                                                                                  \n",
            " global_max_pooling2d (Glob  (None, 384)                  0         ['batch_normalization_3[1][0]'\n",
            " alMaxPooling2D)                                                    ]                             \n",
            "                                                                                                  \n",
            " flatten (Flatten)           (None, 384)                  0         ['global_max_pooling2d[1][0]']\n",
            "                                                                                                  \n",
            " dense (Dense)               (None, 512)                  197120    ['flatten[1][0]']             \n",
            "                                                                                                  \n",
            " dense_1 (Dense)             (None, 384)                  196992    ['dense[1][0]']               \n",
            "                                                                                                  \n",
            " multiply (Multiply)         (None, 13, 13, 384)          0         ['batch_normalization_3[1][0]'\n",
            "                                                                    , 'dense_1[1][0]']            \n",
            "                                                                                                  \n",
            " conv2d_4 (Conv2D)           (None, 13, 13, 256)          98560     ['multiply[1][0]']            \n",
            "                                                                                                  \n",
            " p_re_lu_4 (PReLU)           (None, 13, 13, 256)          43264     ['conv2d_4[1][0]']            \n",
            "                                                                                                  \n",
            " batch_normalization_4 (Bat  (None, 13, 13, 256)          1024      ['p_re_lu_4[1][0]']           \n",
            " chNormalization)                                                                                 \n",
            "                                                                                                  \n",
            " max_pooling2d_2 (MaxPoolin  (None, 6, 6, 256)            0         ['batch_normalization_4[1][0]'\n",
            " g2D)                                                               ]                             \n",
            "                                                                                                  \n",
            " global_max_pooling2d_1 (Gl  (None, 256)                  0         ['max_pooling2d_2[1][0]']     \n",
            " obalMaxPooling2D)                                                                                \n",
            "                                                                                                  \n",
            " flatten_1 (Flatten)         (None, 256)                  0         ['global_max_pooling2d_1[1][0]\n",
            "                                                                    ']                            \n",
            "                                                                                                  \n",
            " dense_2 (Dense)             (None, 512)                  131584    ['flatten_1[1][0]']           \n",
            "                                                                                                  \n",
            " dense_3 (Dense)             (None, 256)                  131328    ['dense_2[1][0]']             \n",
            "                                                                                                  \n",
            " multiply_1 (Multiply)       (None, 6, 6, 256)            0         ['max_pooling2d_2[1][0]',     \n",
            "                                                                     'dense_3[1][0]']             \n",
            "                                                                                                  \n",
            " flatten_2 (Flatten)         (None, 9216)                 0         ['multiply_1[1][0]']          \n",
            "                                                                                                  \n",
            " dense_4 (Dense)             (None, 1024)                 9438208   ['flatten_2[1][0]']           \n",
            "                                                                                                  \n",
            " dropout (Dropout)           (None, 1024)                 0         ['dense_4[1][0]']             \n",
            "                                                                                                  \n",
            " dense_5 (Dense)             (None, 1024)                 1049600   ['dropout[1][0]']             \n",
            "                                                                                                  \n",
            " dropout_1 (Dropout)         (None, 1024)                 0         ['dense_5[1][0]']             \n",
            "                                                                                                  \n",
            " dense_6 (Dense)             (None, 2)                    2050      ['dropout_1[1][0]']           \n",
            "                                                                                                  \n",
            "==================================================================================================\n",
            "Total params: 13583586 (51.82 MB)\n",
            "Trainable params: 13580834 (51.81 MB)\n",
            "Non-trainable params: 2752 (10.75 KB)\n",
            "__________________________________________________________________________________________________\n"
          ]
        }
      ]
    },
    {
      "cell_type": "code",
      "source": [
        "alexnet.compile(\n",
        "    loss='sparse_categorical_crossentropy',\n",
        "    optimizer='adam',\n",
        "    metrics=['accuracy']\n",
        ")\n",
        "model_callbacks = [keras.callbacks.EarlyStopping(\n",
        "    monitor=\"val_loss\",\n",
        "    min_delta=1e-4,\n",
        "    patience=5,\n",
        "    verbose=1,\n",
        "    mode=\"auto\",\n",
        "    restore_best_weights=True,\n",
        "    start_from_epoch=40,\n",
        ")]\n",
        "batch_size = 16\n",
        "log = alexnet.fit(train_ds.batch(batch_size), epochs=100, verbose=2, validation_data=test_ds.batch(batch_size),\n",
        "                  callbacks=model_callbacks)"
      ],
      "metadata": {
        "colab": {
          "base_uri": "https://localhost:8080/"
        },
        "id": "QFnhmqWatPAq",
        "outputId": "59e221e6-9b2f-4711-cfbb-b3b798caa855"
      },
      "execution_count": 9,
      "outputs": [
        {
          "output_type": "stream",
          "name": "stdout",
          "text": [
            "Epoch 1/100\n",
            "213/213 - 26s - loss: 45.3345 - accuracy: 0.5563 - val_loss: 1.4763 - val_accuracy: 0.5610 - 26s/epoch - 120ms/step\n",
            "Epoch 2/100\n",
            "213/213 - 6s - loss: 1.4668 - accuracy: 0.5880 - val_loss: 1.4073 - val_accuracy: 0.6338 - 6s/epoch - 28ms/step\n",
            "Epoch 3/100\n",
            "213/213 - 6s - loss: 1.4328 - accuracy: 0.6053 - val_loss: 1.4509 - val_accuracy: 0.6221 - 6s/epoch - 28ms/step\n",
            "Epoch 4/100\n",
            "213/213 - 6s - loss: 1.4110 - accuracy: 0.6136 - val_loss: 1.4183 - val_accuracy: 0.6068 - 6s/epoch - 28ms/step\n",
            "Epoch 5/100\n",
            "213/213 - 7s - loss: 1.4009 - accuracy: 0.6215 - val_loss: 1.4034 - val_accuracy: 0.6326 - 7s/epoch - 34ms/step\n",
            "Epoch 6/100\n",
            "213/213 - 6s - loss: 1.3866 - accuracy: 0.6450 - val_loss: 1.3673 - val_accuracy: 0.6643 - 6s/epoch - 28ms/step\n",
            "Epoch 7/100\n",
            "213/213 - 6s - loss: 1.3680 - accuracy: 0.6411 - val_loss: 1.3949 - val_accuracy: 0.6338 - 6s/epoch - 29ms/step\n",
            "Epoch 8/100\n",
            "213/213 - 6s - loss: 1.3527 - accuracy: 0.6532 - val_loss: 1.3365 - val_accuracy: 0.6725 - 6s/epoch - 29ms/step\n",
            "Epoch 9/100\n",
            "213/213 - 6s - loss: 1.3525 - accuracy: 0.6629 - val_loss: 1.3377 - val_accuracy: 0.6725 - 6s/epoch - 28ms/step\n",
            "Epoch 10/100\n",
            "213/213 - 6s - loss: 1.3502 - accuracy: 0.6719 - val_loss: 1.3155 - val_accuracy: 0.7136 - 6s/epoch - 29ms/step\n",
            "Epoch 11/100\n",
            "213/213 - 6s - loss: 1.3415 - accuracy: 0.6925 - val_loss: 1.3231 - val_accuracy: 0.7183 - 6s/epoch - 29ms/step\n",
            "Epoch 12/100\n",
            "213/213 - 6s - loss: 1.3469 - accuracy: 0.6890 - val_loss: 1.3519 - val_accuracy: 0.7089 - 6s/epoch - 30ms/step\n",
            "Epoch 13/100\n",
            "213/213 - 6s - loss: 1.3302 - accuracy: 0.7010 - val_loss: 1.3287 - val_accuracy: 0.7124 - 6s/epoch - 29ms/step\n",
            "Epoch 14/100\n",
            "213/213 - 6s - loss: 1.3190 - accuracy: 0.7201 - val_loss: 1.3466 - val_accuracy: 0.7007 - 6s/epoch - 29ms/step\n",
            "Epoch 15/100\n",
            "213/213 - 6s - loss: 1.2949 - accuracy: 0.7462 - val_loss: 1.3327 - val_accuracy: 0.7054 - 6s/epoch - 28ms/step\n",
            "Epoch 16/100\n",
            "213/213 - 6s - loss: 1.2756 - accuracy: 0.7661 - val_loss: 1.3395 - val_accuracy: 0.7207 - 6s/epoch - 28ms/step\n",
            "Epoch 17/100\n",
            "213/213 - 6s - loss: 1.2534 - accuracy: 0.7761 - val_loss: 1.2539 - val_accuracy: 0.7840 - 6s/epoch - 28ms/step\n",
            "Epoch 18/100\n",
            "213/213 - 6s - loss: 1.2119 - accuracy: 0.8081 - val_loss: 1.3370 - val_accuracy: 0.7347 - 6s/epoch - 29ms/step\n",
            "Epoch 19/100\n",
            "213/213 - 6s - loss: 1.1773 - accuracy: 0.8310 - val_loss: 1.3385 - val_accuracy: 0.7723 - 6s/epoch - 28ms/step\n",
            "Epoch 20/100\n",
            "213/213 - 6s - loss: 1.1659 - accuracy: 0.8465 - val_loss: 1.5834 - val_accuracy: 0.6854 - 6s/epoch - 28ms/step\n",
            "Epoch 21/100\n",
            "213/213 - 6s - loss: 1.1400 - accuracy: 0.8583 - val_loss: 1.3544 - val_accuracy: 0.7664 - 6s/epoch - 29ms/step\n",
            "Epoch 22/100\n",
            "213/213 - 6s - loss: 1.0975 - accuracy: 0.8891 - val_loss: 1.3781 - val_accuracy: 0.7676 - 6s/epoch - 28ms/step\n",
            "Epoch 23/100\n",
            "213/213 - 6s - loss: 1.0642 - accuracy: 0.9049 - val_loss: 1.2529 - val_accuracy: 0.8063 - 6s/epoch - 29ms/step\n",
            "Epoch 24/100\n",
            "213/213 - 6s - loss: 1.0050 - accuracy: 0.9296 - val_loss: 1.4789 - val_accuracy: 0.7911 - 6s/epoch - 29ms/step\n",
            "Epoch 25/100\n",
            "213/213 - 6s - loss: 0.9976 - accuracy: 0.9346 - val_loss: 1.2860 - val_accuracy: 0.8533 - 6s/epoch - 29ms/step\n",
            "Epoch 26/100\n",
            "213/213 - 6s - loss: 0.9879 - accuracy: 0.9381 - val_loss: 1.2511 - val_accuracy: 0.8533 - 6s/epoch - 28ms/step\n",
            "Epoch 27/100\n",
            "213/213 - 6s - loss: 0.9549 - accuracy: 0.9487 - val_loss: 1.3331 - val_accuracy: 0.8157 - 6s/epoch - 29ms/step\n",
            "Epoch 28/100\n",
            "213/213 - 6s - loss: 0.9541 - accuracy: 0.9519 - val_loss: 1.3364 - val_accuracy: 0.8685 - 6s/epoch - 29ms/step\n",
            "Epoch 29/100\n",
            "213/213 - 6s - loss: 0.9375 - accuracy: 0.9589 - val_loss: 1.1810 - val_accuracy: 0.8803 - 6s/epoch - 28ms/step\n",
            "Epoch 30/100\n",
            "213/213 - 6s - loss: 0.8942 - accuracy: 0.9718 - val_loss: 1.1461 - val_accuracy: 0.9049 - 6s/epoch - 29ms/step\n",
            "Epoch 31/100\n",
            "213/213 - 6s - loss: 0.8966 - accuracy: 0.9718 - val_loss: 1.4479 - val_accuracy: 0.8404 - 6s/epoch - 28ms/step\n",
            "Epoch 32/100\n",
            "213/213 - 6s - loss: 0.9350 - accuracy: 0.9642 - val_loss: 1.1780 - val_accuracy: 0.8979 - 6s/epoch - 28ms/step\n",
            "Epoch 33/100\n",
            "213/213 - 6s - loss: 0.8832 - accuracy: 0.9759 - val_loss: 1.1681 - val_accuracy: 0.9038 - 6s/epoch - 29ms/step\n",
            "Epoch 34/100\n",
            "213/213 - 6s - loss: 0.8768 - accuracy: 0.9751 - val_loss: 1.2778 - val_accuracy: 0.8979 - 6s/epoch - 28ms/step\n",
            "Epoch 35/100\n",
            "213/213 - 6s - loss: 0.8869 - accuracy: 0.9748 - val_loss: 1.3526 - val_accuracy: 0.8615 - 6s/epoch - 29ms/step\n",
            "Epoch 36/100\n",
            "213/213 - 6s - loss: 0.9220 - accuracy: 0.9686 - val_loss: 1.2103 - val_accuracy: 0.8885 - 6s/epoch - 28ms/step\n",
            "Epoch 37/100\n",
            "213/213 - 6s - loss: 0.8681 - accuracy: 0.9821 - val_loss: 1.1901 - val_accuracy: 0.9085 - 6s/epoch - 29ms/step\n",
            "Epoch 38/100\n",
            "213/213 - 6s - loss: 0.8692 - accuracy: 0.9798 - val_loss: 1.4599 - val_accuracy: 0.8697 - 6s/epoch - 29ms/step\n",
            "Epoch 39/100\n",
            "213/213 - 6s - loss: 0.8729 - accuracy: 0.9833 - val_loss: 1.2650 - val_accuracy: 0.8908 - 6s/epoch - 28ms/step\n",
            "Epoch 40/100\n",
            "213/213 - 6s - loss: 0.8788 - accuracy: 0.9809 - val_loss: 1.9459 - val_accuracy: 0.7535 - 6s/epoch - 29ms/step\n",
            "Epoch 41/100\n",
            "213/213 - 6s - loss: 0.8929 - accuracy: 0.9798 - val_loss: 1.3235 - val_accuracy: 0.8944 - 6s/epoch - 29ms/step\n",
            "Epoch 42/100\n",
            "213/213 - 6s - loss: 0.9010 - accuracy: 0.9774 - val_loss: 1.1853 - val_accuracy: 0.9108 - 6s/epoch - 29ms/step\n",
            "Epoch 43/100\n",
            "213/213 - 6s - loss: 0.8615 - accuracy: 0.9824 - val_loss: 1.1898 - val_accuracy: 0.9120 - 6s/epoch - 29ms/step\n",
            "Epoch 44/100\n",
            "213/213 - 6s - loss: 0.8505 - accuracy: 0.9839 - val_loss: 1.1840 - val_accuracy: 0.9237 - 6s/epoch - 29ms/step\n",
            "Epoch 45/100\n",
            "213/213 - 6s - loss: 0.8741 - accuracy: 0.9833 - val_loss: 1.1685 - val_accuracy: 0.9143 - 6s/epoch - 29ms/step\n",
            "Epoch 46/100\n",
            "213/213 - 6s - loss: 0.8903 - accuracy: 0.9806 - val_loss: 2.3770 - val_accuracy: 0.8122 - 6s/epoch - 29ms/step\n",
            "Epoch 47/100\n",
            "213/213 - 6s - loss: 0.8633 - accuracy: 0.9853 - val_loss: 1.4557 - val_accuracy: 0.8627 - 6s/epoch - 29ms/step\n",
            "Epoch 48/100\n",
            "213/213 - 6s - loss: 0.8805 - accuracy: 0.9824 - val_loss: 1.2457 - val_accuracy: 0.8944 - 6s/epoch - 29ms/step\n",
            "Epoch 49/100\n",
            "213/213 - 7s - loss: 0.8738 - accuracy: 0.9839 - val_loss: 1.3095 - val_accuracy: 0.8850 - 7s/epoch - 32ms/step\n",
            "Epoch 50/100\n",
            "Restoring model weights from the end of the best epoch: 45.\n",
            "213/213 - 6s - loss: 0.8690 - accuracy: 0.9847 - val_loss: 1.3974 - val_accuracy: 0.8803 - 6s/epoch - 29ms/step\n",
            "Epoch 50: early stopping\n"
          ]
        }
      ]
    },
    {
      "cell_type": "code",
      "source": [
        "from matplotlib import pyplot as plt\n",
        "plt.plot(log.history['loss'])\n",
        "plt.plot(log.history['val_loss'])\n",
        "plt.xlabel(\"Epochs\")\n",
        "plt.ylabel(\"Loss\")\n",
        "plt.legend([\"Train loss\", \"Val loss\"])\n",
        "plt.show()\n",
        "\n",
        "loss, acc = alexnet.evaluate(test_ds.batch(batch_size), verbose=0)\n",
        "print(\"Model performance on test dataset: \")\n",
        "print(f\"Loss: {loss}\")\n",
        "print(f\"Accuracy: {acc}\")\n",
        "\n",
        "y_pred = alexnet.predict(test_x.batch(batch_size))\n",
        "y_pred = tf.math.argmax(\n",
        "    y_pred,\n",
        "    axis=1)\n",
        "y_test_list = list(test_y.as_numpy_iterator())\n",
        "cm = tf.math.confusion_matrix(y_test_list, y_pred).numpy()\n",
        "print(cm)\n",
        "\n",
        "loss, acc = alexnet.evaluate(train_ds.batch(batch_size), verbose=0)\n",
        "print(\"Model performance on train dataset: \")\n",
        "print(f\"Loss: {loss}\")\n",
        "print(f\"Accuracy: {acc}\")\n",
        "\n",
        "y_pred = alexnet.predict(train_x.batch(batch_size))\n",
        "y_pred = tf.math.argmax(\n",
        "    y_pred,\n",
        "    axis=1)\n",
        "y_train_list = list(train_y.as_numpy_iterator())\n",
        "cm = tf.math.confusion_matrix(y_train_list, y_pred).numpy()\n",
        "print(cm)"
      ],
      "metadata": {
        "colab": {
          "base_uri": "https://localhost:8080/",
          "height": 663
        },
        "id": "rBFwdu2qtR8k",
        "outputId": "a7cbecd5-eba4-4bcb-985e-ef7e97ca3f26"
      },
      "execution_count": 10,
      "outputs": [
        {
          "output_type": "display_data",
          "data": {
            "text/plain": [
              "<Figure size 640x480 with 1 Axes>"
            ],
            "image/png": "[encoded data removed]"
          },
          "metadata": {}
        },
        {
          "output_type": "stream",
          "name": "stdout",
          "text": [
            "Model performance on test dataset: \n",
            "Loss: 1.1685370206832886\n",
            "Accuracy: 0.9143192768096924\n",
            "54/54 [==============================] - 1s 11ms/step\n",
            "[[495  35]\n",
            " [ 38 284]]\n",
            "Model performance on train dataset: \n",
            "Loss: 0.8837025165557861\n",
            "Accuracy: 0.9759389758110046\n",
            "213/213 [==============================] - 2s 10ms/step\n",
            "[[1983   49]\n",
            " [  33 1343]]\n"
          ]
        }
      ]
    },
    {
      "cell_type": "code",
      "source": [
        "plt.plot(log.history['accuracy'])\n",
        "plt.plot(log.history['val_accuracy'])\n",
        "plt.xlabel(\"Epochs\")\n",
        "plt.ylabel(\"Accuracy\")\n",
        "plt.legend([\"Train acc.\", \"Val acc.\"])\n",
        "plt.show()"
      ],
      "metadata": {
        "colab": {
          "base_uri": "https://localhost:8080/",
          "height": 450
        },
        "id": "L5-q9dbKtTx7",
        "outputId": "5976d77b-9e87-4e42-e753-05ac1b2cba73"
      },
      "execution_count": 11,
      "outputs": [
        {
          "output_type": "display_data",
          "data": {
            "text/plain": [
              "<Figure size 640x480 with 1 Axes>"
            ],
            "image/png": "[encoded data removed]"
          },
          "metadata": {}
        }
      ]
    },
    {
      "cell_type": "code",
      "source": [
        "from google.colab import drive\n",
        "drive.mount('/content/drive')\n",
        "alexnet.save('./drive/MyDrive/ch-multiple-attn-alexnet.h5')"
      ],
      "metadata": {
        "id": "RURqnb_hYdq-",
        "colab": {
          "base_uri": "https://localhost:8080/"
        },
        "outputId": "db35709b-b21f-4577-d0d0-bacdf105bf7b"
      },
      "execution_count": 12,
      "outputs": [
        {
          "output_type": "stream",
          "name": "stdout",
          "text": [
            "Mounted at /content/drive\n"
          ]
        },
        {
          "output_type": "stream",
          "name": "stderr",
          "text": [
            "/usr/local/lib/python3.10/dist-packages/keras/src/engine/training.py:3000: UserWarning: You are saving your model as an HDF5 file via `model.save()`. This file format is considered legacy. We recommend using instead the native Keras format, e.g. `model.save('my_model.keras')`.\n",
            "  saving_api.save_model(\n"
          ]
        }
      ]
    }
  ]
}